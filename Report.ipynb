{
 "cells": [
  {
   "cell_type": "markdown",
   "metadata": {},
   "source": [
    "# [Title]"
   ]
  },
  {
   "cell_type": "markdown",
   "metadata": {},
   "source": [
    "## 1. Introduction"
   ]
  },
  {
   "cell_type": "markdown",
   "metadata": {},
   "source": [
    "### 1.1 Literature review of the compound (<500 words)"
   ]
  },
  {
   "cell_type": "markdown",
   "metadata": {},
   "source": [
    "### 1.2 Literature review of the cell factory (<500 words)"
   ]
  },
  {
   "cell_type": "markdown",
   "metadata": {},
   "source": [
    "## 2. Problem definition (<300 words)"
   ]
  },
  {
   "cell_type": "markdown",
   "metadata": {},
   "source": [
    "## 3. *If Project category I:* Reconstruction of a new GSM for your cell factory host of interest (<1500 words)"
   ]
  },
  {
   "cell_type": "markdown",
   "metadata": {},
   "source": [
    "or"
   ]
  },
  {
   "cell_type": "markdown",
   "metadata": {},
   "source": [
    "## 3. *If Project category II:* Selection and assessment of existing GSM (<500 words)"
   ]
  },
  {
   "cell_type": "markdown",
   "metadata": {},
   "source": [
    "## 4. Computer-Aided Cell Factory Engineering (<1500 words if Category II project; <500 words for Category I project)"
   ]
  },
  {
   "cell_type": "markdown",
   "metadata": {},
   "source": [
    "## 5. Discussion (<500 words)"
   ]
  },
  {
   "cell_type": "markdown",
   "metadata": {},
   "source": [
    "## 6. Conclusion (<200 words)"
   ]
  },
  {
   "cell_type": "markdown",
   "metadata": {},
   "source": [
    "## References"
   ]
  },
  {
   "cell_type": "code",
   "execution_count": 1,
   "metadata": {},
   "outputs": [
    {
     "ename": "ModuleNotFoundError",
     "evalue": "No module named 'pandas'",
     "output_type": "error",
     "traceback": [
      "\u001b[0;31m---------------------------------------------------------------------------\u001b[0m",
      "\u001b[0;31mModuleNotFoundError\u001b[0m                       Traceback (most recent call last)",
      "\u001b[1;32m/Users/giannis/github-classroom/27410/group-assingment-team-4/Report.ipynb Cell 13\u001b[0m line \u001b[0;36m1\n\u001b[0;32m----> <a href='vscode-notebook-cell:/Users/giannis/github-classroom/27410/group-assingment-team-4/Report.ipynb#X15sZmlsZQ%3D%3D?line=0'>1</a>\u001b[0m \u001b[39mimport\u001b[39;00m \u001b[39mpandas\u001b[39;00m \u001b[39mas\u001b[39;00m \u001b[39mpd\u001b[39;00m\n\u001b[1;32m      <a href='vscode-notebook-cell:/Users/giannis/github-classroom/27410/group-assingment-team-4/Report.ipynb#X15sZmlsZQ%3D%3D?line=1'>2</a>\u001b[0m \u001b[39mimport\u001b[39;00m \u001b[39mmatplotlib\u001b[39;00m\u001b[39m.\u001b[39;00m\u001b[39mpyplot\u001b[39;00m \u001b[39mas\u001b[39;00m \u001b[39mplt\u001b[39;00m\n\u001b[1;32m      <a href='vscode-notebook-cell:/Users/giannis/github-classroom/27410/group-assingment-team-4/Report.ipynb#X15sZmlsZQ%3D%3D?line=2'>3</a>\u001b[0m \u001b[39mimport\u001b[39;00m \u001b[39mos\u001b[39;00m\n",
      "\u001b[0;31mModuleNotFoundError\u001b[0m: No module named 'pandas'"
     ]
    }
   ],
   "source": []
  },
  {
   "cell_type": "code",
   "execution_count": 1,
   "metadata": {},
   "outputs": [
    {
     "name": "stdout",
     "output_type": "stream",
     "text": [
      "Requirement already satisfied: alabaster==0.7.12 in /Users/wagner/anaconda3/lib/python3.11/site-packages (from -r Yeast_GEM/yeast-GEM-main/code/requirements/requirements.txt (line 7)) (0.7.12)\n",
      "Collecting anyio==3.6.1 (from -r Yeast_GEM/yeast-GEM-main/code/requirements/requirements.txt (line 9))\n",
      "  Using cached anyio-3.6.1-py3-none-any.whl (80 kB)\n",
      "Requirement already satisfied: appdirs==1.4.4 in /Users/wagner/anaconda3/lib/python3.11/site-packages (from -r Yeast_GEM/yeast-GEM-main/code/requirements/requirements.txt (line 11)) (1.4.4)\n",
      "Requirement already satisfied: argon2-cffi==21.3.0 in /Users/wagner/anaconda3/lib/python3.11/site-packages (from -r Yeast_GEM/yeast-GEM-main/code/requirements/requirements.txt (line 13)) (21.3.0)\n",
      "Requirement already satisfied: argon2-cffi-bindings==21.2.0 in /Users/wagner/anaconda3/lib/python3.11/site-packages (from -r Yeast_GEM/yeast-GEM-main/code/requirements/requirements.txt (line 15)) (21.2.0)\n",
      "Collecting arrow==1.2.2 (from -r Yeast_GEM/yeast-GEM-main/code/requirements/requirements.txt (line 17))\n",
      "  Using cached arrow-1.2.2-py3-none-any.whl (64 kB)\n",
      "Requirement already satisfied: asttokens==2.0.5 in /Users/wagner/anaconda3/lib/python3.11/site-packages (from -r Yeast_GEM/yeast-GEM-main/code/requirements/requirements.txt (line 19)) (2.0.5)\n",
      "Collecting attrs==21.4.0 (from -r Yeast_GEM/yeast-GEM-main/code/requirements/requirements.txt (line 21))\n",
      "  Using cached attrs-21.4.0-py2.py3-none-any.whl (60 kB)\n",
      "Collecting babel==2.10.3 (from -r Yeast_GEM/yeast-GEM-main/code/requirements/requirements.txt (line 26))\n",
      "  Using cached Babel-2.10.3-py3-none-any.whl (9.5 MB)\n",
      "Requirement already satisfied: backcall==0.2.0 in /Users/wagner/anaconda3/lib/python3.11/site-packages (from -r Yeast_GEM/yeast-GEM-main/code/requirements/requirements.txt (line 28)) (0.2.0)\n",
      "Collecting beautifulsoup4==4.11.1 (from -r Yeast_GEM/yeast-GEM-main/code/requirements/requirements.txt (line 30))\n",
      "  Using cached beautifulsoup4-4.11.1-py3-none-any.whl (128 kB)\n",
      "Requirement already satisfied: binaryornot==0.4.4 in /Users/wagner/anaconda3/lib/python3.11/site-packages (from -r Yeast_GEM/yeast-GEM-main/code/requirements/requirements.txt (line 32)) (0.4.4)\n",
      "Collecting bleach==5.0.0 (from -r Yeast_GEM/yeast-GEM-main/code/requirements/requirements.txt (line 34))\n",
      "  Using cached bleach-5.0.0-py3-none-any.whl (160 kB)\n",
      "Collecting boto3==1.24.10 (from -r Yeast_GEM/yeast-GEM-main/code/requirements/requirements.txt (line 36))\n",
      "  Using cached boto3-1.24.10-py3-none-any.whl (132 kB)\n",
      "Collecting botocore==1.27.10 (from -r Yeast_GEM/yeast-GEM-main/code/requirements/requirements.txt (line 38))\n",
      "  Using cached botocore-1.27.10-py3-none-any.whl (8.9 MB)\n",
      "Collecting cached-property==1.5.2 (from -r Yeast_GEM/yeast-GEM-main/code/requirements/requirements.txt (line 42))\n",
      "  Using cached cached_property-1.5.2-py2.py3-none-any.whl (7.6 kB)\n",
      "Collecting certifi==2022.6.15 (from -r Yeast_GEM/yeast-GEM-main/code/requirements/requirements.txt (line 44))\n",
      "  Using cached certifi-2022.6.15-py3-none-any.whl (160 kB)\n",
      "Collecting cffi==1.15.0 (from -r Yeast_GEM/yeast-GEM-main/code/requirements/requirements.txt (line 49))\n",
      "  Using cached cffi-1.15.0.tar.gz (484 kB)\n",
      "  Preparing metadata (setup.py) ... \u001b[?25ldone\n",
      "\u001b[?25hRequirement already satisfied: chardet==4.0.0 in /Users/wagner/anaconda3/lib/python3.11/site-packages (from -r Yeast_GEM/yeast-GEM-main/code/requirements/requirements.txt (line 53)) (4.0.0)\n",
      "Collecting charset-normalizer==2.0.12 (from -r Yeast_GEM/yeast-GEM-main/code/requirements/requirements.txt (line 58))\n",
      "  Using cached charset_normalizer-2.0.12-py3-none-any.whl (39 kB)\n",
      "Collecting click==8.1.3 (from -r Yeast_GEM/yeast-GEM-main/code/requirements/requirements.txt (line 60))\n",
      "  Using cached click-8.1.3-py3-none-any.whl (96 kB)\n",
      "Collecting click-configfile==0.2.3 (from -r Yeast_GEM/yeast-GEM-main/code/requirements/requirements.txt (line 72))\n",
      "  Using cached click_configfile-0.2.3-py2.py3-none-any.whl (10.0 kB)\n",
      "Collecting click-default-group==1.2.2 (from -r Yeast_GEM/yeast-GEM-main/code/requirements/requirements.txt (line 74))\n",
      "  Using cached click-default-group-1.2.2.tar.gz (3.3 kB)\n",
      "  Preparing metadata (setup.py) ... \u001b[?25ldone\n",
      "\u001b[?25hCollecting click-log==0.4.0 (from -r Yeast_GEM/yeast-GEM-main/code/requirements/requirements.txt (line 76))\n",
      "  Using cached click_log-0.4.0-py2.py3-none-any.whl (4.3 kB)\n",
      "Collecting cobra==0.25.0 (from -r Yeast_GEM/yeast-GEM-main/code/requirements/requirements.txt (line 78))\n",
      "  Using cached cobra-0.25.0-py2.py3-none-any.whl (1.2 MB)\n",
      "Collecting commonmark==0.9.1 (from -r Yeast_GEM/yeast-GEM-main/code/requirements/requirements.txt (line 82))\n",
      "  Using cached commonmark-0.9.1-py2.py3-none-any.whl (51 kB)\n",
      "Collecting configparser==5.2.0 (from -r Yeast_GEM/yeast-GEM-main/code/requirements/requirements.txt (line 84))\n",
      "  Using cached configparser-5.2.0-py3-none-any.whl (19 kB)\n",
      "Collecting cookiecutter==2.1.1 (from -r Yeast_GEM/yeast-GEM-main/code/requirements/requirements.txt (line 86))\n",
      "  Using cached cookiecutter-2.1.1-py2.py3-none-any.whl (36 kB)\n",
      "Collecting cryptography==37.0.2 (from -r Yeast_GEM/yeast-GEM-main/code/requirements/requirements.txt (line 88))\n",
      "  Using cached cryptography-37.0.2-cp36-abi3-macosx_10_10_universal2.whl (5.3 MB)\n",
      "Collecting datapackage==1.15.2 (from -r Yeast_GEM/yeast-GEM-main/code/requirements/requirements.txt (line 90))\n",
      "  Using cached datapackage-1.15.2-py2.py3-none-any.whl (85 kB)\n",
      "Collecting debugpy==1.6.0 (from -r Yeast_GEM/yeast-GEM-main/code/requirements/requirements.txt (line 92))\n",
      "  Using cached debugpy-1.6.0-py2.py3-none-any.whl (4.1 MB)\n",
      "Requirement already satisfied: decorator==5.1.1 in /Users/wagner/anaconda3/lib/python3.11/site-packages (from -r Yeast_GEM/yeast-GEM-main/code/requirements/requirements.txt (line 94)) (5.1.1)\n",
      "Requirement already satisfied: defusedxml==0.7.1 in /Users/wagner/anaconda3/lib/python3.11/site-packages (from -r Yeast_GEM/yeast-GEM-main/code/requirements/requirements.txt (line 96)) (0.7.1)\n",
      "Requirement already satisfied: depinfo==1.7.0 in /Users/wagner/anaconda3/lib/python3.11/site-packages (from -r Yeast_GEM/yeast-GEM-main/code/requirements/requirements.txt (line 98)) (1.7.0)\n",
      "Collecting diskcache==5.4.0 (from -r Yeast_GEM/yeast-GEM-main/code/requirements/requirements.txt (line 102))\n",
      "  Using cached diskcache-5.4.0-py3-none-any.whl (44 kB)\n",
      "Requirement already satisfied: docutils==0.18.1 in /Users/wagner/anaconda3/lib/python3.11/site-packages (from -r Yeast_GEM/yeast-GEM-main/code/requirements/requirements.txt (line 104)) (0.18.1)\n",
      "Requirement already satisfied: entrypoints==0.4 in /Users/wagner/anaconda3/lib/python3.11/site-packages (from -r Yeast_GEM/yeast-GEM-main/code/requirements/requirements.txt (line 108)) (0.4)\n",
      "Requirement already satisfied: et-xmlfile==1.1.0 in /Users/wagner/anaconda3/lib/python3.11/site-packages (from -r Yeast_GEM/yeast-GEM-main/code/requirements/requirements.txt (line 112)) (1.1.0)\n",
      "Requirement already satisfied: executing==0.8.3 in /Users/wagner/anaconda3/lib/python3.11/site-packages (from -r Yeast_GEM/yeast-GEM-main/code/requirements/requirements.txt (line 114)) (0.8.3)\n",
      "Collecting fastjsonschema==2.15.3 (from -r Yeast_GEM/yeast-GEM-main/code/requirements/requirements.txt (line 116))\n",
      "  Using cached fastjsonschema-2.15.3-py3-none-any.whl (22 kB)\n",
      "Collecting future==0.18.2 (from -r Yeast_GEM/yeast-GEM-main/code/requirements/requirements.txt (line 118))\n",
      "  Using cached future-0.18.2.tar.gz (829 kB)\n",
      "  Preparing metadata (setup.py) ... \u001b[?25ldone\n",
      "\u001b[?25hCollecting gitdb==4.0.9 (from -r Yeast_GEM/yeast-GEM-main/code/requirements/requirements.txt (line 122))\n",
      "  Using cached gitdb-4.0.9-py3-none-any.whl (63 kB)\n",
      "Collecting gitpython==3.1.27 (from -r Yeast_GEM/yeast-GEM-main/code/requirements/requirements.txt (line 124))\n",
      "  Using cached GitPython-3.1.27-py3-none-any.whl (181 kB)\n",
      "Collecting goodtables==2.5.4 (from -r Yeast_GEM/yeast-GEM-main/code/requirements/requirements.txt (line 126))\n",
      "  Using cached goodtables-2.5.4-py2.py3-none-any.whl (58 kB)\n",
      "Collecting greenlet==1.1.2 (from -r Yeast_GEM/yeast-GEM-main/code/requirements/requirements.txt (line 128))\n",
      "  Using cached greenlet-1.1.2.tar.gz (91 kB)\n",
      "  Preparing metadata (setup.py) ... \u001b[?25ldone\n",
      "\u001b[?25hCollecting h11==0.12.0 (from -r Yeast_GEM/yeast-GEM-main/code/requirements/requirements.txt (line 130))\n",
      "  Using cached h11-0.12.0-py3-none-any.whl (54 kB)\n",
      "Collecting httpcore==0.15.0 (from -r Yeast_GEM/yeast-GEM-main/code/requirements/requirements.txt (line 132))\n",
      "  Using cached httpcore-0.15.0-py3-none-any.whl (68 kB)\n",
      "Collecting httpx==0.23.0 (from -r Yeast_GEM/yeast-GEM-main/code/requirements/requirements.txt (line 134))\n",
      "  Using cached httpx-0.23.0-py3-none-any.whl (84 kB)\n",
      "Collecting idna==3.3 (from -r Yeast_GEM/yeast-GEM-main/code/requirements/requirements.txt (line 136))\n",
      "  Using cached idna-3.3-py3-none-any.whl (61 kB)\n",
      "Collecting ijson==3.1.4 (from -r Yeast_GEM/yeast-GEM-main/code/requirements/requirements.txt (line 141))\n",
      "  Using cached ijson-3.1.4.tar.gz (56 kB)\n",
      "  Preparing metadata (setup.py) ... \u001b[?25ldone\n",
      "\u001b[?25hCollecting imagesize==1.3.0 (from -r Yeast_GEM/yeast-GEM-main/code/requirements/requirements.txt (line 143))\n",
      "  Using cached imagesize-1.3.0-py2.py3-none-any.whl (5.2 kB)\n",
      "Collecting importlib-metadata==4.11.4 (from -r Yeast_GEM/yeast-GEM-main/code/requirements/requirements.txt (line 145))\n",
      "  Using cached importlib_metadata-4.11.4-py3-none-any.whl (18 kB)\n",
      "Collecting importlib-resources==5.8.0 (from -r Yeast_GEM/yeast-GEM-main/code/requirements/requirements.txt (line 147))\n",
      "  Using cached importlib_resources-5.8.0-py3-none-any.whl (28 kB)\n",
      "Requirement already satisfied: iniconfig==1.1.1 in /Users/wagner/anaconda3/lib/python3.11/site-packages (from -r Yeast_GEM/yeast-GEM-main/code/requirements/requirements.txt (line 151)) (1.1.1)\n",
      "Collecting ipykernel==6.15.0 (from -r Yeast_GEM/yeast-GEM-main/code/requirements/requirements.txt (line 153))\n",
      "  Using cached ipykernel-6.15.0-py3-none-any.whl (133 kB)\n",
      "Collecting ipython==8.4.0 (from -r Yeast_GEM/yeast-GEM-main/code/requirements/requirements.txt (line 155))\n",
      "  Using cached ipython-8.4.0-py3-none-any.whl (750 kB)\n",
      "Requirement already satisfied: ipython-genutils==0.2.0 in /Users/wagner/anaconda3/lib/python3.11/site-packages (from -r Yeast_GEM/yeast-GEM-main/code/requirements/requirements.txt (line 157)) (0.2.0)\n",
      "Collecting isodate==0.6.1 (from -r Yeast_GEM/yeast-GEM-main/code/requirements/requirements.txt (line 159))\n",
      "  Using cached isodate-0.6.1-py2.py3-none-any.whl (41 kB)\n",
      "Requirement already satisfied: jedi==0.18.1 in /Users/wagner/anaconda3/lib/python3.11/site-packages (from -r Yeast_GEM/yeast-GEM-main/code/requirements/requirements.txt (line 161)) (0.18.1)\n",
      "Collecting jinja2==3.1.2 (from -r Yeast_GEM/yeast-GEM-main/code/requirements/requirements.txt (line 163))\n",
      "  Using cached Jinja2-3.1.2-py3-none-any.whl (133 kB)\n",
      "Requirement already satisfied: jinja2-time==0.2.0 in /Users/wagner/anaconda3/lib/python3.11/site-packages (from -r Yeast_GEM/yeast-GEM-main/code/requirements/requirements.txt (line 172)) (0.2.0)\n",
      "Collecting jmespath==1.0.0 (from -r Yeast_GEM/yeast-GEM-main/code/requirements/requirements.txt (line 174))\n",
      "  Using cached jmespath-1.0.0-py3-none-any.whl (23 kB)\n",
      "Collecting jsonlines==3.0.0 (from -r Yeast_GEM/yeast-GEM-main/code/requirements/requirements.txt (line 178))\n",
      "  Using cached jsonlines-3.0.0-py3-none-any.whl (8.5 kB)\n",
      "Collecting jsonpointer==2.3 (from -r Yeast_GEM/yeast-GEM-main/code/requirements/requirements.txt (line 180))\n",
      "  Using cached jsonpointer-2.3-py2.py3-none-any.whl (7.8 kB)\n",
      "Collecting jsonschema==4.6.0 (from -r Yeast_GEM/yeast-GEM-main/code/requirements/requirements.txt (line 182))\n",
      "  Using cached jsonschema-4.6.0-py3-none-any.whl (80 kB)\n",
      "Collecting jupyter-client==7.3.4 (from -r Yeast_GEM/yeast-GEM-main/code/requirements/requirements.txt (line 187))\n",
      "  Using cached jupyter_client-7.3.4-py3-none-any.whl (132 kB)\n",
      "Collecting jupyter-core==4.10.0 (from -r Yeast_GEM/yeast-GEM-main/code/requirements/requirements.txt (line 192))\n",
      "  Using cached jupyter_core-4.10.0-py3-none-any.whl (87 kB)\n",
      "Collecting jupyterlab-pygments==0.2.2 (from -r Yeast_GEM/yeast-GEM-main/code/requirements/requirements.txt (line 198))\n",
      "  Using cached jupyterlab_pygments-0.2.2-py2.py3-none-any.whl (21 kB)\n",
      "Collecting linear-tsv==1.1.0 (from -r Yeast_GEM/yeast-GEM-main/code/requirements/requirements.txt (line 200))\n",
      "  Using cached linear-tsv-1.1.0.tar.gz (9.6 kB)\n",
      "  Preparing metadata (setup.py) ... \u001b[?25ldone\n",
      "\u001b[?25hCollecting markupsafe==2.1.1 (from -r Yeast_GEM/yeast-GEM-main/code/requirements/requirements.txt (line 202))\n",
      "  Using cached MarkupSafe-2.1.1.tar.gz (18 kB)\n",
      "  Preparing metadata (setup.py) ... \u001b[?25ldone\n",
      "\u001b[?25hCollecting matplotlib-inline==0.1.3 (from -r Yeast_GEM/yeast-GEM-main/code/requirements/requirements.txt (line 206))\n",
      "  Using cached matplotlib_inline-0.1.3-py3-none-any.whl (8.2 kB)\n",
      "Collecting memote==0.13.0 (from -r Yeast_GEM/yeast-GEM-main/code/requirements/requirements.txt (line 210))\n",
      "  Using cached memote-0.13.0-py2.py3-none-any.whl (966 kB)\n",
      "Requirement already satisfied: mistune==0.8.4 in /Users/wagner/anaconda3/lib/python3.11/site-packages (from -r Yeast_GEM/yeast-GEM-main/code/requirements/requirements.txt (line 212)) (0.8.4)\n",
      "Collecting mpmath==1.2.1 (from -r Yeast_GEM/yeast-GEM-main/code/requirements/requirements.txt (line 214))\n",
      "  Using cached mpmath-1.2.1-py3-none-any.whl (532 kB)\n",
      "Collecting nbclient==0.6.4 (from -r Yeast_GEM/yeast-GEM-main/code/requirements/requirements.txt (line 216))\n",
      "  Using cached nbclient-0.6.4-py3-none-any.whl (71 kB)\n",
      "Collecting nbconvert==6.5.0 (from -r Yeast_GEM/yeast-GEM-main/code/requirements/requirements.txt (line 218))\n",
      "  Using cached nbconvert-6.5.0-py3-none-any.whl (561 kB)\n",
      "Collecting nbformat==5.4.0 (from -r Yeast_GEM/yeast-GEM-main/code/requirements/requirements.txt (line 220))\n",
      "  Using cached nbformat-5.4.0-py3-none-any.whl (73 kB)\n",
      "Collecting nest-asyncio==1.5.5 (from -r Yeast_GEM/yeast-GEM-main/code/requirements/requirements.txt (line 225))\n",
      "  Using cached nest_asyncio-1.5.5-py3-none-any.whl (5.2 kB)\n",
      "Collecting notebook==6.4.12 (from -r Yeast_GEM/yeast-GEM-main/code/requirements/requirements.txt (line 231))\n",
      "  Using cached notebook-6.4.12-py3-none-any.whl (9.9 MB)\n",
      "Collecting numpy==1.22.4 (from -r Yeast_GEM/yeast-GEM-main/code/requirements/requirements.txt (line 233))\n",
      "  Using cached numpy-1.22.4.zip (11.5 MB)\n",
      "  Installing build dependencies ... \u001b[?25ldone\n",
      "\u001b[?25h  Getting requirements to build wheel ... \u001b[?25ldone\n",
      "\u001b[?25h  Preparing metadata (pyproject.toml) ... \u001b[?25ldone\n",
      "\u001b[?25hCollecting numpydoc==1.4.0 (from -r Yeast_GEM/yeast-GEM-main/code/requirements/requirements.txt (line 237))\n",
      "  Using cached numpydoc-1.4.0-py3-none-any.whl (51 kB)\n",
      "Requirement already satisfied: openpyxl==3.0.10 in /Users/wagner/anaconda3/lib/python3.11/site-packages (from -r Yeast_GEM/yeast-GEM-main/code/requirements/requirements.txt (line 239)) (3.0.10)\n",
      "Collecting optlang==1.5.2 (from -r Yeast_GEM/yeast-GEM-main/code/requirements/requirements.txt (line 241))\n",
      "  Using cached optlang-1.5.2-py2.py3-none-any.whl (147 kB)\n",
      "Collecting packaging==21.3 (from -r Yeast_GEM/yeast-GEM-main/code/requirements/requirements.txt (line 243))\n",
      "  Using cached packaging-21.3-py3-none-any.whl (40 kB)\n",
      "Collecting pandas==1.4.2 (from -r Yeast_GEM/yeast-GEM-main/code/requirements/requirements.txt (line 249))\n",
      "  Using cached pandas-1.4.2.tar.gz (4.9 MB)\n",
      "  Installing build dependencies ... \u001b[?25ldone\n",
      "\u001b[?25h  Getting requirements to build wheel ... \u001b[?25ldone\n",
      "\u001b[?25h  Preparing metadata (pyproject.toml) ... \u001b[?25ldone\n",
      "\u001b[?25hRequirement already satisfied: pandocfilters==1.5.0 in /Users/wagner/anaconda3/lib/python3.11/site-packages (from -r Yeast_GEM/yeast-GEM-main/code/requirements/requirements.txt (line 253)) (1.5.0)\n",
      "Requirement already satisfied: parso==0.8.3 in /Users/wagner/anaconda3/lib/python3.11/site-packages (from -r Yeast_GEM/yeast-GEM-main/code/requirements/requirements.txt (line 255)) (0.8.3)\n",
      "Requirement already satisfied: pexpect==4.8.0 in /Users/wagner/anaconda3/lib/python3.11/site-packages (from -r Yeast_GEM/yeast-GEM-main/code/requirements/requirements.txt (line 257)) (4.8.0)\n",
      "Requirement already satisfied: pickleshare==0.7.5 in /Users/wagner/anaconda3/lib/python3.11/site-packages (from -r Yeast_GEM/yeast-GEM-main/code/requirements/requirements.txt (line 259)) (0.7.5)\n",
      "Collecting pluggy==1.0.0 (from -r Yeast_GEM/yeast-GEM-main/code/requirements/requirements.txt (line 261))\n",
      "  Using cached pluggy-1.0.0-py2.py3-none-any.whl (13 kB)\n",
      "Requirement already satisfied: prometheus-client==0.14.1 in /Users/wagner/anaconda3/lib/python3.11/site-packages (from -r Yeast_GEM/yeast-GEM-main/code/requirements/requirements.txt (line 263)) (0.14.1)\n",
      "Collecting prompt-toolkit==3.0.29 (from -r Yeast_GEM/yeast-GEM-main/code/requirements/requirements.txt (line 265))\n",
      "  Using cached prompt_toolkit-3.0.29-py3-none-any.whl (381 kB)\n",
      "Collecting psutil==5.9.1 (from -r Yeast_GEM/yeast-GEM-main/code/requirements/requirements.txt (line 267))\n",
      "  Using cached psutil-5.9.1.tar.gz (479 kB)\n",
      "  Installing build dependencies ... \u001b[?25ldone\n",
      "\u001b[?25h  Getting requirements to build wheel ... \u001b[?25ldone\n",
      "\u001b[?25h  Preparing metadata (pyproject.toml) ... \u001b[?25ldone\n",
      "\u001b[?25hRequirement already satisfied: ptyprocess==0.7.0 in /Users/wagner/anaconda3/lib/python3.11/site-packages (from -r Yeast_GEM/yeast-GEM-main/code/requirements/requirements.txt (line 269)) (0.7.0)\n",
      "Requirement already satisfied: pure-eval==0.2.2 in /Users/wagner/anaconda3/lib/python3.11/site-packages (from -r Yeast_GEM/yeast-GEM-main/code/requirements/requirements.txt (line 273)) (0.2.2)\n",
      "Requirement already satisfied: py==1.11.0 in /Users/wagner/anaconda3/lib/python3.11/site-packages (from -r Yeast_GEM/yeast-GEM-main/code/requirements/requirements.txt (line 275)) (1.11.0)\n",
      "Requirement already satisfied: pycparser==2.21 in /Users/wagner/anaconda3/lib/python3.11/site-packages (from -r Yeast_GEM/yeast-GEM-main/code/requirements/requirements.txt (line 277)) (2.21)\n",
      "Collecting pydantic==1.9.1 (from -r Yeast_GEM/yeast-GEM-main/code/requirements/requirements.txt (line 279))\n",
      "  Using cached pydantic-1.9.1-py3-none-any.whl (142 kB)\n",
      "Collecting pygments==2.12.0 (from -r Yeast_GEM/yeast-GEM-main/code/requirements/requirements.txt (line 281))\n",
      "  Using cached Pygments-2.12.0-py3-none-any.whl (1.1 MB)\n",
      "Collecting pylru==1.2.1 (from -r Yeast_GEM/yeast-GEM-main/code/requirements/requirements.txt (line 287))\n",
      "  Using cached pylru-1.2.1-py3-none-any.whl (16 kB)\n",
      "Requirement already satisfied: pyparsing==3.0.9 in /Users/wagner/anaconda3/lib/python3.11/site-packages (from -r Yeast_GEM/yeast-GEM-main/code/requirements/requirements.txt (line 289)) (3.0.9)\n",
      "Collecting pyperclip==1.6.0 (from -r Yeast_GEM/yeast-GEM-main/code/requirements/requirements.txt (line 291))\n",
      "  Using cached pyperclip-1.6.0.tar.gz (14 kB)\n",
      "  Preparing metadata (setup.py) ... \u001b[?25ldone\n",
      "\u001b[?25hCollecting pyrsistent==0.18.1 (from -r Yeast_GEM/yeast-GEM-main/code/requirements/requirements.txt (line 293))\n",
      "  Using cached pyrsistent-0.18.1.tar.gz (100 kB)\n",
      "  Installing build dependencies ... \u001b[?25ldone\n",
      "\u001b[?25h  Getting requirements to build wheel ... \u001b[?25ldone\n",
      "\u001b[?25h  Preparing metadata (pyproject.toml) ... \u001b[?25ldone\n",
      "\u001b[?25hCollecting pytest==7.1.2 (from -r Yeast_GEM/yeast-GEM-main/code/requirements/requirements.txt (line 295))\n",
      "  Using cached pytest-7.1.2-py3-none-any.whl (297 kB)\n",
      "Requirement already satisfied: python-dateutil==2.8.2 in /Users/wagner/anaconda3/lib/python3.11/site-packages (from -r Yeast_GEM/yeast-GEM-main/code/requirements/requirements.txt (line 297)) (2.8.2)\n",
      "Collecting python-dotenv==0.20.0 (from -r Yeast_GEM/yeast-GEM-main/code/requirements/requirements.txt (line 304))\n",
      "  Using cached python_dotenv-0.20.0-py3-none-any.whl (17 kB)\n",
      "\u001b[31mERROR: Ignored the following versions that require a different python version: 1.21.2 Requires-Python >=3.7,<3.11; 1.21.3 Requires-Python >=3.7,<3.11; 1.21.4 Requires-Python >=3.7,<3.11; 1.21.5 Requires-Python >=3.7,<3.11; 1.21.6 Requires-Python >=3.7,<3.11\u001b[0m\u001b[31m\n",
      "\u001b[0m\u001b[31mERROR: Could not find a version that satisfies the requirement python-libsbml==5.19.5 (from versions: 5.10.0, 5.10.1, 5.10.2, 5.11.0, 5.11.4, 5.12.1, 5.13.0, 5.15.0, 5.16.0, 5.17.0, 5.18.0, 5.19.0, 5.19.2, 5.19.7, 5.20.0, 5.20.1, 5.20.2)\u001b[0m\u001b[31m\n",
      "\u001b[0m\u001b[31mERROR: No matching distribution found for python-libsbml==5.19.5\u001b[0m\u001b[31m\n",
      "\u001b[0mNote: you may need to restart the kernel to use updated packages.\n"
     ]
    }
   ],
   "source": [
    "pip install -r Yeast_GEM/yeast-GEM-main/code/requirements/requirements.txt  # install all dependencies"
   ]
  },
  {
   "cell_type": "code",
   "execution_count": null,
   "metadata": {},
   "outputs": [],
   "source": []
  }
 ],
 "metadata": {
  "kernelspec": {
   "display_name": "base",
   "language": "python",
   "name": "python3"
  },
  "language_info": {
   "codemirror_mode": {
    "name": "ipython",
    "version": 3
   },
   "file_extension": ".py",
   "mimetype": "text/x-python",
   "name": "python",
   "nbconvert_exporter": "python",
   "pygments_lexer": "ipython3",
   "version": "3.11.4"
  }
 },
 "nbformat": 4,
 "nbformat_minor": 4
}
