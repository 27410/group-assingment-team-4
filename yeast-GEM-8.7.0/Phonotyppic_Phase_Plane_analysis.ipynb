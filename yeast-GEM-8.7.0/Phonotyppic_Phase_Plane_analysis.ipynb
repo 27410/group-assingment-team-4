{
 "cells": [
  {
   "cell_type": "code",
   "execution_count": 12,
   "metadata": {},
   "outputs": [
    {
     "data": {
      "text/html": [
       "\n",
       "        <table>\n",
       "            <tr>\n",
       "                <td><strong>Name</strong></td>\n",
       "                <td>yeastGEM_v8__46__7__46__0</td>\n",
       "            </tr><tr>\n",
       "                <td><strong>Memory address</strong></td>\n",
       "                <td>29f4b1790</td>\n",
       "            </tr><tr>\n",
       "                <td><strong>Number of metabolites</strong></td>\n",
       "                <td>2807</td>\n",
       "            </tr><tr>\n",
       "                <td><strong>Number of reactions</strong></td>\n",
       "                <td>4133</td>\n",
       "            </tr><tr>\n",
       "                <td><strong>Number of genes</strong></td>\n",
       "                <td>1163</td>\n",
       "            </tr><tr>\n",
       "                <td><strong>Number of groups</strong></td>\n",
       "                <td>106</td>\n",
       "            </tr><tr>\n",
       "                <td><strong>Objective expression</strong></td>\n",
       "                <td>1.0*r_2111 - 1.0*r_2111_reverse_58b69</td>\n",
       "            </tr><tr>\n",
       "                <td><strong>Compartments</strong></td>\n",
       "                <td>cell envelope, cytoplasm, extracellular, mitochondrion, nucleus, peroxisome, endoplasmic reticulum, Golgi, lipid particle, vacuole, endoplasmic reticulum membrane, vacuolar membrane, Golgi membrane, mitochondrial membrane</td>\n",
       "            </tr>\n",
       "          </table>"
      ],
      "text/plain": [
       "<Model yeastGEM_v8__46__7__46__0 at 0x29f4b1790>"
      ]
     },
     "execution_count": 12,
     "metadata": {},
     "output_type": "execute_result"
    }
   ],
   "source": [
    "%matplotlib inline\n",
    "import code.io as io\n",
    "import numpy as np\n",
    "from matplotlib import cm\n",
    "import matplotlib.pyplot as plt\n",
    "from mpl_toolkits.mplot3d import Axes3D\n",
    "from cobra.io import read_sbml_model\n",
    "from cobra.flux_analysis import production_envelope\n",
    "from cameo import phenotypic_phase_plane\n",
    "from cameo.visualization.plotting.with_plotly import PlotlyPlotter\n",
    "\n",
    "model = read_sbml_model('model/yeast-GEM.xml')\n",
    "\n",
    "growth = model.reactions.r_2111\n",
    "\n",
    "model"
   ]
  },
  {
   "cell_type": "code",
   "execution_count": 21,
   "metadata": {},
   "outputs": [
    {
     "name": "stderr",
     "output_type": "stream",
     "text": [
      "/Users/giannis/anaconda3/lib/python3.11/site-packages/cameo/flux_analysis/analysis.py:816: FutureWarning:\n",
      "\n",
      "The frame.append method is deprecated and will be removed from pandas in a future version. Use pandas.concat instead.\n",
      "\n",
      "/Users/giannis/anaconda3/lib/python3.11/site-packages/cameo/flux_analysis/analysis.py:816: FutureWarning:\n",
      "\n",
      "The frame.append method is deprecated and will be removed from pandas in a future version. Use pandas.concat instead.\n",
      "\n",
      "/Users/giannis/anaconda3/lib/python3.11/site-packages/cameo/flux_analysis/analysis.py:816: FutureWarning:\n",
      "\n",
      "The frame.append method is deprecated and will be removed from pandas in a future version. Use pandas.concat instead.\n",
      "\n",
      "/Users/giannis/anaconda3/lib/python3.11/site-packages/cameo/flux_analysis/analysis.py:816: FutureWarning:\n",
      "\n",
      "The frame.append method is deprecated and will be removed from pandas in a future version. Use pandas.concat instead.\n",
      "\n",
      "/Users/giannis/anaconda3/lib/python3.11/site-packages/cameo/flux_analysis/analysis.py:816: FutureWarning:\n",
      "\n",
      "The frame.append method is deprecated and will be removed from pandas in a future version. Use pandas.concat instead.\n",
      "\n",
      "/Users/giannis/anaconda3/lib/python3.11/site-packages/cameo/flux_analysis/analysis.py:816: FutureWarning:\n",
      "\n",
      "The frame.append method is deprecated and will be removed from pandas in a future version. Use pandas.concat instead.\n",
      "\n",
      "/Users/giannis/anaconda3/lib/python3.11/site-packages/cameo/flux_analysis/analysis.py:816: FutureWarning:\n",
      "\n",
      "The frame.append method is deprecated and will be removed from pandas in a future version. Use pandas.concat instead.\n",
      "\n",
      "/Users/giannis/anaconda3/lib/python3.11/site-packages/cameo/flux_analysis/analysis.py:816: FutureWarning:\n",
      "\n",
      "The frame.append method is deprecated and will be removed from pandas in a future version. Use pandas.concat instead.\n",
      "\n",
      "/Users/giannis/anaconda3/lib/python3.11/site-packages/cameo/flux_analysis/analysis.py:816: FutureWarning:\n",
      "\n",
      "The frame.append method is deprecated and will be removed from pandas in a future version. Use pandas.concat instead.\n",
      "\n",
      "/Users/giannis/anaconda3/lib/python3.11/site-packages/cameo/flux_analysis/analysis.py:816: FutureWarning:\n",
      "\n",
      "The frame.append method is deprecated and will be removed from pandas in a future version. Use pandas.concat instead.\n",
      "\n"
     ]
    },
    {
     "ename": "AttributeError",
     "evalue": "module 'collections' has no attribute 'Iterable'",
     "output_type": "error",
     "traceback": [
      "\u001b[0;31m---------------------------------------------------------------------------\u001b[0m",
      "\u001b[0;31mAttributeError\u001b[0m                            Traceback (most recent call last)",
      "\u001b[1;32m/Users/giannis/github-classroom/27410/group-assingment-team-4/yeast-GEM-8.7.0/Phonotyppic_Phase_Plane_analysis.ipynb Cell 2\u001b[0m line \u001b[0;36m7\n\u001b[1;32m      <a href='vscode-notebook-cell:/Users/giannis/github-classroom/27410/group-assingment-team-4/yeast-GEM-8.7.0/Phonotyppic_Phase_Plane_analysis.ipynb#W1sZmlsZQ%3D%3D?line=0'>1</a>\u001b[0m plotter \u001b[39m=\u001b[39m PlotlyPlotter()\n\u001b[1;32m      <a href='vscode-notebook-cell:/Users/giannis/github-classroom/27410/group-assingment-team-4/yeast-GEM-8.7.0/Phonotyppic_Phase_Plane_analysis.ipynb#W1sZmlsZQ%3D%3D?line=1'>2</a>\u001b[0m phenotypic_p_p \u001b[39m=\u001b[39m phenotypic_phase_plane(model, \n\u001b[1;32m      <a href='vscode-notebook-cell:/Users/giannis/github-classroom/27410/group-assingment-team-4/yeast-GEM-8.7.0/Phonotyppic_Phase_Plane_analysis.ipynb#W1sZmlsZQ%3D%3D?line=2'>3</a>\u001b[0m                                 variables\u001b[39m=\u001b[39m[model\u001b[39m.\u001b[39mreactions\u001b[39m.\u001b[39mr_2111],\n\u001b[1;32m      <a href='vscode-notebook-cell:/Users/giannis/github-classroom/27410/group-assingment-team-4/yeast-GEM-8.7.0/Phonotyppic_Phase_Plane_analysis.ipynb#W1sZmlsZQ%3D%3D?line=3'>4</a>\u001b[0m                                 objective\u001b[39m=\u001b[39mmodel\u001b[39m.\u001b[39mreactions\u001b[39m.\u001b[39mR08695,\n\u001b[1;32m      <a href='vscode-notebook-cell:/Users/giannis/github-classroom/27410/group-assingment-team-4/yeast-GEM-8.7.0/Phonotyppic_Phase_Plane_analysis.ipynb#W1sZmlsZQ%3D%3D?line=4'>5</a>\u001b[0m                                 points\u001b[39m=\u001b[39m\u001b[39m10\u001b[39m)\n\u001b[0;32m----> <a href='vscode-notebook-cell:/Users/giannis/github-classroom/27410/group-assingment-team-4/yeast-GEM-8.7.0/Phonotyppic_Phase_Plane_analysis.ipynb#W1sZmlsZQ%3D%3D?line=6'>7</a>\u001b[0m phenotypic_p_p \u001b[39m=\u001b[39m phenotypic_p_p\u001b[39m.\u001b[39mplot(plotter)\n",
      "File \u001b[0;32m~/anaconda3/lib/python3.11/site-packages/cameo/flux_analysis/analysis.py:818\u001b[0m, in \u001b[0;36mPhenotypicPhasePlaneResult.plot\u001b[0;34m(self, plotter, grid, width, height, title, axis_font_size, palette, points, points_colors, estimate, **kwargs)\u001b[0m\n\u001b[1;32m    814\u001b[0m         _df \u001b[39m=\u001b[39m pandas\u001b[39m.\u001b[39mDataFrame([[row[upper], row[lower], row[variable], \u001b[39m\"\u001b[39m\u001b[39mWT\u001b[39m\u001b[39m\"\u001b[39m]],\n\u001b[1;32m    815\u001b[0m                                columns\u001b[39m=\u001b[39mdataframe\u001b[39m.\u001b[39mcolumns)\n\u001b[1;32m    816\u001b[0m         dataframe \u001b[39m=\u001b[39m dataframe\u001b[39m.\u001b[39mappend(_df)\n\u001b[0;32m--> 818\u001b[0m     plot \u001b[39m=\u001b[39m plotter\u001b[39m.\u001b[39mproduction_envelope(dataframe, grid\u001b[39m=\u001b[39mgrid, width\u001b[39m=\u001b[39mwidth, height\u001b[39m=\u001b[39mheight,\n\u001b[1;32m    819\u001b[0m                                        title\u001b[39m=\u001b[39mtitle, y_axis_label\u001b[39m=\u001b[39my_axis_label, x_axis_label\u001b[39m=\u001b[39mx_axis_label,\n\u001b[1;32m    820\u001b[0m                                        palette\u001b[39m=\u001b[39mpalette, points\u001b[39m=\u001b[39mpoints, points_colors\u001b[39m=\u001b[39mpoints_colors)\n\u001b[1;32m    822\u001b[0m \u001b[39melif\u001b[39;00m \u001b[39mlen\u001b[39m(\u001b[39mself\u001b[39m\u001b[39m.\u001b[39mvariable_ids) \u001b[39m==\u001b[39m \u001b[39m2\u001b[39m:\n\u001b[1;32m    823\u001b[0m     var_1 \u001b[39m=\u001b[39m \u001b[39mself\u001b[39m\u001b[39m.\u001b[39mvariable_ids[\u001b[39m0\u001b[39m]\n",
      "File \u001b[0;32m~/anaconda3/lib/python3.11/site-packages/cameo/visualization/plotting/with_plotly.py:140\u001b[0m, in \u001b[0;36mPlotlyPlotter.production_envelope\u001b[0;34m(self, dataframe, grid, width, height, title, points, points_colors, palette, x_axis_label, y_axis_label)\u001b[0m\n\u001b[1;32m    137\u001b[0m width, height \u001b[39m=\u001b[39m \u001b[39mself\u001b[39m\u001b[39m.\u001b[39mgolden_ratio(width, height)\n\u001b[1;32m    139\u001b[0m data \u001b[39m=\u001b[39m []\n\u001b[0;32m--> 140\u001b[0m palette \u001b[39m=\u001b[39m \u001b[39mself\u001b[39m\u001b[39m.\u001b[39m_palette(palette, \u001b[39mlen\u001b[39m(variables))\n\u001b[1;32m    141\u001b[0m \u001b[39mfor\u001b[39;00m variable, color \u001b[39min\u001b[39;00m zip_repeat(variables, palette):\n\u001b[1;32m    142\u001b[0m     _dataframe \u001b[39m=\u001b[39m dataframe[dataframe[\u001b[39m\"\u001b[39m\u001b[39mstrain\u001b[39m\u001b[39m\"\u001b[39m] \u001b[39m==\u001b[39m variable]\n",
      "File \u001b[0;32m~/anaconda3/lib/python3.11/site-packages/cameo/visualization/plotting/abstract.py:336\u001b[0m, in \u001b[0;36mAbstractPlotter._palette\u001b[0;34m(palette, number)\u001b[0m\n\u001b[1;32m    333\u001b[0m \u001b[39mif\u001b[39;00m \u001b[39misinstance\u001b[39m(palette, \u001b[39mstr\u001b[39m):\n\u001b[1;32m    334\u001b[0m     palette \u001b[39m=\u001b[39m mapper\u001b[39m.\u001b[39mmap_palette(palette, number)\n\u001b[0;32m--> 336\u001b[0m \u001b[39mif\u001b[39;00m \u001b[39misinstance\u001b[39m(palette, collections\u001b[39m.\u001b[39mIterable):\n\u001b[1;32m    337\u001b[0m     \u001b[39mreturn\u001b[39;00m palette\n\u001b[1;32m    338\u001b[0m \u001b[39melif\u001b[39;00m \u001b[39misinstance\u001b[39m(palette, Palette):\n",
      "\u001b[0;31mAttributeError\u001b[0m: module 'collections' has no attribute 'Iterable'"
     ]
    }
   ],
   "source": [
    "plotter = PlotlyPlotter()\n",
    "phenotypic_p_p = phenotypic_phase_plane(model, \n",
    "                                variables=[model.reactions.r_2111],\n",
    "                                objective=model.reactions.R08695,\n",
    "                                points=10)\n",
    "\n",
    "phenotypic_p_p = phenotypic_p_p.plot(plotter) # AttributeError: module 'collections' has no attribute 'Iterable'"
   ]
  },
  {
   "cell_type": "code",
   "execution_count": null,
   "metadata": {},
   "outputs": [],
   "source": []
  }
 ],
 "metadata": {
  "kernelspec": {
   "display_name": "base",
   "language": "python",
   "name": "python3"
  },
  "language_info": {
   "codemirror_mode": {
    "name": "ipython",
    "version": 3
   },
   "file_extension": ".py",
   "mimetype": "text/x-python",
   "name": "python",
   "nbconvert_exporter": "python",
   "pygments_lexer": "ipython3",
   "version": "3.11.5"
  }
 },
 "nbformat": 4,
 "nbformat_minor": 2
}
