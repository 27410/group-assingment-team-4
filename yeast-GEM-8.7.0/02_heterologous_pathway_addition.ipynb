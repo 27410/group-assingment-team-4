{
 "cells": [
  {
   "cell_type": "code",
   "execution_count": null,
   "metadata": {},
   "outputs": [],
   "source": [
    "import code.io as io\n",
    "model = io.read_yeast_model() # loading\n",
    "from cobra import Reaction, Metabolite, Gene"
   ]
  },
  {
   "cell_type": "markdown",
   "metadata": {},
   "source": [
    "Adding the metabolites:"
   ]
  },
  {
   "cell_type": "code",
   "execution_count": null,
   "metadata": {},
   "outputs": [],
   "source": [
    "Beta_farnesene = Metabolite(name='Beta-farnesene',id='beta_farnesene_c',compartment='c')"
   ]
  },
  {
   "cell_type": "markdown",
   "metadata": {},
   "source": [
    "Adding the gene for beta-farnesene synthase:"
   ]
  },
  {
   "cell_type": "code",
   "execution_count": null,
   "metadata": {},
   "outputs": [],
   "source": [
    "Beta_farnesene_synthase_gene = Gene(id='R08695',name='G_R08695',functional=True,)"
   ]
  },
  {
   "cell_type": "markdown",
   "metadata": {},
   "source": [
    "Adding the reaction for beta-farnesene and the demand reaction for beta-farnesene"
   ]
  },
  {
   "cell_type": "code",
   "execution_count": null,
   "metadata": {},
   "outputs": [],
   "source": [
    "from cobra import Reaction, Metabolite, Gene\n",
    "\n",
    "Beta_farnesene_synthase_reaction = Reaction('R08695')\n",
    "\n",
    "Beta_farnesene_synthase_reaction.add_metabolites({model.metabolites.s_0190: -1,\n",
    "                                                  model.metabolites.s_0633: 1,\n",
    "                                                  Beta_farnesene: 1 # our product\n",
    "                                                  })\n",
    "\n",
    "Beta_farnesene_synthase_reaction\n",
    "\n",
    "model.add_reactions([Beta_farnesene_synthase_reaction])\n",
    "\n",
    "model.reactions.get_by_id(Beta_farnesene_synthase_reaction.id)\n",
    "Beta_farnesene_demand_reaction = Reaction('BFD')\n",
    "Beta_farnesene_demand_reaction.add_metabolites({\n",
    "                                                  Beta_farnesene: -1 # our product\n",
    "                                                  })\n",
    "Beta_farnesene_demand_reaction\n",
    "model.add_reactions([Beta_farnesene_demand_reaction])\n",
    "model.reactions.get_by_id(Beta_farnesene_demand_reaction.id)\n",
    "\n"
   ]
  }
 ],
 "metadata": {
  "language_info": {
   "name": "python"
  },
  "orig_nbformat": 4
 },
 "nbformat": 4,
 "nbformat_minor": 2
}
