{
 "cells": [
  {
   "cell_type": "code",
   "execution_count": 1,
   "metadata": {},
   "outputs": [],
   "source": [
    "import code.io as io\n",
    "model = io.read_yeast_model() # loading\n",
    "from cobra import Reaction, Metabolite, Gene"
   ]
  },
  {
   "cell_type": "markdown",
   "metadata": {},
   "source": [
    "Adding the metabolites:"
   ]
  },
  {
   "cell_type": "code",
   "execution_count": 2,
   "metadata": {},
   "outputs": [],
   "source": [
    "Beta_farnesene = Metabolite(name='Beta-farnesene',id='beta_farnesene_c',compartment='c')"
   ]
  },
  {
   "cell_type": "markdown",
   "metadata": {},
   "source": [
    "Adding the gene for beta-farnesene synthase:"
   ]
  },
  {
   "cell_type": "code",
   "execution_count": 3,
   "metadata": {},
   "outputs": [],
   "source": [
    "Beta_farnesene_synthase_gene = Gene(id='R08695',name='G_R08695',functional=True,)"
   ]
  },
  {
   "cell_type": "markdown",
   "metadata": {},
   "source": [
    "Adding the reaction for beta-farnesene and the demand reaction for beta-farnesene"
   ]
  },
  {
   "cell_type": "code",
   "execution_count": 4,
   "metadata": {},
   "outputs": [
    {
     "name": "stderr",
     "output_type": "stream",
     "text": [
      "Ignoring reaction 'R08695' since it already exists.\n",
      "Ignoring reaction 'BFD' since it already exists.\n"
     ]
    },
    {
     "data": {
      "text/html": [
       "\n",
       "        <table>\n",
       "            <tr>\n",
       "                <td><strong>Reaction identifier</strong></td><td>BFD</td>\n",
       "            </tr><tr>\n",
       "                <td><strong>Name</strong></td><td></td>\n",
       "            </tr><tr>\n",
       "                <td><strong>Memory address</strong></td>\n",
       "                <td>0x299b0ec50</td>\n",
       "            </tr><tr>\n",
       "                <td><strong>Stoichiometry</strong></td>\n",
       "                <td>\n",
       "                    <p style='text-align:right'>beta_farnesene_c --></p>\n",
       "                    <p style='text-align:right'>Beta-farnesene --></p>\n",
       "                </td>\n",
       "            </tr><tr>\n",
       "                <td><strong>GPR</strong></td><td></td>\n",
       "            </tr><tr>\n",
       "                <td><strong>Lower bound</strong></td><td>0.0</td>\n",
       "            </tr><tr>\n",
       "                <td><strong>Upper bound</strong></td><td>1000.0</td>\n",
       "            </tr>\n",
       "        </table>\n",
       "        "
      ],
      "text/plain": [
       "<Reaction BFD at 0x299b0ec50>"
      ]
     },
     "execution_count": 4,
     "metadata": {},
     "output_type": "execute_result"
    }
   ],
   "source": [
    "from cobra import Reaction, Metabolite, Gene\n",
    "\n",
    "Beta_farnesene_synthase_reaction = Reaction('R08695')\n",
    "\n",
    "Beta_farnesene_synthase_reaction.add_metabolites({model.metabolites.s_0190: -1,\n",
    "                                                  model.metabolites.s_0633: 1,\n",
    "                                                  Beta_farnesene: 1 # our product\n",
    "                                                  })\n",
    "\n",
    "Beta_farnesene_synthase_reaction\n",
    "\n",
    "model.add_reactions([Beta_farnesene_synthase_reaction])\n",
    "\n",
    "model.reactions.get_by_id(Beta_farnesene_synthase_reaction.id)\n",
    "Beta_farnesene_demand_reaction = Reaction('BFD')\n",
    "Beta_farnesene_demand_reaction.add_metabolites({\n",
    "                                                  Beta_farnesene: -1 # our product\n",
    "                                                  })\n",
    "Beta_farnesene_demand_reaction\n",
    "model.add_reactions([Beta_farnesene_demand_reaction])\n",
    "model.reactions.get_by_id(Beta_farnesene_demand_reaction.id)\n",
    "\n"
   ]
  },
  {
   "cell_type": "code",
   "execution_count": null,
   "metadata": {},
   "outputs": [],
   "source": []
  }
 ],
 "metadata": {
  "kernelspec": {
   "display_name": "base",
   "language": "python",
   "name": "python3"
  },
  "language_info": {
   "codemirror_mode": {
    "name": "ipython",
    "version": 3
   },
   "file_extension": ".py",
   "mimetype": "text/x-python",
   "name": "python",
   "nbconvert_exporter": "python",
   "pygments_lexer": "ipython3",
   "version": "3.11.4"
  },
  "orig_nbformat": 4
 },
 "nbformat": 4,
 "nbformat_minor": 2
}
