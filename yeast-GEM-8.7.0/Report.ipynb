{
 "cells": [
  {
   "cell_type": "markdown",
   "metadata": {},
   "source": [
    "# Metabolic Engineering of <i>Saccharomyces cerevisiae</i> for production of farnesene"
   ]
  },
  {
   "cell_type": "markdown",
   "metadata": {},
   "source": [
    "## 1. Introduction"
   ]
  },
  {
   "cell_type": "markdown",
   "metadata": {},
   "source": [
    "### 1.1 Literature review of the compound"
   ]
  },
  {
   "cell_type": "markdown",
   "metadata": {},
   "source": [
    "#### Applications of the product\n",
    "Farnesene is a natural product that is classified as an acyclic sesquiterpene. It is a 15 carbon atoms hydrocarbon, and it is extremely volatile. In nature it is observed as two different isomers, α- and β-farnesene. It is naturally produced by aphids and other animals as a pheromone, while it is also present in numerous plant essential oils. Its structure and unique properties make it a great substrate for the synthesis of various materials, such as olefins and polymers, with applications as biofuels, cosmetics, lubricants and surfactants. It can also be used for the chemical synthesis of Vitamin E precursors. Additionally, farnesene has been reported to possess anti-inflammatory, antimicrobial and sedating properties. Lately, it receives increased attention from industry as a green jet fuel and diesel alternative. A substantial effort in its production by microbial cell factories is made by researchers, because the alternative methods of chemical synthesis and extraction from plant material are costly, inefficient and not sustainable.\n",
    "\n",
    "#### Evaluation of market potential\n",
    "The global market value of farnesene was estimated around 250 million USD in 2021, and is expected to reach 422.36 million by 2030. The compound annual growth rate (CAGR) for this forecast period (2022-2030) is around 5 %. During this period, farnesene’s market in North America is expected to grow faster than other regions.\n",
    "Generally, farnesene's market value is depended on availability and supply of raw materials, which is mainly sugarcanes and other plant feedstock. That means that variation in regional weather conditions have a direct impact on farnesene’s market growth. In addition, the Covid-19 pandemic also greatly impacted the market of farnesene. The global restrictions and the disruption of supply lines hindered the growth and expansion of the named market, which is, however, expected to bounce back.\n",
    "Farnesene Market is classified in the categories of Cosmetics & Personal Care, Performance Material, Flavors & Fragrances and Fuels & Lubes. Fuels and Lubes is the leading sector of the total farnesene market (21,6 %, 2021), and its percentage is expected to increase even further, due to the growing demand for alternative fuels. Europe is the leading region of global farnesene market (32,5 % market share in 2021), due to its high acceptance by European market. Some of the major companies involved in the production and supply of farnesene are Chromatin, Intexon and Amyris.\n",
    "#### Biosynthetic pathway/genes\n",
    "Farnesene is synthesized by two alternative pathways, the Mevalonate Pathway (MVA) and the 2-methyl-D-erythrito-4-phosphate Pathway (MEP or DXP Pathway). The MVA pathway, which is the sterol biosynthetic pathway, is the one utilized in this project. The first step is the condensation of two acetyl-CoAs to form acetoacetyl-CoA. Afterwards, another acetyl-CoA is added to acetoacetyl-CoA to produce 3-hydroxy-3-methylglutaryl-CoA (HMG-CoA), a reaction which is irreversible. Then, mevalonic acid is produced by the HMG-CoA reductase (HMGR) from HMG-CoA utilizing NADPH as a cofactor. Subsequently, mevalonate kinase (MVK) and phosphomevalonate kinase (PMVK), catalyze the sequential phosphorylation of mevalonic acid to produce mevalonate 5-phosphate and mevalonate 5-diphosphate. Then,  IPP is produced by mevalonate diphosphate decarboxylase (PMVD). This molecule can be isomerised by IDI to DMAPP. IPP and DMAPP (5 carbons) are the two precursors of all terpenoid backbones, and their condensation forms GPP (10 carbons). The addition of another IPP molecule forms farnesyl diphosphate (FPP, 15 carbon atoms), which is the substrate of the farnesene synthases and the precursor of all sesquiterpenoids. Finally, a farnesene synthase produces farnesene by removing the diphosphate group. Our projects focuses on the production of β-farnesene, so a β-farnesene synthase is used for the final biosynthetic step."
   ]
  },
  {
   "cell_type": "markdown",
   "metadata": {},
   "source": [
    "### 1.2 Literature review of the cell factory - <i>Saccharomyces cerevisiae</i> as a cell factory for the production of farnesene\n",
    "<i>Saccharomyces cerevisiae</i>, also known as baker's yeast, is a single cell eukaryotic organism classified as yeast. It is a model organism, extensively studied, and has been used in biotechnology for centuries."
   ]
  },
  {
   "cell_type": "markdown",
   "metadata": {},
   "source": [
    "#### General advantages\n",
    "<i>S. cerevisiae</i> has been used excessively as a cell factory because it possesses many advantages. As a model eukaryotic organism, it is extremely well studied and we have a very thorough understanding of its biology and genetics. In addition, there are numerous tools and techniques available to genetically manipulate the organism, as well as the possibility to create diploid mutants easily by mating spores of the desired genotypes. Other advantages of <i>S. cerevisiae</i> are its Generally Regarded As Safe (GRAS) status, its high growth rate and ability to catabolize efficiently numerous sugars, its tolerance to harsh industrial conditions and the high availability of knowledge about bioprocesses utilizing this organism. Specifically for the production of farnesene, <i>S. cerevisiae</i> is ideal because of the fact that it contains an endogenous MVA pathway for the production of its native sterols, which can be manipulated to produce terpenoids."
   ]
  },
  {
   "cell_type": "markdown",
   "metadata": {},
   "source": [
    "#### General disadvantages\n",
    "While <i>S. cerevisiae</i> is a powerfull microbial host for the production of numerous products, it does not come without its drawbacks. The main disadvantage of <i>S. cerevisiae</i> is the fact that, while it posseses the ability to catabolize sugars quite efficiently, the spectrum of feedstock that can be used as substrates is still pretty limited compared to other fungi or bacteria. For example, <i>S. cerevisiae</i> does not have the ability to use renewable and waste feedstocks as carbon source, such as glycerol and xylose, to support low cost circular economy bioprocesses.\n",
    "In addition, there are bottlenecks in the production of many products in <i>S. cerevisiae</i>, such as inneficient precursor and cofactor supply, product toxicity and complex innate regulation that inhibits high production and expression of desired genes. All those factors can lead to low yields and production rates, that are not of industrial interest.\n"
   ]
  },
  {
   "cell_type": "markdown",
   "metadata": {},
   "source": [
    "#### Suitability of the cell factory for the product\n",
    "The host of choice to produce terpenoids should include an innate biosythetic pathway for precursor supply, and <i>S. cerevisiae</i> does so. Its native MVA pathway is extensively well studied, the functions and kinetics of enzymes are known, and we have a thorough understanding of the unerlying regulation mechanisms. The toxicity of some terpenoids to <i>S. cerevisiae</i> cells can be overcome with several cultivation strategies, such as inducible expression of biosynthetic genes and two-phase cultivation, where the products are captured by an organic phase. Moreover, there are many reported successfull attempts to produce several terpenoids, some with impressive final titers.\n",
    "\n",
    "Different host organism choices could be the the non-cannonical yeast <i>Yarrowia lipolytica</i>, because it posseses the abillity to utillize several cheap carbon source alternatives, as well as plant cell cultures."
   ]
  },
  {
   "cell_type": "markdown",
   "metadata": {},
   "source": [
    "## 2. Problem definition\n",
    "Nowdays, most of the market's demand for farnesene is met by chemical synthesis and extraction from plant material. Those production methods are energy intensive, not environmentally friendly as they use plant tissue and petrochemicals, and as for plant extraction especially, yields are quite low as huge amounts of plant material are needed for just milligrams of farnesene. In addition, the availability of plant material is influenced by climate conditions and so the supply of farnesene to the market can be problematic.\n",
    "\n",
    "Heterologous production of farnesene in a microbial cell factory is a sustainable, low carbon footprint and non-energy intensive alternative. However, the final titers have to be high enough to make the whole industrial process feasible and economically attractive. That includes both high producing strains and optimized fermentation and downstream processes. To produce farnesene in <i>S. cerevisiae</i>, the insertion and expression of a heterologous farnesene synthase is required. Furthermore, higher production can be achieved with the use of metabolic engineering of the recombinant yeast strain to increase the supply of MVA pathway precursors and cofactors used in biosynthetic reactions, while minimizing the carbon and cofactor loses from other pathways. \n",
    "\n",
    "Our project aims at utillizing a GSM for <i>S. cerevisiae</i>, named Yeast8, to engineer the yeast strain EGY48 for the efficient production of β-farnesene. For this purpose, a β-farnesene synthase from <i>Artemisia annua</i> (<i>aaβFS</i>) will be integrated into EGY48, and we will iincorporate quantitative physiology data from EGY48 to our model in the form of carbon constraints to mimic its phenotype. This approach will shed some light into the metabolic changes required to increase the carbon flux towards the biosynthesis of β-farnesene, and will allow the construction of high producing <i>S. cerevisiae</i> cell factories, suitable for industrial biotechnological production of the desired compound."
   ]
  },
  {
   "cell_type": "markdown",
   "metadata": {},
   "source": [
    "## 3. Selection and assessment of existing GSM"
   ]
  },
  {
   "cell_type": "markdown",
   "metadata": {},
   "source": [
    "https://www.nature.com/articles/s41467-019-11581-3\n",
    "\n",
    "NOT FINAL - MEMOTE MISSING\n",
    "\n",
    "Genome-scale network reconstruction is a comprehensive collection of genes, biochemical reactions, and metabolites known to exist and function within a specific organism. This network can be transformed into a predictive genome scale model (GSM) that allows for in silico simulations of permissible network states based on the constraints imposed by physicochemistry and genetics. <i>S. cerevisiae</i>, the first eukaryotic organism to have its entire genome sequenced, has emerged as a key player in cell factory engineering for the biotechnological production.\n",
    "\n",
    "In 2003, the first yeast GSM, called iFF708, was introduced for the yeast <i>S. cerevisiae</i>. This model was reconstructed using genomic, biochemical, and physiological data. Since then, there have been multiple updates to the S. cerevisiae GSM. Three GSMs, namely iND750, iLL672, and iIN800, were derived directly from iFF708, expanding the model by introducing additional compartments and fixing unlinked reactions based on new biological knowledge, providing a detailed description of lipid metabolism, tRNA synthesis, and transport processes. Subsequently, iMM904 modified existing reactions from iND750, and iAZ900 has corrections to iMM904 based on essentiality and synthetic lethality data. \n",
    "To consolidate this knowledge into a single model, Yeast1 was constructed as the first genome-scale metabolic reconstruction of <i>S. cerevisiae</i>, utilizing consensus annotation and standard terminology. However, Yeast1 couldn't be used for constraint-based simulations due to network gaps. It served as a template for further additions of metabolic information, resulting in several updates. Yeast4 emerged as the first consensus GSM of <i>S. cerevisiae</i> suitable for simulations, featuring improved network connectivity. Subsequent updates further refined the consensus GSMs of <i>S. cerevisiae</i>, expanding and enhancing their content. Meanwhile, based on these consensus GSMs, other models like iTO977 and iSce926 were developed, but are currently less accurate compared to the latest model Yeast8.\n",
    "\n",
    "The latest consensus GSM of S. cerevisiae is Yeast8. Model not only represents the most comprehensive reconstruction of yeast metabolism but also addresses issues that arose in the development of previous yeast GSMs. It adds missing transporters, updates the biomass equation, and enhances transparency in the reconstruction process. Yeast8 introduces transport reactions to bridge gaps in metabolite transport between compartments, re-annotates transporters to improve gene coverage, and formulates a new biomass equation by incorporating cofactors and metal ions, leading to better predictions of essential genes in growth simulations. To summarise the history of the development of GSM up to Yeast8, thanks to the substantial literature base, the simulations performed and the experimental results, the latest model allows the performance of the metabolic network to be predicted as reliably as possible for current times.\n"
   ]
  },
  {
   "cell_type": "markdown",
   "metadata": {},
   "source": [
    "## 4. Computer-Aided Cell Factory Engineering (<1500 words)"
   ]
  },
  {
   "cell_type": "markdown",
   "metadata": {},
   "source": [
    "## 5. Discussion (<500 words)"
   ]
  },
  {
   "cell_type": "markdown",
   "metadata": {},
   "source": [
    "## 6. Conclusion (<200 words)"
   ]
  },
  {
   "cell_type": "markdown",
   "metadata": {},
   "source": [
    "## References"
   ]
  },
  {
   "cell_type": "markdown",
   "metadata": {},
   "source": [
    "put references here\n",
    "\n",
    "[1] anfkladg\n",
    "\n",
    "[2] ahsfdihsfs\n"
   ]
  },
  {
   "cell_type": "markdown",
   "metadata": {},
   "source": [
    "# Run this before doing anything else, and your model should also work now:"
   ]
  },
  {
   "cell_type": "code",
   "execution_count": 11,
   "metadata": {},
   "outputs": [],
   "source": [
    "# Remove \"#\" before the commands below this when you want to first make sure you got everything to the model\n",
    "\n",
    "#pip install -r yeast-GEM-8.7.0/code/requirements/requirements.txt  # install all dependencies\n",
    "#pip install python-dotenv\n",
    "#pip install cobra\n",
    "\n",
    "# After running these commands run the code below once and if no errors show up you should be good\n"
   ]
  },
  {
   "cell_type": "code",
   "execution_count": 1,
   "metadata": {},
   "outputs": [],
   "source": [
    "import code.io as io\n",
    "model = io.read_yeast_model() # loading\n",
    "io.write_yeast_model(model)   # saving\n"
   ]
  },
  {
   "cell_type": "code",
   "execution_count": 2,
   "metadata": {},
   "outputs": [
    {
     "data": {
      "text/plain": [
       "{'ce': 'cell envelope',\n",
       " 'c': 'cytoplasm',\n",
       " 'e': 'extracellular',\n",
       " 'm': 'mitochondrion',\n",
       " 'n': 'nucleus',\n",
       " 'p': 'peroxisome',\n",
       " 'er': 'endoplasmic reticulum',\n",
       " 'g': 'Golgi',\n",
       " 'lp': 'lipid particle',\n",
       " 'v': 'vacuole',\n",
       " 'erm': 'endoplasmic reticulum membrane',\n",
       " 'vm': 'vacuolar membrane',\n",
       " 'gm': 'Golgi membrane',\n",
       " 'mm': 'mitochondrial membrane'}"
      ]
     },
     "execution_count": 2,
     "metadata": {},
     "output_type": "execute_result"
    }
   ],
   "source": [
    "model.compartments"
   ]
  },
  {
   "cell_type": "code",
   "execution_count": 3,
   "metadata": {},
   "outputs": [
    {
     "data": {
      "text/html": [
       "\n",
       "        <table>\n",
       "            <tr>\n",
       "                <td><strong>Metabolite identifier</strong></td><td>s_0190</td>\n",
       "            </tr><tr>\n",
       "                <td><strong>Name</strong></td><td>farnesyl diphosphate</td>\n",
       "            </tr><tr>\n",
       "                <td><strong>Memory address</strong></td>\n",
       "                <td>0x286cdba90</td>\n",
       "            </tr><tr>\n",
       "                <td><strong>Formula</strong></td><td>C15H25O7P2</td>\n",
       "            </tr><tr>\n",
       "                <td><strong>Compartment</strong></td><td>c</td>\n",
       "            </tr><tr>\n",
       "                <td><strong>In 7 reaction(s)</strong></td><td>\n",
       "                    r_1766, r_4768, R08695, r_0462, r_0373, r_1012, r_4604\n",
       "                    </td>\n",
       "            </tr>\n",
       "        </table>"
      ],
      "text/plain": [
       "<Metabolite s_0190 at 0x286cdba90>"
      ]
     },
     "execution_count": 3,
     "metadata": {},
     "output_type": "execute_result"
    }
   ],
   "source": [
    "model.metabolites.query(\"farnesyl diphosphate\",\"name\")\n",
    "model.metabolites.s_0190\n"
   ]
  },
  {
   "cell_type": "code",
   "execution_count": 4,
   "metadata": {},
   "outputs": [
    {
     "data": {
      "text/html": [
       "\n",
       "        <table>\n",
       "            <tr>\n",
       "                <td><strong>Reaction identifier</strong></td><td>r_4768</td>\n",
       "            </tr><tr>\n",
       "                <td><strong>Name</strong></td><td>farnesyl diphosphatase</td>\n",
       "            </tr><tr>\n",
       "                <td><strong>Memory address</strong></td>\n",
       "                <td>0x299845b10</td>\n",
       "            </tr><tr>\n",
       "                <td><strong>Stoichiometry</strong></td>\n",
       "                <td>\n",
       "                    <p style='text-align:right'>s_0190 + s_0803 --> s_0633 + s_4303</p>\n",
       "                    <p style='text-align:right'>farnesyl diphosphate + H2O --> diphosphate + farnesol</p>\n",
       "                </td>\n",
       "            </tr><tr>\n",
       "                <td><strong>GPR</strong></td><td>YDR481C</td>\n",
       "            </tr><tr>\n",
       "                <td><strong>Lower bound</strong></td><td>0.0</td>\n",
       "            </tr><tr>\n",
       "                <td><strong>Upper bound</strong></td><td>1000.0</td>\n",
       "            </tr>\n",
       "        </table>\n",
       "        "
      ],
      "text/plain": [
       "<Reaction r_4768 at 0x299845b10>"
      ]
     },
     "execution_count": 4,
     "metadata": {},
     "output_type": "execute_result"
    }
   ],
   "source": [
    "model.reactions.r_4768"
   ]
  },
  {
   "cell_type": "code",
   "execution_count": 5,
   "metadata": {},
   "outputs": [
    {
     "data": {
      "text/html": [
       "\n",
       "        <table>\n",
       "            <tr>\n",
       "                <td><strong>Gene identifier</strong></td><td>YDR481C</td>\n",
       "            </tr><tr>\n",
       "                <td><strong>Name</strong></td><td>G_YDR481C</td>\n",
       "            </tr><tr>\n",
       "                <td><strong>Memory address</strong></td>\n",
       "                <td>0x297d9ee90</td>\n",
       "            </tr><tr>\n",
       "                <td><strong>Functional</strong></td><td>True</td>\n",
       "            </tr><tr>\n",
       "                <td><strong>In 2 reaction(s)</strong></td><td>\n",
       "                    r_4768, r_0188\n",
       "                    </td>\n",
       "            </tr>\n",
       "        </table>"
      ],
      "text/plain": [
       "<Gene YDR481C at 0x297d9ee90>"
      ]
     },
     "execution_count": 5,
     "metadata": {},
     "output_type": "execute_result"
    }
   ],
   "source": [
    "model.genes.YDR481C"
   ]
  },
  {
   "cell_type": "code",
   "execution_count": 6,
   "metadata": {},
   "outputs": [
    {
     "data": {
      "text/plain": [
       "0.08192817234184768"
      ]
     },
     "execution_count": 6,
     "metadata": {},
     "output_type": "execute_result"
    }
   ],
   "source": [
    "model.optimize().objective_value"
   ]
  },
  {
   "cell_type": "code",
   "execution_count": 7,
   "metadata": {},
   "outputs": [
    {
     "data": {
      "image/png": "[encoded data removed]",
      "text/plain": [
       "<Figure size 640x480 with 1 Axes>"
      ]
     },
     "metadata": {},
     "output_type": "display_data"
    }
   ],
   "source": [
    "solution = model.optimize()\n",
    "solution.fluxes.describe()\n",
    "fig = solution.fluxes.hist()\n",
    "fig.set_xlabel('flux [$mmol gDW^{-1} h^{-1}]$')\n",
    "fig.set_ylabel('Frequency');"
   ]
  },
  {
   "cell_type": "code",
   "execution_count": 8,
   "metadata": {},
   "outputs": [
    {
     "name": "stdout",
     "output_type": "stream",
     "text": [
      "Maximize\n",
      "1.0*r_2111 - 1.0*r_2111_reverse_58b69\n"
     ]
    }
   ],
   "source": [
    "print(model.objective)"
   ]
  },
  {
   "cell_type": "code",
   "execution_count": 9,
   "metadata": {},
   "outputs": [
    {
     "data": {
      "text/plain": [
       "[<Reaction r_2056 at 0x298818390>,\n",
       " <Reaction r_4731 at 0x2997f2090>,\n",
       " <Reaction r_4733 at 0x299811110>]"
      ]
     },
     "execution_count": 9,
     "metadata": {},
     "output_type": "execute_result"
    }
   ],
   "source": [
    "model.reactions.query(\"succinate exchange\",\"name\")"
   ]
  },
  {
   "cell_type": "code",
   "execution_count": 10,
   "metadata": {},
   "outputs": [
    {
     "name": "stdout",
     "output_type": "stream",
     "text": [
      "0.08192817234184836\n"
     ]
    }
   ],
   "source": [
    "medium = model.medium\n",
    "with model:\n",
    "   medium['r_1714']=1.\n",
    "   medium['r_4733']=0\n",
    "   model.medium = medium\n",
    "   solution = model.optimize()\n",
    "   print(solution.fluxes[\"r_2111\"])"
   ]
  },
  {
   "cell_type": "code",
   "execution_count": 11,
   "metadata": {},
   "outputs": [
    {
     "data": {
      "text/html": [
       "\n",
       "        <table>\n",
       "            <tr>\n",
       "                <td><strong>Metabolite identifier</strong></td><td>s_0190</td>\n",
       "            </tr><tr>\n",
       "                <td><strong>Name</strong></td><td>farnesyl diphosphate</td>\n",
       "            </tr><tr>\n",
       "                <td><strong>Memory address</strong></td>\n",
       "                <td>0x286cdba90</td>\n",
       "            </tr><tr>\n",
       "                <td><strong>Formula</strong></td><td>C15H25O7P2</td>\n",
       "            </tr><tr>\n",
       "                <td><strong>Compartment</strong></td><td>c</td>\n",
       "            </tr><tr>\n",
       "                <td><strong>In 7 reaction(s)</strong></td><td>\n",
       "                    r_1766, r_4768, R08695, r_0462, r_0373, r_1012, r_4604\n",
       "                    </td>\n",
       "            </tr>\n",
       "        </table>"
      ],
      "text/plain": [
       "<Metabolite s_0190 at 0x286cdba90>"
      ]
     },
     "execution_count": 11,
     "metadata": {},
     "output_type": "execute_result"
    }
   ],
   "source": [
    "model.metabolites.query(\"farnesyl\",\"name\")\n",
    "model.metabolites.s_0190"
   ]
  },
  {
   "cell_type": "code",
   "execution_count": 12,
   "metadata": {},
   "outputs": [
    {
     "name": "stdout",
     "output_type": "stream",
     "text": [
      "s_0189\n",
      "geranylgeranyl diphosphate\n",
      "s_0190\n",
      "farnesyl diphosphate\n",
      "s_0633\n",
      "diphosphate\n",
      "s_0745\n",
      "geranyl diphosphate\n",
      "s_0943\n",
      "isopentenyl diphosphate\n",
      "s_1231\n",
      "nonaprenyl diphosphate\n",
      "s_1311\n",
      "pentaprenyl diphosphate\n",
      "s_1376\n",
      "prenyl diphosphate(3-)\n",
      "s_2860\n",
      "diphosphate\n"
     ]
    }
   ],
   "source": [
    "for reaction in model.metabolites.query('diphosphate','name').query('c','compartment'):\n",
    "   print(reaction.id)\n",
    "   print(reaction.name)   \n"
   ]
  },
  {
   "cell_type": "code",
   "execution_count": 13,
   "metadata": {},
   "outputs": [
    {
     "data": {
      "text/html": [
       "\n",
       "        <table>\n",
       "            <tr>\n",
       "                <td><strong>Metabolite identifier</strong></td><td>s_0633</td>\n",
       "            </tr><tr>\n",
       "                <td><strong>Name</strong></td><td>diphosphate</td>\n",
       "            </tr><tr>\n",
       "                <td><strong>Memory address</strong></td>\n",
       "                <td>0x2874cc2d0</td>\n",
       "            </tr><tr>\n",
       "                <td><strong>Formula</strong></td><td>HO7P2</td>\n",
       "            </tr><tr>\n",
       "                <td><strong>Compartment</strong></td><td>c</td>\n",
       "            </tr><tr>\n",
       "                <td><strong>In 86 reaction(s)</strong></td><td>\n",
       "                    r_0459, r_0722, r_0665, r_1747, r_0539, r_2032, r_3587, r_4258, r_0220, r_0157, r_0479, r_0225, r_0112, r_0230, r_0364, r_4460, r_4268, r_0147, r_0783, r_0461, r_1057, r_0568, r_0915, r_4278,...\n",
       "                    </td>\n",
       "            </tr>\n",
       "        </table>"
      ],
      "text/plain": [
       "<Metabolite s_0633 at 0x2874cc2d0>"
      ]
     },
     "execution_count": 13,
     "metadata": {},
     "output_type": "execute_result"
    }
   ],
   "source": [
    "model.metabolites.s_0633"
   ]
  },
  {
   "cell_type": "code",
   "execution_count": 14,
   "metadata": {},
   "outputs": [],
   "source": [
    "from cobra import Reaction, Metabolite, Gene"
   ]
  },
  {
   "cell_type": "code",
   "execution_count": 21,
   "metadata": {},
   "outputs": [
    {
     "data": {
      "text/html": [
       "\n",
       "        <table>\n",
       "            <tr>\n",
       "                <td><strong>Reaction identifier</strong></td><td>R08695</td>\n",
       "            </tr><tr>\n",
       "                <td><strong>Name</strong></td><td></td>\n",
       "            </tr><tr>\n",
       "                <td><strong>Memory address</strong></td>\n",
       "                <td>0x289e85c10</td>\n",
       "            </tr><tr>\n",
       "                <td><strong>Stoichiometry</strong></td>\n",
       "                <td>\n",
       "                    <p style='text-align:right'>s_0190 --> beta_farnesene_c + s_0633</p>\n",
       "                    <p style='text-align:right'>farnesyl diphosphate --> Beta-farnesene + diphosphate</p>\n",
       "                </td>\n",
       "            </tr><tr>\n",
       "                <td><strong>GPR</strong></td><td></td>\n",
       "            </tr><tr>\n",
       "                <td><strong>Lower bound</strong></td><td>0.0</td>\n",
       "            </tr><tr>\n",
       "                <td><strong>Upper bound</strong></td><td>1000.0</td>\n",
       "            </tr>\n",
       "        </table>\n",
       "        "
      ],
      "text/plain": [
       "<Reaction R08695 at 0x289e85c10>"
      ]
     },
     "execution_count": 21,
     "metadata": {},
     "output_type": "execute_result"
    }
   ],
   "source": [
    "Beta_farnesene_synthase_reaction = Reaction('R08695')\n",
    "Beta_farnesene = Metabolite(name='Beta-farnesene',id='beta_farnesene_c',compartment='c')\n",
    "Beta_farnesene_synthase_gene = Gene(id='R08695',name='G_R08695',functional=True,)\n",
    "Beta_farnesene_synthase_reaction.add_metabolites({model.metabolites.s_0190: -1,\n",
    "                                                  model.metabolites.s_0633: 1,\n",
    "                                                  Beta_farnesene: 1 # our product\n",
    "                                                  })\n",
    "Beta_farnesene_synthase_reaction"
   ]
  },
  {
   "cell_type": "code",
   "execution_count": 22,
   "metadata": {},
   "outputs": [
    {
     "name": "stderr",
     "output_type": "stream",
     "text": [
      "Ignoring reaction 'R08695' since it already exists.\n"
     ]
    },
    {
     "data": {
      "text/html": [
       "\n",
       "        <table>\n",
       "            <tr>\n",
       "                <td><strong>Reaction identifier</strong></td><td>R08695</td>\n",
       "            </tr><tr>\n",
       "                <td><strong>Name</strong></td><td></td>\n",
       "            </tr><tr>\n",
       "                <td><strong>Memory address</strong></td>\n",
       "                <td>0x29984b850</td>\n",
       "            </tr><tr>\n",
       "                <td><strong>Stoichiometry</strong></td>\n",
       "                <td>\n",
       "                    <p style='text-align:right'>s_0190 --> beta_farnesene_c + s_0633</p>\n",
       "                    <p style='text-align:right'>farnesyl diphosphate --> Beta-farnesene + diphosphate</p>\n",
       "                </td>\n",
       "            </tr><tr>\n",
       "                <td><strong>GPR</strong></td><td></td>\n",
       "            </tr><tr>\n",
       "                <td><strong>Lower bound</strong></td><td>0.0</td>\n",
       "            </tr><tr>\n",
       "                <td><strong>Upper bound</strong></td><td>1000.0</td>\n",
       "            </tr>\n",
       "        </table>\n",
       "        "
      ],
      "text/plain": [
       "<Reaction R08695 at 0x29984b850>"
      ]
     },
     "execution_count": 22,
     "metadata": {},
     "output_type": "execute_result"
    }
   ],
   "source": [
    "model.add_reactions([Beta_farnesene_synthase_reaction])\n",
    "model.reactions.get_by_id(Beta_farnesene_synthase_reaction.id)"
   ]
  },
  {
   "cell_type": "code",
   "execution_count": 23,
   "metadata": {},
   "outputs": [
    {
     "data": {
      "text/html": [
       "\n",
       "        <table>\n",
       "            <tr>\n",
       "                <td><strong>Reaction identifier</strong></td><td>BFD</td>\n",
       "            </tr><tr>\n",
       "                <td><strong>Name</strong></td><td></td>\n",
       "            </tr><tr>\n",
       "                <td><strong>Memory address</strong></td>\n",
       "                <td>0x289d50cd0</td>\n",
       "            </tr><tr>\n",
       "                <td><strong>Stoichiometry</strong></td>\n",
       "                <td>\n",
       "                    <p style='text-align:right'>beta_farnesene_c --></p>\n",
       "                    <p style='text-align:right'>Beta-farnesene --></p>\n",
       "                </td>\n",
       "            </tr><tr>\n",
       "                <td><strong>GPR</strong></td><td></td>\n",
       "            </tr><tr>\n",
       "                <td><strong>Lower bound</strong></td><td>0.0</td>\n",
       "            </tr><tr>\n",
       "                <td><strong>Upper bound</strong></td><td>1000.0</td>\n",
       "            </tr>\n",
       "        </table>\n",
       "        "
      ],
      "text/plain": [
       "<Reaction BFD at 0x289d50cd0>"
      ]
     },
     "execution_count": 23,
     "metadata": {},
     "output_type": "execute_result"
    }
   ],
   "source": [
    "Beta_farnesene_demand_reaction = Reaction('BFD')\n",
    "Beta_farnesene_demand_reaction.add_metabolites({\n",
    "                                                  Beta_farnesene: -1 # our product\n",
    "                                                  })\n",
    "Beta_farnesene_demand_reaction"
   ]
  },
  {
   "cell_type": "code",
   "execution_count": 24,
   "metadata": {},
   "outputs": [
    {
     "data": {
      "text/html": [
       "\n",
       "        <table>\n",
       "            <tr>\n",
       "                <td><strong>Reaction identifier</strong></td><td>BFD</td>\n",
       "            </tr><tr>\n",
       "                <td><strong>Name</strong></td><td></td>\n",
       "            </tr><tr>\n",
       "                <td><strong>Memory address</strong></td>\n",
       "                <td>0x289d50cd0</td>\n",
       "            </tr><tr>\n",
       "                <td><strong>Stoichiometry</strong></td>\n",
       "                <td>\n",
       "                    <p style='text-align:right'>beta_farnesene_c --></p>\n",
       "                    <p style='text-align:right'>Beta-farnesene --></p>\n",
       "                </td>\n",
       "            </tr><tr>\n",
       "                <td><strong>GPR</strong></td><td></td>\n",
       "            </tr><tr>\n",
       "                <td><strong>Lower bound</strong></td><td>0.0</td>\n",
       "            </tr><tr>\n",
       "                <td><strong>Upper bound</strong></td><td>1000.0</td>\n",
       "            </tr>\n",
       "        </table>\n",
       "        "
      ],
      "text/plain": [
       "<Reaction BFD at 0x289d50cd0>"
      ]
     },
     "execution_count": 24,
     "metadata": {},
     "output_type": "execute_result"
    }
   ],
   "source": [
    "model.add_reactions([Beta_farnesene_demand_reaction])\n",
    "model.reactions.get_by_id(Beta_farnesene_demand_reaction.id)"
   ]
  },
  {
   "cell_type": "code",
   "execution_count": 26,
   "metadata": {},
   "outputs": [
    {
     "data": {
      "text/plain": [
       "{'r_1654': 1000.0,\n",
       " 'r_1714': 1.0,\n",
       " 'r_1832': 1000.0,\n",
       " 'r_1861': 1000.0,\n",
       " 'r_1992': 1000.0,\n",
       " 'r_2005': 1000.0,\n",
       " 'r_2020': 1000.0,\n",
       " 'r_2049': 1000.0,\n",
       " 'r_2060': 1000.0,\n",
       " 'r_2100': 1000.0,\n",
       " 'r_4593': 1000.0,\n",
       " 'r_4594': 1000.0,\n",
       " 'r_4595': 1000.0,\n",
       " 'r_4596': 1000.0,\n",
       " 'r_4597': 1000.0,\n",
       " 'r_4600': 1000.0}"
      ]
     },
     "execution_count": 26,
     "metadata": {},
     "output_type": "execute_result"
    }
   ],
   "source": [
    "model.medium"
   ]
  },
  {
   "cell_type": "code",
   "execution_count": 31,
   "metadata": {},
   "outputs": [
    {
     "name": "stdout",
     "output_type": "stream",
     "text": [
      "2.3416532799478933\n"
     ]
    }
   ],
   "source": [
    "medium = model.medium\n",
    "with model:\n",
    "   model.objective = model.reactions.BFD\n",
    "   medium['r_1714'] = 10  #make glucose conc 10x higher\n",
    "   model.medium = medium\n",
    "   print(model.optimize().objective_value)"
   ]
  },
  {
   "cell_type": "code",
   "execution_count": null,
   "metadata": {},
   "outputs": [],
   "source": []
  },
  {
   "cell_type": "code",
   "execution_count": null,
   "metadata": {},
   "outputs": [],
   "source": []
  },
  {
   "cell_type": "code",
   "execution_count": null,
   "metadata": {},
   "outputs": [],
   "source": []
  },
  {
   "cell_type": "code",
   "execution_count": 32,
   "metadata": {},
   "outputs": [],
   "source": [
    "# io.write_yeast_model(model)   # saving"
   ]
  }
 ],
 "metadata": {
  "kernelspec": {
   "display_name": "base",
   "language": "python",
   "name": "python3"
  },
  "language_info": {
   "codemirror_mode": {
    "name": "ipython",
    "version": 3
   },
   "file_extension": ".py",
   "mimetype": "text/x-python",
   "name": "python",
   "nbconvert_exporter": "python",
   "pygments_lexer": "ipython3",
   "version": "3.11.4"
  }
 },
 "nbformat": 4,
 "nbformat_minor": 4
}
