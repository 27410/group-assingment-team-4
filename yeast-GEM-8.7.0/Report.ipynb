{
 "cells": [
  {
   "cell_type": "markdown",
   "metadata": {},
   "source": [
    "# Metabolic Engineering of <i>Saccharomyces cerevisiae</i> for production of farnesene"
   ]
  },
  {
   "cell_type": "markdown",
   "metadata": {},
   "source": [
    "## 1. Introduction"
   ]
  },
  {
   "cell_type": "markdown",
   "metadata": {},
   "source": [
    "### 1.1 Literature review of the compound"
   ]
  },
  {
   "cell_type": "markdown",
   "metadata": {},
   "source": [
    "#### Applications of the product\n",
    "Farnesene is a natural product that is classified as an acyclic sesquiterpene. It is a 15 carbon atoms hydrocarbon, and it is extremely volatile. In nature it is observed as two different isomers, α- and β-farnesene. It is naturally produced by aphids and other animals as a pheromone, while it is also present in numerous plant essential oils. Its structure and unique properties make it a great substrate for the synthesis of various materials, such as olefins and polymers, with applications as biofuels, cosmetics, lubricants and surfactants. It can also be used for the chemical synthesis of Vitamin E precursors. Additionally, farnesene has been reported to possess anti-inflammatory, antimicrobial and sedating properties. Lately, it receives increased attention from industry as a green jet fuel and diesel alternative. A substantial effort in its production by microbial cell factories is made by researchers, because the alternative methods of chemical synthesis and extraction from plant material are costly, inefficient and not sustainable.\n",
    "\n",
    "#### Evaluation of market potential\n",
    "The global market value of farnesene was estimated around 250 million USD in 2021, and is expected to reach 422.36 million by 2030. The compound annual growth rate (CAGR) for this forecast period (2022-2030) is around 5 %. During this period, farnesene’s market in North America is expected to grow faster than other regions.\n",
    "Generally, farnesene's market value is depended on availability and supply of raw materials, which is mainly sugarcanes and other plant feedstock. That means that variation in regional weather conditions have a direct impact on farnesene’s market growth. In addition, the Covid-19 pandemic also greatly impacted the market of farnesene. The global restrictions and the disruption of supply lines hindered the growth and expansion of the named market, which is, however, expected to bounce back.\n",
    "Farnesene Market is classified in the categories of Cosmetics & Personal Care, Performance Material, Flavors & Fragrances and Fuels & Lubes. Fuels and Lubes is the leading sector of the total farnesene market (21,6 %, 2021), and its percentage is expected to increase even further, due to the growing demand for alternative fuels. Europe is the leading region of global farnesene market (32,5 % market share in 2021), due to its high acceptance by European market. Some of the major companies involved in the production and supply of farnesene are Chromatin, Intexon and Amyris.\n",
    "#### Biosynthetic pathway/genes\n",
    "Farnesene is synthesized by two alternative pathways, the Mevalonate Pathway (MVA) and the 2-methyl-D-erythrito-4-phosphate Pathway (MEP or DXP Pathway). The MVA pathway, which is the sterol biosynthetic pathway, is the one utilized in this project. The first step is the condensation of two acetyl-CoAs to form acetoacetyl-CoA. Afterwards, another acetyl-CoA is added to acetoacetyl-CoA to produce 3-hydroxy-3-methylglutaryl-CoA (HMG-CoA), a reaction which is irreversible. Then, mevalonic acid is produced by the HMG-CoA reductase (HMGR) from HMG-CoA utilizing NADPH as a cofactor. Subsequently, mevalonate kinase (MVK) and phosphomevalonate kinase (PMVK), catalyze the sequential phosphorylation of mevalonic acid to produce mevalonate 5-phosphate and mevalonate 5-diphosphate. Then,  IPP is produced by mevalonate diphosphate decarboxylase (PMVD). This molecule can be isomerised by IDI to DMAPP. IPP and DMAPP (5 carbons) are the two precursors of all terpenoid backbones, and their condensation forms GPP (10 carbons). The addition of another IPP molecule forms farnesyl diphosphate (FPP, 15 carbon atoms), which is the substrate of the farnesene synthases and the precursor of all sesquiterpenoids. Finally, a farnesene synthase produces farnesene by removing the diphosphate group. Our projects focuses on the production of β-farnesene, so a β-farnesene synthase is used for the final biosynthetic step."
   ]
  },
  {
   "cell_type": "markdown",
   "metadata": {},
   "source": [
    "### 1.2 Literature review of the cell factory - <i>Saccharomyces cerevisiae</i> as a cell factory for the production of farnesene\n",
    "<i>Saccharomyces cerevisiae</i>, also known as baker's yeast, is a single cell eukaryotic organism classified as yeast. It is a model organism, extensively studied, and has been used in biotechnology for centuries."
   ]
  },
  {
   "cell_type": "markdown",
   "metadata": {},
   "source": [
    "#### General advantages\n",
    "<i>S. cerevisiae</i> has been used excessively as a cell factory because it possesses many advantages. As a model eukaryotic organism, it is extremely well studied and we have a very thorough understanding of its biology and genetics. In addition, there are numerous tools and techniques available to genetically manipulate the organism, as well as the possibility to create diploid mutants easily by mating spores of the desired genotypes. Other advantages of <i>S. cerevisiae</i> are its Generally Regarded As Safe (GRAS) status, its high growth rate and ability to catabolize efficiently numerous sugars, its tolerance to harsh industrial conditions and the high availability of knowledge about bioprocesses utilizing this organism. Specifically for the production of farnesene, <i>S. cerevisiae</i> is ideal because of the fact that it contains an endogenous MVA pathway for the production of its native sterols, which can be manipulated to produce terpenoids."
   ]
  },
  {
   "cell_type": "markdown",
   "metadata": {},
   "source": [
    "#### General disadvantages\n",
    "While <i>S. cerevisiae</i> is a powerfull microbial host for the production of numerous products, it does not come without its drawbacks. The main disadvantage of <i>S. cerevisiae</i> is the fact that, while it posseses the ability to catabolize sugars quite efficiently, the spectrum of feedstock that can be used as substrates is still pretty limited compared to other fungi or bacteria. For example, <i>S. cerevisiae</i> does not have the ability to use renewable and waste feedstocks as carbon source, such as glycerol and xylose, to support low cost circular economy bioprocesses.\n",
    "In addition, there are bottlenecks in the production of many products in <i>S. cerevisiae</i>, such as inneficient precursor and cofactor supply, product toxicity and complex innate regulation that inhibits high production and expression of desired genes. All those factors can lead to low yields and production rates, that are not of industrial interest.\n"
   ]
  },
  {
   "cell_type": "markdown",
   "metadata": {},
   "source": [
    "#### Suitability of the cell factory for the product\n",
    "The host of choice to produce terpenoids should include an innate biosythetic pathway for precursor supply, and <i>S. cerevisiae</i> does so. Its native MVA pathway is extensively well studied, the functions and kinetics of enzymes are known, and we have a thorough understanding of the unerlying regulation mechanisms. The toxicity of some terpenoids to <i>S. cerevisiae</i> cells can be overcome with several cultivation strategies, such as inducible expression of biosynthetic genes and two-phase cultivation, where the products are captured by an organic phase. Moreover, there are many reported successfull attempts to produce several terpenoids, some with impressive final titers.\n",
    "\n",
    "Different host organism choices could be the the non-cannonical yeast <i>Yarrowia lipolytica</i>, because it posseses the abillity to utillize several cheap carbon source alternatives, as well as plant cell cultures."
   ]
  },
  {
   "cell_type": "markdown",
   "metadata": {},
   "source": [
    "## 2. Problem definition\n",
    "Nowdays, most of the market's demand for farnesene is met by chemical synthesis and extraction from plant material. Those production methods are energy intensive, not environmentally friendly as they use plant tissue and petrochemicals, and as for plant extraction especially, yields are quite low as huge amounts of plant material are needed for just milligrams of farnesene. In addition, the availability of plant material is influenced by climate conditions and so the supply of farnesene to the market can be problematic.\n",
    "\n",
    "Heterologous production of farnesene in a microbial cell factory is a sustainable, low carbon footprint and non-energy intensive alternative. However, the final titers have to be high enough to make the whole industrial process feasible and economically attractive. That includes both high producing strains and optimized fermentation and downstream processes. To produce farnesene in <i>S. cerevisiae</i>, the insertion and expression of a heterologous farnesene synthase is required. Furthermore, higher production can be achieved with the use of metabolic engineering of the recombinant yeast strain to increase the supply of MVA pathway precursors and cofactors used in biosynthetic reactions, while minimizing the carbon and cofactor loses from other pathways. \n",
    "\n",
    "Our project aims at utillizing a GSM for <i>S. cerevisiae</i>, named Yeast8, to engineer the yeast strain EGY48 for the efficient production of β-farnesene. For this purpose, a β-farnesene synthase from <i>Artemisia annua</i> (<i>aaβFS</i>) will be integrated into EGY48, and we will iincorporate quantitative physiology data from EGY48 to our model in the form of carbon constraints to mimic its phenotype. This approach will shed some light into the metabolic changes required to increase the carbon flux towards the biosynthesis of β-farnesene, and will allow the construction of high producing <i>S. cerevisiae</i> cell factories, suitable for industrial biotechnological production of the desired compound."
   ]
  },
  {
   "cell_type": "markdown",
   "metadata": {},
   "source": [
    "## 3. Selection and assessment of existing GSM (<500 words)"
   ]
  },
  {
   "cell_type": "markdown",
   "metadata": {},
   "source": [
    "https://www.nature.com/articles/s41467-019-11581-3\n",
    "#m"
   ]
  },
  {
   "cell_type": "markdown",
   "metadata": {},
   "source": [
    "## 4. Computer-Aided Cell Factory Engineering (<1500 words)"
   ]
  },
  {
   "cell_type": "markdown",
   "metadata": {},
   "source": [
    "## 5. Discussion (<500 words)"
   ]
  },
  {
   "cell_type": "markdown",
   "metadata": {},
   "source": [
    "## 6. Conclusion (<200 words)"
   ]
  },
  {
   "cell_type": "markdown",
   "metadata": {},
   "source": [
    "## References"
   ]
  },
  {
   "cell_type": "markdown",
   "metadata": {},
   "source": [
    "put references here\n",
    "\n",
    "[1] anfkladg\n",
    "\n",
    "[2] ahsfdihsfs\n"
   ]
  },
  {
   "cell_type": "markdown",
   "metadata": {},
   "source": [
    "# Run this before doing anything else, and your model should also work now:"
   ]
  },
  {
   "cell_type": "code",
   "execution_count": 7,
   "metadata": {},
   "outputs": [
    {
     "name": "stdout",
     "output_type": "stream",
     "text": [
      "Note: you may need to restart the kernel to use updated packages.\n"
     ]
    },
    {
     "name": "stderr",
     "output_type": "stream",
     "text": [
      "ERROR: Invalid requirement: '#'\n"
     ]
    },
    {
     "name": "stdout",
     "output_type": "stream",
     "text": [
      "Collecting python-dotenv\n",
      "  Downloading python_dotenv-1.0.0-py3-none-any.whl (19 kB)\n",
      "Installing collected packages: python-dotenv\n",
      "Successfully installed python-dotenv-1.0.0\n",
      "Note: you may need to restart the kernel to use updated packages.\n",
      "Requirement already satisfied: cobra in c:\\users\\mathi\\anaconda3\\lib\\site-packages (0.27.0)\n",
      "Requirement already satisfied: appdirs~=1.4 in c:\\users\\mathi\\anaconda3\\lib\\site-packages (from cobra) (1.4.4)\n",
      "Requirement already satisfied: depinfo~=1.7 in c:\\users\\mathi\\anaconda3\\lib\\site-packages (from cobra) (1.7.0)\n",
      "Requirement already satisfied: diskcache~=5.0 in c:\\users\\mathi\\anaconda3\\lib\\site-packages (from cobra) (5.6.3)\n",
      "Requirement already satisfied: future in c:\\users\\mathi\\anaconda3\\lib\\site-packages (from cobra) (0.18.3)\n",
      "Requirement already satisfied: httpx~=0.24 in c:\\users\\mathi\\anaconda3\\lib\\site-packages (from cobra) (0.25.0)\n",
      "Requirement already satisfied: importlib-resources in c:\\users\\mathi\\anaconda3\\lib\\site-packages (from cobra) (6.1.0)\n",
      "Requirement already satisfied: numpy>=1.13 in c:\\users\\mathi\\anaconda3\\lib\\site-packages (from cobra) (1.24.3)\n",
      "Requirement already satisfied: optlang~=1.5 in c:\\users\\mathi\\anaconda3\\lib\\site-packages (from cobra) (1.7.0)\n",
      "Requirement already satisfied: pandas~=1.0 in c:\\users\\mathi\\anaconda3\\lib\\site-packages (from cobra) (1.5.3)\n",
      "Requirement already satisfied: pydantic>=1.6 in c:\\users\\mathi\\anaconda3\\lib\\site-packages (from cobra) (2.4.0)\n",
      "Requirement already satisfied: python-libsbml~=5.19 in c:\\users\\mathi\\anaconda3\\lib\\site-packages (from cobra) (5.20.2)\n",
      "Requirement already satisfied: rich>=8.0 in c:\\users\\mathi\\anaconda3\\lib\\site-packages (from cobra) (13.5.3)\n",
      "Requirement already satisfied: ruamel.yaml~=0.16 in c:\\users\\mathi\\anaconda3\\lib\\site-packages (from cobra) (0.17.21)\n",
      "Requirement already satisfied: swiglpk in c:\\users\\mathi\\anaconda3\\lib\\site-packages (from cobra) (5.0.8)\n",
      "Requirement already satisfied: certifi in c:\\users\\mathi\\anaconda3\\lib\\site-packages (from httpx~=0.24->cobra) (2023.7.22)\n",
      "Requirement already satisfied: httpcore<0.19.0,>=0.18.0 in c:\\users\\mathi\\anaconda3\\lib\\site-packages (from httpx~=0.24->cobra) (0.18.0)\n",
      "Requirement already satisfied: idna in c:\\users\\mathi\\anaconda3\\lib\\site-packages (from httpx~=0.24->cobra) (3.4)\n",
      "Requirement already satisfied: sniffio in c:\\users\\mathi\\anaconda3\\lib\\site-packages (from httpx~=0.24->cobra) (1.2.0)\n",
      "Requirement already satisfied: six>=1.9 in c:\\users\\mathi\\anaconda3\\lib\\site-packages (from optlang~=1.5->cobra) (1.16.0)\n",
      "Requirement already satisfied: sympy>=1.12.0 in c:\\users\\mathi\\anaconda3\\lib\\site-packages (from optlang~=1.5->cobra) (1.12)\n",
      "Requirement already satisfied: python-dateutil>=2.8.1 in c:\\users\\mathi\\anaconda3\\lib\\site-packages (from pandas~=1.0->cobra) (2.8.2)\n",
      "Requirement already satisfied: pytz>=2020.1 in c:\\users\\mathi\\anaconda3\\lib\\site-packages (from pandas~=1.0->cobra) (2022.7)\n",
      "Requirement already satisfied: annotated-types>=0.4.0 in c:\\users\\mathi\\anaconda3\\lib\\site-packages (from pydantic>=1.6->cobra) (0.5.0)\n",
      "Requirement already satisfied: pydantic-core==2.10.0 in c:\\users\\mathi\\anaconda3\\lib\\site-packages (from pydantic>=1.6->cobra) (2.10.0)\n",
      "Requirement already satisfied: typing-extensions>=4.6.1 in c:\\users\\mathi\\anaconda3\\lib\\site-packages (from pydantic>=1.6->cobra) (4.7.1)\n",
      "Requirement already satisfied: markdown-it-py>=2.2.0 in c:\\users\\mathi\\anaconda3\\lib\\site-packages (from rich>=8.0->cobra) (2.2.0)\n",
      "Requirement already satisfied: pygments<3.0.0,>=2.13.0 in c:\\users\\mathi\\anaconda3\\lib\\site-packages (from rich>=8.0->cobra) (2.15.1)\n",
      "Requirement already satisfied: anyio<5.0,>=3.0 in c:\\users\\mathi\\anaconda3\\lib\\site-packages (from httpcore<0.19.0,>=0.18.0->httpx~=0.24->cobra) (3.5.0)\n",
      "Requirement already satisfied: h11<0.15,>=0.13 in c:\\users\\mathi\\anaconda3\\lib\\site-packages (from httpcore<0.19.0,>=0.18.0->httpx~=0.24->cobra) (0.14.0)\n",
      "Requirement already satisfied: mdurl~=0.1 in c:\\users\\mathi\\anaconda3\\lib\\site-packages (from markdown-it-py>=2.2.0->rich>=8.0->cobra) (0.1.0)\n",
      "Requirement already satisfied: mpmath>=0.19 in c:\\users\\mathi\\anaconda3\\lib\\site-packages (from sympy>=1.12.0->optlang~=1.5->cobra) (1.3.0)\n",
      "Note: you may need to restart the kernel to use updated packages.\n"
     ]
    }
   ],
   "source": [
    "# Remove \"#\" before the commands below this when you want to first make sure you got everything to the model\n",
    "\n",
    "%pip install -r yeast-GEM-8.7.0/code/requirements/requirements.txt  # install all dependencies\n",
    "%pip install python-dotenv\n",
    "%pip install cobra\n",
    "\n",
    "# After running these commands run the code below once and if no errors show up you should be good\n"
   ]
  },
  {
   "cell_type": "code",
   "execution_count": 1,
   "metadata": {},
   "outputs": [],
   "source": [
    "import code.io as io\n",
    "model = io.read_yeast_model() # loading\n",
    "io.write_yeast_model(model)   # saving\n"
   ]
  },
  {
   "cell_type": "code",
   "execution_count": 2,
   "metadata": {},
   "outputs": [
    {
     "data": {
      "text/plain": [
       "{'ce': 'cell envelope',\n",
       " 'c': 'cytoplasm',\n",
       " 'e': 'extracellular',\n",
       " 'm': 'mitochondrion',\n",
       " 'n': 'nucleus',\n",
       " 'p': 'peroxisome',\n",
       " 'er': 'endoplasmic reticulum',\n",
       " 'g': 'Golgi',\n",
       " 'lp': 'lipid particle',\n",
       " 'v': 'vacuole',\n",
       " 'erm': 'endoplasmic reticulum membrane',\n",
       " 'vm': 'vacuolar membrane',\n",
       " 'gm': 'Golgi membrane',\n",
       " 'mm': 'mitochondrial membrane'}"
      ]
     },
     "execution_count": 2,
     "metadata": {},
     "output_type": "execute_result"
    }
   ],
   "source": [
    "model.compartments"
   ]
  },
  {
   "cell_type": "code",
   "execution_count": 3,
   "metadata": {},
   "outputs": [
    {
     "data": {
      "text/html": [
       "\n",
       "        <table>\n",
       "            <tr>\n",
       "                <td><strong>Metabolite identifier</strong></td><td>s_0190</td>\n",
       "            </tr><tr>\n",
       "                <td><strong>Name</strong></td><td>farnesyl diphosphate</td>\n",
       "            </tr><tr>\n",
       "                <td><strong>Memory address</strong></td>\n",
       "                <td>0x160c64db890</td>\n",
       "            </tr><tr>\n",
       "                <td><strong>Formula</strong></td><td>C15H25O7P2</td>\n",
       "            </tr><tr>\n",
       "                <td><strong>Compartment</strong></td><td>c</td>\n",
       "            </tr><tr>\n",
       "                <td><strong>In 6 reaction(s)</strong></td><td>\n",
       "                    r_4604, r_1012, r_4768, r_0462, r_0373, r_1766\n",
       "                    </td>\n",
       "            </tr>\n",
       "        </table>"
      ],
      "text/plain": [
       "<Metabolite s_0190 at 0x160c64db890>"
      ]
     },
     "execution_count": 3,
     "metadata": {},
     "output_type": "execute_result"
    }
   ],
   "source": [
    "model.metabolites.query(\"farnesyl diphosphate\",\"name\")\n",
    "model.metabolites.s_0190\n"
   ]
  },
  {
   "cell_type": "code",
   "execution_count": 4,
   "metadata": {},
   "outputs": [
    {
     "data": {
      "text/html": [
       "\n",
       "        <table>\n",
       "            <tr>\n",
       "                <td><strong>Reaction identifier</strong></td><td>r_4768</td>\n",
       "            </tr><tr>\n",
       "                <td><strong>Name</strong></td><td>farnesyl diphosphatase</td>\n",
       "            </tr><tr>\n",
       "                <td><strong>Memory address</strong></td>\n",
       "                <td>0x160d7f82ed0</td>\n",
       "            </tr><tr>\n",
       "                <td><strong>Stoichiometry</strong></td>\n",
       "                <td>\n",
       "                    <p style='text-align:right'>s_0190 + s_0803 --> s_0633 + s_4303</p>\n",
       "                    <p style='text-align:right'>farnesyl diphosphate + H2O --> diphosphate + farnesol</p>\n",
       "                </td>\n",
       "            </tr><tr>\n",
       "                <td><strong>GPR</strong></td><td>YDR481C</td>\n",
       "            </tr><tr>\n",
       "                <td><strong>Lower bound</strong></td><td>0.0</td>\n",
       "            </tr><tr>\n",
       "                <td><strong>Upper bound</strong></td><td>1000.0</td>\n",
       "            </tr>\n",
       "        </table>\n",
       "        "
      ],
      "text/plain": [
       "<Reaction r_4768 at 0x160d7f82ed0>"
      ]
     },
     "execution_count": 4,
     "metadata": {},
     "output_type": "execute_result"
    }
   ],
   "source": [
    "model.reactions.r_4768"
   ]
  },
  {
   "cell_type": "code",
   "execution_count": 5,
   "metadata": {},
   "outputs": [
    {
     "data": {
      "text/html": [
       "\n",
       "        <table>\n",
       "            <tr>\n",
       "                <td><strong>Gene identifier</strong></td><td>YDR481C</td>\n",
       "            </tr><tr>\n",
       "                <td><strong>Name</strong></td><td>G_YDR481C</td>\n",
       "            </tr><tr>\n",
       "                <td><strong>Memory address</strong></td>\n",
       "                <td>0x160d64f1250</td>\n",
       "            </tr><tr>\n",
       "                <td><strong>Functional</strong></td><td>True</td>\n",
       "            </tr><tr>\n",
       "                <td><strong>In 2 reaction(s)</strong></td><td>\n",
       "                    r_0188, r_4768\n",
       "                    </td>\n",
       "            </tr>\n",
       "        </table>"
      ],
      "text/plain": [
       "<Gene YDR481C at 0x160d64f1250>"
      ]
     },
     "execution_count": 5,
     "metadata": {},
     "output_type": "execute_result"
    }
   ],
   "source": [
    "model.genes.YDR481C"
   ]
  },
  {
   "cell_type": "code",
   "execution_count": 6,
   "metadata": {},
   "outputs": [
    {
     "data": {
      "text/plain": [
       "0.08192815852363856"
      ]
     },
     "execution_count": 6,
     "metadata": {},
     "output_type": "execute_result"
    }
   ],
   "source": [
    "model.optimize().objective_value"
   ]
  },
  {
   "cell_type": "code",
   "execution_count": 7,
   "metadata": {},
   "outputs": [
    {
     "data": {
      "image/png": "[encoded data removed]",
      "text/plain": [
       "<Figure size 640x480 with 1 Axes>"
      ]
     },
     "metadata": {},
     "output_type": "display_data"
    }
   ],
   "source": [
    "solution = model.optimize()\n",
    "solution.fluxes.describe()\n",
    "fig = solution.fluxes.hist()\n",
    "fig.set_xlabel('flux [$mmol gDW^{-1} h^{-1}]$')\n",
    "fig.set_ylabel('Frequency');"
   ]
  },
  {
   "cell_type": "code",
   "execution_count": 8,
   "metadata": {},
   "outputs": [
    {
     "name": "stdout",
     "output_type": "stream",
     "text": [
      "Maximize\n",
      "1.0*r_2111 - 1.0*r_2111_reverse_58b69\n"
     ]
    }
   ],
   "source": [
    "print(model.objective)"
   ]
  },
  {
   "cell_type": "code",
   "execution_count": 9,
   "metadata": {},
   "outputs": [
    {
     "data": {
      "text/plain": [
       "[<Reaction r_2056 at 0x160d6f65590>,\n",
       " <Reaction r_4731 at 0x160d7f145d0>,\n",
       " <Reaction r_4733 at 0x160d7f5e710>]"
      ]
     },
     "execution_count": 9,
     "metadata": {},
     "output_type": "execute_result"
    }
   ],
   "source": [
    "model.reactions.query(\"succinate exchange\",\"name\")"
   ]
  },
  {
   "cell_type": "code",
   "execution_count": 10,
   "metadata": {},
   "outputs": [
    {
     "name": "stdout",
     "output_type": "stream",
     "text": [
      "0.081928158523638\n"
     ]
    }
   ],
   "source": [
    "medium = model.medium\n",
    "with model:\n",
    "   medium['r_1714']=1.\n",
    "   medium['r_4733']=0\n",
    "   model.medium = medium\n",
    "   solution = model.optimize()\n",
    "   print(solution.fluxes[\"r_2111\"])"
   ]
  },
  {
   "cell_type": "code",
   "execution_count": 11,
   "metadata": {},
   "outputs": [
    {
     "data": {
      "text/html": [
       "\n",
       "        <table>\n",
       "            <tr>\n",
       "                <td><strong>Metabolite identifier</strong></td><td>s_0190</td>\n",
       "            </tr><tr>\n",
       "                <td><strong>Name</strong></td><td>farnesyl diphosphate</td>\n",
       "            </tr><tr>\n",
       "                <td><strong>Memory address</strong></td>\n",
       "                <td>0x160c64db890</td>\n",
       "            </tr><tr>\n",
       "                <td><strong>Formula</strong></td><td>C15H25O7P2</td>\n",
       "            </tr><tr>\n",
       "                <td><strong>Compartment</strong></td><td>c</td>\n",
       "            </tr><tr>\n",
       "                <td><strong>In 6 reaction(s)</strong></td><td>\n",
       "                    r_4604, r_1012, r_4768, r_0462, r_0373, r_1766\n",
       "                    </td>\n",
       "            </tr>\n",
       "        </table>"
      ],
      "text/plain": [
       "<Metabolite s_0190 at 0x160c64db890>"
      ]
     },
     "execution_count": 11,
     "metadata": {},
     "output_type": "execute_result"
    }
   ],
   "source": [
    "model.metabolites.query(\"farnesyl\",\"name\")\n",
    "model.metabolites.s_0190"
   ]
  },
  {
   "cell_type": "code",
   "execution_count": 12,
   "metadata": {},
   "outputs": [
    {
     "name": "stdout",
     "output_type": "stream",
     "text": [
      "s_0189\n",
      "geranylgeranyl diphosphate\n",
      "s_0190\n",
      "farnesyl diphosphate\n",
      "s_0633\n",
      "diphosphate\n",
      "s_0745\n",
      "geranyl diphosphate\n",
      "s_0943\n",
      "isopentenyl diphosphate\n",
      "s_1231\n",
      "nonaprenyl diphosphate\n",
      "s_1311\n",
      "pentaprenyl diphosphate\n",
      "s_1376\n",
      "prenyl diphosphate(3-)\n",
      "s_2860\n",
      "diphosphate\n"
     ]
    }
   ],
   "source": [
    "for reaction in model.metabolites.query('diphosphate','name').query('c','compartment'):\n",
    "   print(reaction.id)\n",
    "   print(reaction.name)   \n"
   ]
  },
  {
   "cell_type": "code",
   "execution_count": 13,
   "metadata": {},
   "outputs": [
    {
     "data": {
      "text/html": [
       "\n",
       "        <table>\n",
       "            <tr>\n",
       "                <td><strong>Metabolite identifier</strong></td><td>s_0633</td>\n",
       "            </tr><tr>\n",
       "                <td><strong>Name</strong></td><td>diphosphate</td>\n",
       "            </tr><tr>\n",
       "                <td><strong>Memory address</strong></td>\n",
       "                <td>0x160c6536850</td>\n",
       "            </tr><tr>\n",
       "                <td><strong>Formula</strong></td><td>HO7P2</td>\n",
       "            </tr><tr>\n",
       "                <td><strong>Compartment</strong></td><td>c</td>\n",
       "            </tr><tr>\n",
       "                <td><strong>In 85 reaction(s)</strong></td><td>\n",
       "                    r_1066, r_0461, r_1042, r_0373, r_0230, r_0249, r_0462, r_0785, r_4403, r_0722, r_0783, r_4584, r_0885, r_0910, r_0915, r_1074, r_0147, r_0440, r_4753, r_4268, r_0841, r_0527, r_0678, r_0568,...\n",
       "                    </td>\n",
       "            </tr>\n",
       "        </table>"
      ],
      "text/plain": [
       "<Metabolite s_0633 at 0x160c6536850>"
      ]
     },
     "execution_count": 13,
     "metadata": {},
     "output_type": "execute_result"
    }
   ],
   "source": [
    "model.metabolites.s_0633"
   ]
  },
  {
   "cell_type": "code",
   "execution_count": 14,
   "metadata": {},
   "outputs": [],
   "source": [
    "from cobra import Reaction, Metabolite, Gene"
   ]
  },
  {
   "cell_type": "code",
   "execution_count": 15,
   "metadata": {},
   "outputs": [
    {
     "data": {
      "text/html": [
       "\n",
       "        <table>\n",
       "            <tr>\n",
       "                <td><strong>Reaction identifier</strong></td><td>R08695</td>\n",
       "            </tr><tr>\n",
       "                <td><strong>Name</strong></td><td></td>\n",
       "            </tr><tr>\n",
       "                <td><strong>Memory address</strong></td>\n",
       "                <td>0x160d9947e90</td>\n",
       "            </tr><tr>\n",
       "                <td><strong>Stoichiometry</strong></td>\n",
       "                <td>\n",
       "                    <p style='text-align:right'>s_0190 --> beta_farnesene_c + s_0633</p>\n",
       "                    <p style='text-align:right'>farnesyl diphosphate --> Beta-farnesene + diphosphate</p>\n",
       "                </td>\n",
       "            </tr><tr>\n",
       "                <td><strong>GPR</strong></td><td></td>\n",
       "            </tr><tr>\n",
       "                <td><strong>Lower bound</strong></td><td>0.0</td>\n",
       "            </tr><tr>\n",
       "                <td><strong>Upper bound</strong></td><td>1000.0</td>\n",
       "            </tr>\n",
       "        </table>\n",
       "        "
      ],
      "text/plain": [
       "<Reaction R08695 at 0x160d9947e90>"
      ]
     },
     "execution_count": 15,
     "metadata": {},
     "output_type": "execute_result"
    }
   ],
   "source": [
    "Beta_farnesene_synthase_reaction = Reaction('R08695')\n",
    "Beta_farnesene = Metabolite(name='Beta-farnesene',id='beta_farnesene_c',compartment='c')\n",
    "Beta_farnesene_synthase_gene = Gene(id='R08695',name='G_R08695',functional=True,)\n",
    "Beta_farnesene_synthase_reaction.add_metabolites({model.metabolites.s_0190: -1,\n",
    "                                                  model.metabolites.s_0633: 1,\n",
    "                                                  Beta_farnesene: 1 # our product\n",
    "                                                  })\n",
    "Beta_farnesene_synthase_reaction"
   ]
  },
  {
   "cell_type": "code",
   "execution_count": 16,
   "metadata": {},
   "outputs": [
    {
     "data": {
      "text/html": [
       "\n",
       "        <table>\n",
       "            <tr>\n",
       "                <td><strong>Reaction identifier</strong></td><td>R08695</td>\n",
       "            </tr><tr>\n",
       "                <td><strong>Name</strong></td><td></td>\n",
       "            </tr><tr>\n",
       "                <td><strong>Memory address</strong></td>\n",
       "                <td>0x160d9947e90</td>\n",
       "            </tr><tr>\n",
       "                <td><strong>Stoichiometry</strong></td>\n",
       "                <td>\n",
       "                    <p style='text-align:right'>s_0190 --> beta_farnesene_c + s_0633</p>\n",
       "                    <p style='text-align:right'>farnesyl diphosphate --> Beta-farnesene + diphosphate</p>\n",
       "                </td>\n",
       "            </tr><tr>\n",
       "                <td><strong>GPR</strong></td><td></td>\n",
       "            </tr><tr>\n",
       "                <td><strong>Lower bound</strong></td><td>0.0</td>\n",
       "            </tr><tr>\n",
       "                <td><strong>Upper bound</strong></td><td>1000.0</td>\n",
       "            </tr>\n",
       "        </table>\n",
       "        "
      ],
      "text/plain": [
       "<Reaction R08695 at 0x160d9947e90>"
      ]
     },
     "execution_count": 16,
     "metadata": {},
     "output_type": "execute_result"
    }
   ],
   "source": [
    "model.add_reactions([Beta_farnesene_synthase_reaction])\n",
    "model.reactions.get_by_id(Beta_farnesene_synthase_reaction.id)"
   ]
  },
  {
   "cell_type": "code",
   "execution_count": 17,
   "metadata": {},
   "outputs": [
    {
     "name": "stdout",
     "output_type": "stream",
     "text": [
      "0.0\n"
     ]
    }
   ],
   "source": [
    "with model:\n",
    "   model.objective = model.reactions.R08695\n",
    "   print(model.optimize().objective_value)"
   ]
  },
  {
   "cell_type": "code",
   "execution_count": 18,
   "metadata": {},
   "outputs": [],
   "source": [
    "# io.write_yeast_model(model)   # saving"
   ]
  },
  {
   "cell_type": "code",
   "execution_count": null,
   "metadata": {},
   "outputs": [],
   "source": []
  }
 ],
 "metadata": {
  "kernelspec": {
   "display_name": "base",
   "language": "python",
   "name": "python3"
  },
  "language_info": {
   "codemirror_mode": {
    "name": "ipython",
    "version": 3
   },
   "file_extension": ".py",
   "mimetype": "text/x-python",
   "name": "python",
   "nbconvert_exporter": "python",
   "pygments_lexer": "ipython3",
   "version": "3.11.4"
  }
 },
 "nbformat": 4,
 "nbformat_minor": 4
}
