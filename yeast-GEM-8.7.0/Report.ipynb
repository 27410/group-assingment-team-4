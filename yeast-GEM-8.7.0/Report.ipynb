{
 "cells": [
  {
   "cell_type": "markdown",
   "metadata": {},
   "source": [
    "# Metabolic Engineering of <i>Saccharomyces cerevisiae</i> for production of terpenoids"
   ]
  },
  {
   "cell_type": "markdown",
   "metadata": {},
   "source": [
    "## 1. Introduction"
   ]
  },
  {
   "cell_type": "markdown",
   "metadata": {},
   "source": [
    "### 1.1 Literature review of the compound (<500 words)"
   ]
  },
  {
   "cell_type": "markdown",
   "metadata": {},
   "source": [
    "#### Applications of the product\n",
    "Farnesene is a natural product that is classified as an acyclic sesquiterpene. It is a 15 carbon atoms hydrocarbon, and it is extremely volatile. It is naturally produced by aphids and other animals as a pheromone, while it is also present in numerous plant essential oils. Its structure and unique properties make it a great substrate for the synthesis of various materials, such as olefins and polymers, with applications as biofuels, cosmetics, lubricants and surfactants. It can also be used for the chemical synthesis of Vitamin E precursors. Additionally, farnesene has been reported to possess anti-inflammatory, antimicrobial and sedating properties. Lately, it receives increased attention from industry as a green jet fuel and diesel alternative. A substantial effort in its production by microbial cell factories is made by researchers, because the alternative methods of chemical synthesis and extraction from plant material are costly, inefficient and not sustainable.\n",
    "\n",
    "#### Evaluation of market potential\n",
    "The global market value of farnesene was estimated around 250 million USD in 2021, and is expected to reach 422.36 million by 2030. The compound annual growth rate (CAGR) for this forecast period (2022-2030) is around 5 %. During this period, farnesene’s market in North America is expected to grow faster than other regions.\n",
    "​\n",
    "Generally, farnesene’s market value is depended on availability and supply of raw materials, which is mainly sugarcanes and other plant feedstock. That means that variation in regional weather conditions have a direct impact on farnesene’s market growth. In addition, the Covid-19 pandemic also greatly impacted the market of farnesene. The global restrictions and the disruption of supply lines hindered the growth and expansion of the named market, which is, however, expected to bounce back.\n",
    "#### Biosynthetic pathway/genes\n",
    "Farnesene is synthesized by two alternative pathways, the Mevalonate Pathway (MVA) and the 2-methyl-D-erythrito-4-phosphate Pathway (MEP or DXP Pathway). The MVA pathway, which is the sterol biosynthetic pathway, is the one utilized in this project. The first step is the condensation of two acetyl-CoAs to form acetoacetyl-CoA. Afterwards, another acetyl-CoA is added to acetoacetyl-CoA to produce 3-hydroxy-3-methylglutaryl-CoA (HMG-CoA), a reaction which is irreversible. Then, mevalonic acid is produced by the HMG-CoA reductase (HMGR) from HMG-CoA utilizing NADPH as a cofactor. Subsequently, mevalonate kinase (MVK) and phosphomevalonate kinase (PMVK), catalyze the sequential phosphorylation of mevalonic acid to produce mevalonate 5-phosphate and mevalonate 5-diphosphate. Then,  IPP is produced by mevalonate diphosphate decarboxylase (PMVD). This molecule can be isomerised by IDI to DMAPP. IPP and DMAPP (5 carbons) are the two precursors of all terpenoid backbones, and their condensation forms GPP (10 carbons). The addition of another IPP molecule forms farnesyl diphosphate (FPP, 15 carbon atoms), which is the substrate of the farnesene synthases and the precursor of all sesquiterpenoids. Finally, a farnesene synthase produces farnesene by removing the diphosphate group."
   ]
  },
  {
   "cell_type": "markdown",
   "metadata": {},
   "source": [
    "### 1.2 Literature review of the cell factory (<500 words)"
   ]
  },
  {
   "cell_type": "markdown",
   "metadata": {},
   "source": [    
    "### <i>Saccharomyces cerevisiae</i> as a cell factory for the production of terpenoids"
   ]
  },
  {
   "cell_type": "markdown",
   "metadata": {},
   "source": [
    "## 2. Problem definition (<300 words)"
   ]
  },
  {
   "cell_type": "markdown",
   "metadata": {},
   "source": [
    "## 3. *If Project category I:* Reconstruction of a new GSM for your cell factory host of interest (<1500 words)"
   ]
  },
  {
   "cell_type": "markdown",
   "metadata": {},
   "source": [
    "or"
   ]
  },
  {
   "cell_type": "markdown",
   "metadata": {},
   "source": [
    "## 3. *If Project category II:* Selection and assessment of existing GSM (<500 words)"
   ]
  },
  {
   "cell_type": "markdown",
   "metadata": {},
   "source": [
    "## 4. Computer-Aided Cell Factory Engineering (<1500 words if Category II project; <500 words for Category I project)"
   ]
  },
  {
   "cell_type": "markdown",
   "metadata": {},
   "source": [
    "## 5. Discussion (<500 words)"
   ]
  },
  {
   "cell_type": "markdown",
   "metadata": {},
   "source": [
    "## 6. Conclusion (<200 words)"
   ]
  },
  {
   "cell_type": "markdown",
   "metadata": {},
   "source": [
    "## References"
   ]
  },
  {
   "cell_type": "markdown",
   "metadata": {},
   "source": [
    "# Run this before doing anything else, and your model should also work now:"
   ]
  },
  {
   "cell_type": "code",
   "execution_count": 7,
   "metadata": {},
   "outputs": [
    {
     "ename": "SyntaxError",
     "evalue": "invalid syntax (1490397579.py, line 5)",
     "output_type": "error",
     "traceback": [
      "\u001b[0;36m  Cell \u001b[0;32mIn[7], line 5\u001b[0;36m\u001b[0m\n\u001b[0;31m    pip install -r code/requirements/requirements.txt  # install all dependencies\u001b[0m\n\u001b[0m        ^\u001b[0m\n\u001b[0;31mSyntaxError\u001b[0m\u001b[0;31m:\u001b[0m invalid syntax\n"
     ]
    }
   ],
   "source": [
    "# Remove \"#\" before the commands below this when you want to first make sure you got everything to the model\n",
    "\n",
    "#pip install -r code/requirements/requirements.txt  # install all dependencies\n",
    "#pip install python-dotenv\n",
    "#pip install cobra\n",
    "\n",
    "# After running these commands run the code below once and if no errors show up you should be good\n"
   ]
  },
  {
   "cell_type": "code",
   "execution_count": 2,
   "metadata": {},
   "outputs": [
    {
     "ename": "ModuleNotFoundError",
     "evalue": "No module named 'cobra'",
     "output_type": "error",
     "traceback": [
      "\u001b[0;31m---------------------------------------------------------------------------\u001b[0m",
      "\u001b[0;31mModuleNotFoundError\u001b[0m                       Traceback (most recent call last)",
      "\u001b[1;32m/Users/giannis/github-classroom/27410/group-assingment-team-4/yeast-GEM-8.7.0/Report.ipynb Cell 15\u001b[0m line \u001b[0;36m1\n\u001b[0;32m----> <a href='vscode-notebook-cell:/Users/giannis/github-classroom/27410/group-assingment-team-4/yeast-GEM-8.7.0/Report.ipynb#X20sZmlsZQ%3D%3D?line=0'>1</a>\u001b[0m \u001b[39mimport\u001b[39;00m \u001b[39mcode\u001b[39;00m\u001b[39m.\u001b[39;00m\u001b[39mio\u001b[39;00m \u001b[39mas\u001b[39;00m \u001b[39mio\u001b[39;00m\n\u001b[1;32m      <a href='vscode-notebook-cell:/Users/giannis/github-classroom/27410/group-assingment-team-4/yeast-GEM-8.7.0/Report.ipynb#X20sZmlsZQ%3D%3D?line=1'>2</a>\u001b[0m model \u001b[39m=\u001b[39m io\u001b[39m.\u001b[39mread_yeast_model() \u001b[39m# loading\u001b[39;00m\n\u001b[1;32m      <a href='vscode-notebook-cell:/Users/giannis/github-classroom/27410/group-assingment-team-4/yeast-GEM-8.7.0/Report.ipynb#X20sZmlsZQ%3D%3D?line=2'>3</a>\u001b[0m io\u001b[39m.\u001b[39mwrite_yeast_model(model)   \u001b[39m# saving\u001b[39;00m\n",
      "File \u001b[0;32m~/github-classroom/27410/group-assingment-team-4/yeast-GEM-8.7.0/code/io.py:6\u001b[0m\n\u001b[1;32m      1\u001b[0m \u001b[39m\"\"\"\u001b[39;00m\n\u001b[1;32m      2\u001b[0m \u001b[39mFunctions for importing and exporting the yeast model using COBRA from anywhere in the repo.\u001b[39;00m\n\u001b[1;32m      3\u001b[0m \u001b[39m\"\"\"\u001b[39;00m\n\u001b[1;32m      5\u001b[0m \u001b[39mimport\u001b[39;00m \u001b[39mcsv\u001b[39;00m\n\u001b[0;32m----> 6\u001b[0m \u001b[39mfrom\u001b[39;00m \u001b[39mcobra\u001b[39;00m\u001b[39m.\u001b[39;00m\u001b[39mio\u001b[39;00m \u001b[39mimport\u001b[39;00m read_sbml_model, write_sbml_model\n\u001b[1;32m      7\u001b[0m \u001b[39mfrom\u001b[39;00m \u001b[39mcopy\u001b[39;00m \u001b[39mimport\u001b[39;00m copy\n\u001b[1;32m      8\u001b[0m \u001b[39mfrom\u001b[39;00m \u001b[39mdotenv\u001b[39;00m \u001b[39mimport\u001b[39;00m find_dotenv\n",
      "\u001b[0;31mModuleNotFoundError\u001b[0m: No module named 'cobra'"
     ]
    }
   ],
   "source": [
    "import code.io as io\n",
    "model = io.read_yeast_model() # loading\n",
    "io.write_yeast_model(model)   # saving"
   ]
  },
  {
   "cell_type": "code",
   "execution_count": 11,
   "metadata": {},
   "outputs": [],
   "source": [
    "# After running the above code the model should be loaded. This means that the model for Saccharomyces cerevisia\n",
    "# Should be loaded into the \"model\" item.  Run the below code and check if the model has been loaded.\n",
    "# It should look like this picture:"
   ]
  },
  {
   "cell_type": "markdown",
   "metadata": {},
   "source": [
    "![Model_load_confirmation.png](Model_load_confirmation.png)"
   ]
  },
  {
   "cell_type": "code",
   "execution_count": 12,
   "metadata": {},
   "outputs": [
    {
     "data": {
      "text/html": [
       "\n",
       "        <table>\n",
       "            <tr>\n",
       "                <td><strong>Name</strong></td>\n",
       "                <td>yeastGEM_v8__46__7__46__0</td>\n",
       "            </tr><tr>\n",
       "                <td><strong>Memory address</strong></td>\n",
       "                <td>1105c1c50</td>\n",
       "            </tr><tr>\n",
       "                <td><strong>Number of metabolites</strong></td>\n",
       "                <td>2806</td>\n",
       "            </tr><tr>\n",
       "                <td><strong>Number of reactions</strong></td>\n",
       "                <td>4131</td>\n",
       "            </tr><tr>\n",
       "                <td><strong>Number of genes</strong></td>\n",
       "                <td>1163</td>\n",
       "            </tr><tr>\n",
       "                <td><strong>Number of groups</strong></td>\n",
       "                <td>106</td>\n",
       "            </tr><tr>\n",
       "                <td><strong>Objective expression</strong></td>\n",
       "                <td>1.0*r_2111 - 1.0*r_2111_reverse_58b69</td>\n",
       "            </tr><tr>\n",
       "                <td><strong>Compartments</strong></td>\n",
       "                <td>cell envelope, cytoplasm, extracellular, mitochondrion, nucleus, peroxisome, endoplasmic reticulum, Golgi, lipid particle, vacuole, endoplasmic reticulum membrane, vacuolar membrane, Golgi membrane, mitochondrial membrane</td>\n",
       "            </tr>\n",
       "          </table>"
      ],
      "text/plain": [
       "<Model yeastGEM_v8__46__7__46__0 at 0x1105c1c50>"
      ]
     },
     "execution_count": 12,
     "metadata": {},
     "output_type": "execute_result"
    }
   ],
   "source": [
    "# Check your model to the picture here:\n",
    "\n",
    "model"
   ]
  }
 ],
 "metadata": {
  "kernelspec": {
   "display_name": "base",
   "language": "python",
   "name": "python3"
  },
  "language_info": {
   "codemirror_mode": {
    "name": "ipython",
    "version": 3
   },
   "file_extension": ".py",
   "mimetype": "text/x-python",
   "name": "python",
   "nbconvert_exporter": "python",
   "pygments_lexer": "ipython3",
   "version": "3.11.4"
  }
 },
 "nbformat": 4,
 "nbformat_minor": 4
}
