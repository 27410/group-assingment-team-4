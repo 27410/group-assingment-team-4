{
 "cells": [
  {
   "cell_type": "markdown",
   "metadata": {},
   "source": [
    "# Metabolic Engineering of <i>Saccharomyces cerevisiae</i> for production of farnesene"
   ]
  },
  {
   "cell_type": "markdown",
   "metadata": {},
   "source": [
    "## 1. Introduction"
   ]
  },
  {
   "cell_type": "markdown",
   "metadata": {},
   "source": [
    "### 1.1 Literature review of the compound"
   ]
  },
  {
   "cell_type": "markdown",
   "metadata": {},
   "source": [
    "#### Applications of the product\n",
    "Farnesene is a natural product that is classified as an acyclic sesquiterpene. It is a 15 carbon atoms hydrocarbon, and it is extremely volatile. It is naturally produced by aphids and other animals as a pheromone, while it is also present in numerous plant essential oils. Its structure and unique properties make it a great substrate for the synthesis of various materials, such as olefins and polymers, with applications as biofuels, cosmetics, lubricants and surfactants. It can also be used for the chemical synthesis of Vitamin E precursors. Additionally, farnesene has been reported to possess anti-inflammatory, antimicrobial and sedating properties. Lately, it receives increased attention from industry as a green jet fuel and diesel alternative. A substantial effort in its production by microbial cell factories is made by researchers, because the alternative methods of chemical synthesis and extraction from plant material are costly, inefficient and not sustainable.\n",
    "\n",
    "#### Evaluation of market potential\n",
    "The global market value of farnesene was estimated around 250 million USD in 2021, and is expected to reach 422.36 million by 2030. The compound annual growth rate (CAGR) for this forecast period (2022-2030) is around 5 %. During this period, farnesene’s market in North America is expected to grow faster than other regions.\n",
    "Generally, farnesene's market value is depended on availability and supply of raw materials, which is mainly sugarcanes and other plant feedstock. That means that variation in regional weather conditions have a direct impact on farnesene’s market growth. In addition, the Covid-19 pandemic also greatly impacted the market of farnesene. The global restrictions and the disruption of supply lines hindered the growth and expansion of the named market, which is, however, expected to bounce back.\n",
    "Farnesene Market is classified in the categories of Cosmetics & Personal Care, Performance Material, Flavors & Fragrances and Fuels & Lubes. Fuels and Lubes is the leading sector of the total farnesene market (21,6 %, 2021), and its percentage is expected to increase even further, due to the growing demand for alternative fuels. Europe is the leading region of global farnesene market (32,5 % market share in 2021), due to its high acceptance by European market. Some of the major companies involved in the production and supply of farnesene are Chromatin, Intexon and Amyris.\n",
    "#### Biosynthetic pathway/genes\n",
    "Farnesene is synthesized by two alternative pathways, the Mevalonate Pathway (MVA) and the 2-methyl-D-erythrito-4-phosphate Pathway (MEP or DXP Pathway). The MVA pathway, which is the sterol biosynthetic pathway, is the one utilized in this project. The first step is the condensation of two acetyl-CoAs to form acetoacetyl-CoA. Afterwards, another acetyl-CoA is added to acetoacetyl-CoA to produce 3-hydroxy-3-methylglutaryl-CoA (HMG-CoA), a reaction which is irreversible. Then, mevalonic acid is produced by the HMG-CoA reductase (HMGR) from HMG-CoA utilizing NADPH as a cofactor. Subsequently, mevalonate kinase (MVK) and phosphomevalonate kinase (PMVK), catalyze the sequential phosphorylation of mevalonic acid to produce mevalonate 5-phosphate and mevalonate 5-diphosphate. Then,  IPP is produced by mevalonate diphosphate decarboxylase (PMVD). This molecule can be isomerised by IDI to DMAPP. IPP and DMAPP (5 carbons) are the two precursors of all terpenoid backbones, and their condensation forms GPP (10 carbons). The addition of another IPP molecule forms farnesyl diphosphate (FPP, 15 carbon atoms), which is the substrate of the farnesene synthases and the precursor of all sesquiterpenoids. Finally, a farnesene synthase produces farnesene by removing the diphosphate group."
   ]
  },
  {
   "cell_type": "markdown",
   "metadata": {},
   "source": [
    "### 1.2 Literature review of the cell factory - <i>Saccharomyces cerevisiae</i> as a cell factory for the production of farnesene\n",
    "<i>Saccharomyces cerevisiae</i>, also known as baker's yeast, is a single cell eukaryotic organism classified as yeast. It is a model organism, extensively studied, and has been used in biotechnology for centuries."
   ]
  },
  {
   "cell_type": "markdown",
   "metadata": {},
   "source": [
    "#### General advantages\n",
    "<i>S cerevisiae</i> has been used excessively as a cell factory because it possesses many advantages. As a model eukaryotic organism, it is extremely well studied and we have a very thorough understanding of its biology and genetics. In addition, there are numerous tools and techniques available to genetically manipulate the organism, as well as the possibility to create diploid mutants easily by mating spores of the desired genotypes. Other advantages of <i>S cerevisiae</i> are its Generally Regarded As Safe (GRAS) status, its high growth rate and ability to catabolize efficiently numerous sugars, its tolerance to harsh industrial conditions and the high availability of knowledge about bioprocesses utilizing this organism. Specifically for the production of farnesene, <i>S cerevisiae</i> is ideal because of the fact that it contains an endogenous MVA pathway for the production of its native sterols, which can be manipulated to produce terpenoids."
   ]
  },
  {
   "cell_type": "markdown",
   "metadata": {},
   "source": [
    "#### General disadvantages\n",
    "Not able to gorw in a broad spectrum of substrates - sugars\n",
    "Not so high titers - yields\n"
   ]
  },
  {
   "cell_type": "markdown",
   "metadata": {},
   "source": [
    "#### Suitability of the cell factory for the product\n",
    "adsnhfjjghsuddshiuagsf"
   ]
  },
  {
   "cell_type": "markdown",
   "metadata": {},
   "source": [
    "## 2. Problem definition (<300 words)"
   ]
  },
  {
   "cell_type": "markdown",
   "metadata": {},
   "source": [
    "## 3. Selection and assessment of existing GSM (<500 words)"
   ]
  },
  {
   "cell_type": "markdown",
   "metadata": {},
   "source": [
    "https://www.nature.com/articles/s41467-019-11581-3\n",
    "#m"
   ]
  },
  {
   "cell_type": "markdown",
   "metadata": {},
   "source": [
    "## 4. Computer-Aided Cell Factory Engineering (<1500 words)"
   ]
  },
  {
   "cell_type": "markdown",
   "metadata": {},
   "source": [
    "## 5. Discussion (<500 words)"
   ]
  },
  {
   "cell_type": "markdown",
   "metadata": {},
   "source": [
    "## 6. Conclusion (<200 words)"
   ]
  },
  {
   "cell_type": "markdown",
   "metadata": {},
   "source": [
    "## References"
   ]
  },
  {
   "cell_type": "markdown",
   "metadata": {},
   "source": [
    "put references here\n",
    "\n",
    "[1] anfkladg\n",
    "\n",
    "[2] ahsfdihsfs\n"
   ]
  },
  {
   "cell_type": "markdown",
   "metadata": {},
   "source": [
    "# Run this before doing anything else, and your model should also work now:"
   ]
  },
  {
   "cell_type": "code",
   "execution_count": 6,
   "metadata": {},
   "outputs": [
    {
     "ename": "SyntaxError",
     "evalue": "invalid syntax (3616555661.py, line 3)",
     "output_type": "error",
     "traceback": [
      "\u001b[1;36m  Cell \u001b[1;32mIn[6], line 3\u001b[1;36m\u001b[0m\n\u001b[1;33m    pip install -r yeast-GEM-8.7.0/code/requirements/requirements.txt  # install all dependencies\u001b[0m\n\u001b[1;37m        ^\u001b[0m\n\u001b[1;31mSyntaxError\u001b[0m\u001b[1;31m:\u001b[0m invalid syntax\n"
     ]
    }
   ],
   "source": [
    "# Remove \"#\" before the commands below this when you want to first make sure you got everything to the model\n",
    "\n",
    "pip install -r yeast-GEM-8.7.0/code/requirements/requirements.txt  # install all dependencies\n",
    "pip install python-dotenv\n",
    "pip install cobra\n",
    "\n",
    "# After running these commands run the code below once and if no errors show up you should be good\n"
   ]
  },
  {
   "cell_type": "code",
   "execution_count": 34,
   "metadata": {},
   "outputs": [
    {
     "data": {
      "text/html": [
       "\n",
       "        <table>\n",
       "            <tr>\n",
       "                <td><strong>Name</strong></td>\n",
       "                <td>yeastGEM_v8__46__7__46__0</td>\n",
       "            </tr><tr>\n",
       "                <td><strong>Memory address</strong></td>\n",
       "                <td>287ef2710</td>\n",
       "            </tr><tr>\n",
       "                <td><strong>Number of metabolites</strong></td>\n",
       "                <td>2806</td>\n",
       "            </tr><tr>\n",
       "                <td><strong>Number of reactions</strong></td>\n",
       "                <td>4131</td>\n",
       "            </tr><tr>\n",
       "                <td><strong>Number of genes</strong></td>\n",
       "                <td>1163</td>\n",
       "            </tr><tr>\n",
       "                <td><strong>Number of groups</strong></td>\n",
       "                <td>106</td>\n",
       "            </tr><tr>\n",
       "                <td><strong>Objective expression</strong></td>\n",
       "                <td>1.0*r_2111 - 1.0*r_2111_reverse_58b69</td>\n",
       "            </tr><tr>\n",
       "                <td><strong>Compartments</strong></td>\n",
       "                <td>cell envelope, cytoplasm, extracellular, mitochondrion, nucleus, peroxisome, endoplasmic reticulum, Golgi, lipid particle, vacuole, endoplasmic reticulum membrane, vacuolar membrane, Golgi membrane, mitochondrial membrane</td>\n",
       "            </tr>\n",
       "          </table>"
      ],
      "text/plain": [
       "<Model yeastGEM_v8__46__7__46__0 at 0x287ef2710>"
      ]
     },
     "execution_count": 34,
     "metadata": {},
     "output_type": "execute_result"
    }
   ],
   "source": [
    "import code.io as io\n",
    "model = io.read_yeast_model() # loading\n",
    "io.write_yeast_model(model)   # saving\n"
   ]
  },
  {
   "cell_type": "code",
   "execution_count": null,
   "metadata": {},
   "outputs": [],
   "source": []
  },
  {
   "cell_type": "code",
   "execution_count": 36,
   "metadata": {},
   "outputs": [
    {
     "data": {
      "text/html": [
       "\n",
       "        <table>\n",
       "            <tr>\n",
       "                <td><strong>Metabolite identifier</strong></td><td>s_0190</td>\n",
       "            </tr><tr>\n",
       "                <td><strong>Name</strong></td><td>farnesyl diphosphate</td>\n",
       "            </tr><tr>\n",
       "                <td><strong>Memory address</strong></td>\n",
       "                <td>0x287f98250</td>\n",
       "            </tr><tr>\n",
       "                <td><strong>Formula</strong></td><td>C15H25O7P2</td>\n",
       "            </tr><tr>\n",
       "                <td><strong>Compartment</strong></td><td>c</td>\n",
       "            </tr><tr>\n",
       "                <td><strong>In 6 reaction(s)</strong></td><td>\n",
       "                    r_4768, r_0373, r_1012, r_0462, r_1766, r_4604\n",
       "                    </td>\n",
       "            </tr>\n",
       "        </table>"
      ],
      "text/plain": [
       "<Metabolite s_0190 at 0x287f98250>"
      ]
     },
     "execution_count": 36,
     "metadata": {},
     "output_type": "execute_result"
    }
   ],
   "source": [
    "model.metabolites.query(\"farnesyl diphosphate\",\"name\")\n",
    "model.metabolites.s_0190\n"
   ]
  },
  {
   "cell_type": "code",
   "execution_count": 44,
   "metadata": {},
   "outputs": [
    {
     "data": {
      "text/html": [
       "\n",
       "        <table>\n",
       "            <tr>\n",
       "                <td><strong>Reaction identifier</strong></td><td>r_4768</td>\n",
       "            </tr><tr>\n",
       "                <td><strong>Name</strong></td><td>farnesyl diphosphatase</td>\n",
       "            </tr><tr>\n",
       "                <td><strong>Memory address</strong></td>\n",
       "                <td>0x299ba6a10</td>\n",
       "            </tr><tr>\n",
       "                <td><strong>Stoichiometry</strong></td>\n",
       "                <td>\n",
       "                    <p style='text-align:right'>s_0190 + s_0803 --> s_0633 + s_4303</p>\n",
       "                    <p style='text-align:right'>farnesyl diphosphate + H2O --> diphosphate + farnesol</p>\n",
       "                </td>\n",
       "            </tr><tr>\n",
       "                <td><strong>GPR</strong></td><td>YDR481C</td>\n",
       "            </tr><tr>\n",
       "                <td><strong>Lower bound</strong></td><td>0.0</td>\n",
       "            </tr><tr>\n",
       "                <td><strong>Upper bound</strong></td><td>1000.0</td>\n",
       "            </tr>\n",
       "        </table>\n",
       "        "
      ],
      "text/plain": [
       "<Reaction r_4768 at 0x299ba6a10>"
      ]
     },
     "execution_count": 44,
     "metadata": {},
     "output_type": "execute_result"
    }
   ],
   "source": [
    "model.reactions.r_4768"
   ]
  },
  {
   "cell_type": "code",
   "execution_count": null,
   "metadata": {},
   "outputs": [],
   "source": [
    "# After running the above code the model should be loaded. This means that the model for Saccharomyces cerevisia\n",
    "# Should be loaded into the \"model\" item.  Run the below code and check if the model has been loaded.\n",
    "# It should look like this picture:"
   ]
  },
  {
   "cell_type": "markdown",
   "metadata": {},
   "source": [
    "![Model_load_confirmation.png](Model_load_confirmation.png)"
   ]
  },
  {
   "cell_type": "code",
   "execution_count": null,
   "metadata": {},
   "outputs": [
    {
     "data": {
      "text/html": [
       "\n",
       "        <table>\n",
       "            <tr>\n",
       "                <td><strong>Name</strong></td>\n",
       "                <td>yeastGEM_v8__46__7__46__0</td>\n",
       "            </tr><tr>\n",
       "                <td><strong>Memory address</strong></td>\n",
       "                <td>282d379d0</td>\n",
       "            </tr><tr>\n",
       "                <td><strong>Number of metabolites</strong></td>\n",
       "                <td>2806</td>\n",
       "            </tr><tr>\n",
       "                <td><strong>Number of reactions</strong></td>\n",
       "                <td>4131</td>\n",
       "            </tr><tr>\n",
       "                <td><strong>Number of genes</strong></td>\n",
       "                <td>1163</td>\n",
       "            </tr><tr>\n",
       "                <td><strong>Number of groups</strong></td>\n",
       "                <td>106</td>\n",
       "            </tr><tr>\n",
       "                <td><strong>Objective expression</strong></td>\n",
       "                <td>1.0*r_2111 - 1.0*r_2111_reverse_58b69</td>\n",
       "            </tr><tr>\n",
       "                <td><strong>Compartments</strong></td>\n",
       "                <td>cell envelope, cytoplasm, extracellular, mitochondrion, nucleus, peroxisome, endoplasmic reticulum, Golgi, lipid particle, vacuole, endoplasmic reticulum membrane, vacuolar membrane, Golgi membrane, mitochondrial membrane</td>\n",
       "            </tr>\n",
       "          </table>"
      ],
      "text/plain": [
       "<Model yeastGEM_v8__46__7__46__0 at 0x282d379d0>"
      ]
     },
     "execution_count": 2,
     "metadata": {},
     "output_type": "execute_result"
    }
   ],
   "source": [
    "# Check your model to the picture here:\n",
    "\n",
    "model"
   ]
  },
  {
   "cell_type": "code",
   "execution_count": null,
   "metadata": {},
   "outputs": [],
   "source": []
  }
 ],
 "metadata": {
  "kernelspec": {
   "display_name": "base",
   "language": "python",
   "name": "python3"
  },
  "language_info": {
   "codemirror_mode": {
    "name": "ipython",
    "version": 3
   },
   "file_extension": ".py",
   "mimetype": "text/x-python",
   "name": "python",
   "nbconvert_exporter": "python",
   "pygments_lexer": "ipython3",
   "version": "3.11.4"
  }
 },
 "nbformat": 4,
 "nbformat_minor": 4
}
