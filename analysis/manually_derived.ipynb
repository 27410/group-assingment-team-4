{
 "cells": [
  {
   "cell_type": "markdown",
   "metadata": {},
   "source": [
    "### Modeling of manually-derived strains\n",
    "Computer-aided cell factory engineering was quite recently introduced to metabolic engineering, as a high throuput analysis tool to identify gene modifications and simulate the chaotic metabolic processes incide the cells. However, metabolic engineering has a longer history, and there have been a lot of efforts to achieve high production of desired products, by lowering or increasing the expression of intuitive and logically derived gene targets.\n",
    "In this section, we are going to evaluate some popular manual derived changes through model simulations. Those are the downregulation of squalene synthase (<i>ERG9</i>), squalene epoxidase (<i>ERG1</i>), and sterol C-5 desaturase (<i>ERG3</i>) the upregulation of 3-hydroxy-3-methylglutaryl-coenzyme A reductase (<i>HMG1</i>) and the deletion of aldehyde dehydrogenase (<i>ALD6</i>)."
   ]
  },
  {
   "cell_type": "markdown",
   "metadata": {},
   "source": [
    "Loading the model"
   ]
  },
  {
   "cell_type": "code",
   "execution_count": 33,
   "metadata": {},
   "outputs": [],
   "source": [
    "from cobra.io import read_sbml_model, write_sbml_model\n",
    "model = read_sbml_model('/Users/nikow/github-classroom/27410/group-assingment-team-4/yeast-GEM-8.7.0/model/yeast-GEM2.xml') # loading\n",
    "from cobra import Reaction, Metabolite, Gene\n",
    "import pandas as pd"
   ]
  },
  {
   "cell_type": "markdown",
   "metadata": {},
   "source": [
    "We will locate the reactions in the model"
   ]
  },
  {
   "cell_type": "code",
   "execution_count": 34,
   "metadata": {},
   "outputs": [
    {
     "data": {
      "text/plain": [
       "[<Reaction r_1012 at 0x29edd3365d0>]"
      ]
     },
     "execution_count": 34,
     "metadata": {},
     "output_type": "execute_result"
    }
   ],
   "source": [
    "model.reactions.query('squalene synthase', 'name')"
   ]
  },
  {
   "cell_type": "code",
   "execution_count": 4,
   "metadata": {},
   "outputs": [
    {
     "data": {
      "text/html": [
       "\n",
       "        <table>\n",
       "            <tr>\n",
       "                <td><strong>Reaction identifier</strong></td><td>r_1012</td>\n",
       "            </tr><tr>\n",
       "                <td><strong>Name</strong></td><td>squalene synthase</td>\n",
       "            </tr><tr>\n",
       "                <td><strong>Memory address</strong></td>\n",
       "                <td>0x29eda0b2a10</td>\n",
       "            </tr><tr>\n",
       "                <td><strong>Stoichiometry</strong></td>\n",
       "                <td>\n",
       "                    <p style='text-align:right'>2.0 s_0190 + s_0794 + s_1212 --> 2.0 s_0633 + s_1207 + s_1447</p>\n",
       "                    <p style='text-align:right'>2.0 farnesyl diphosphate + H+ + NADPH --> 2.0 diphosphate + NADP(+) + squalene</p>\n",
       "                </td>\n",
       "            </tr><tr>\n",
       "                <td><strong>GPR</strong></td><td>YHR190W</td>\n",
       "            </tr><tr>\n",
       "                <td><strong>Lower bound</strong></td><td>0.0</td>\n",
       "            </tr><tr>\n",
       "                <td><strong>Upper bound</strong></td><td>1000.0</td>\n",
       "            </tr>\n",
       "        </table>\n",
       "        "
      ],
      "text/plain": [
       "<Reaction r_1012 at 0x29eda0b2a10>"
      ]
     },
     "execution_count": 4,
     "metadata": {},
     "output_type": "execute_result"
    }
   ],
   "source": [
    "model.reactions.r_1012"
   ]
  },
  {
   "cell_type": "code",
   "execution_count": 35,
   "metadata": {},
   "outputs": [
    {
     "data": {
      "text/plain": [
       "[<Reaction r_1010 at 0x29edd337310>, <Reaction r_1011 at 0x29edd337f90>]"
      ]
     },
     "execution_count": 35,
     "metadata": {},
     "output_type": "execute_result"
    }
   ],
   "source": [
    "model.reactions.query('squalene epoxidase', 'name')"
   ]
  },
  {
   "cell_type": "code",
   "execution_count": 36,
   "metadata": {},
   "outputs": [
    {
     "data": {
      "text/html": [
       "\n",
       "        <table>\n",
       "            <tr>\n",
       "                <td><strong>Reaction identifier</strong></td><td>r_1010</td>\n",
       "            </tr><tr>\n",
       "                <td><strong>Name</strong></td><td>squalene epoxidase (NAD)</td>\n",
       "            </tr><tr>\n",
       "                <td><strong>Memory address</strong></td>\n",
       "                <td>0x29edd337310</td>\n",
       "            </tr><tr>\n",
       "                <td><strong>Stoichiometry</strong></td>\n",
       "                <td>\n",
       "                    <p style='text-align:right'>s_0795 + s_1204 + s_1276 + s_1448 --> s_0038 + s_0804 + s_1199</p>\n",
       "                    <p style='text-align:right'>H+ + NADH + oxygen + squalene --> (S)-2,3-epoxysqualene + H2O + NAD</p>\n",
       "                </td>\n",
       "            </tr><tr>\n",
       "                <td><strong>GPR</strong></td><td>YGR175C</td>\n",
       "            </tr><tr>\n",
       "                <td><strong>Lower bound</strong></td><td>0.0</td>\n",
       "            </tr><tr>\n",
       "                <td><strong>Upper bound</strong></td><td>1000.0</td>\n",
       "            </tr>\n",
       "        </table>\n",
       "        "
      ],
      "text/plain": [
       "<Reaction r_1010 at 0x29edd337310>"
      ]
     },
     "execution_count": 36,
     "metadata": {},
     "output_type": "execute_result"
    }
   ],
   "source": [
    "model.reactions.r_1010"
   ]
  },
  {
   "cell_type": "code",
   "execution_count": 37,
   "metadata": {},
   "outputs": [
    {
     "data": {
      "text/plain": [
       "[<Reaction r_0233 at 0x29edd06af10>, <Reaction r_0242 at 0x29edd075210>]"
      ]
     },
     "execution_count": 37,
     "metadata": {},
     "output_type": "execute_result"
    }
   ],
   "source": [
    "model.reactions.query('sterol desaturase', 'name')"
   ]
  },
  {
   "cell_type": "code",
   "execution_count": 38,
   "metadata": {},
   "outputs": [
    {
     "data": {
      "text/html": [
       "\n",
       "        <table>\n",
       "            <tr>\n",
       "                <td><strong>Reaction identifier</strong></td><td>r_0242</td>\n",
       "            </tr><tr>\n",
       "                <td><strong>Name</strong></td><td>C-5 sterol desaturase</td>\n",
       "            </tr><tr>\n",
       "                <td><strong>Memory address</strong></td>\n",
       "                <td>0x29edd075210</td>\n",
       "            </tr><tr>\n",
       "                <td><strong>Stoichiometry</strong></td>\n",
       "                <td>\n",
       "                    <p style='text-align:right'>s_0657 + s_0794 + s_1212 + s_1275 --> s_0664 + 2.0 s_0803 + s_1207</p>\n",
       "                    <p style='text-align:right'>episterol + H+ + NADPH + oxygen --> ergosta-5,7,24(28)-trien-3beta-ol + 2.0 H2O + NADP(+)</p>\n",
       "                </td>\n",
       "            </tr><tr>\n",
       "                <td><strong>GPR</strong></td><td>YLR056W</td>\n",
       "            </tr><tr>\n",
       "                <td><strong>Lower bound</strong></td><td>0.0</td>\n",
       "            </tr><tr>\n",
       "                <td><strong>Upper bound</strong></td><td>1000.0</td>\n",
       "            </tr>\n",
       "        </table>\n",
       "        "
      ],
      "text/plain": [
       "<Reaction r_0242 at 0x29edd075210>"
      ]
     },
     "execution_count": 38,
     "metadata": {},
     "output_type": "execute_result"
    }
   ],
   "source": [
    "model.reactions.r_0242"
   ]
  },
  {
   "cell_type": "code",
   "execution_count": 39,
   "metadata": {},
   "outputs": [
    {
     "data": {
      "text/plain": [
       "[<Reaction r_0558 at 0x29edd17de90>]"
      ]
     },
     "execution_count": 39,
     "metadata": {},
     "output_type": "execute_result"
    }
   ],
   "source": [
    "model.reactions.query('hydroxymethylglutaryl CoA reductase', 'name')"
   ]
  },
  {
   "cell_type": "code",
   "execution_count": 40,
   "metadata": {},
   "outputs": [
    {
     "data": {
      "text/html": [
       "\n",
       "        <table>\n",
       "            <tr>\n",
       "                <td><strong>Reaction identifier</strong></td><td>r_0558</td>\n",
       "            </tr><tr>\n",
       "                <td><strong>Name</strong></td><td>hydroxymethylglutaryl CoA reductase</td>\n",
       "            </tr><tr>\n",
       "                <td><strong>Memory address</strong></td>\n",
       "                <td>0x29edd17de90</td>\n",
       "            </tr><tr>\n",
       "                <td><strong>Stoichiometry</strong></td>\n",
       "                <td>\n",
       "                    <p style='text-align:right'>s_0218 + 2.0 s_0794 + 2.0 s_1212 --> s_0028 + s_0529 + 2.0 s_1207</p>\n",
       "                    <p style='text-align:right'>3-hydroxy-3-methylglutaryl-CoA + 2.0 H+ + 2.0 NADPH --> (R)-mevalonate + coenzyme A + 2.0 NADP(+)</p>\n",
       "                </td>\n",
       "            </tr><tr>\n",
       "                <td><strong>GPR</strong></td><td>YLR450W or YML075C</td>\n",
       "            </tr><tr>\n",
       "                <td><strong>Lower bound</strong></td><td>0.0</td>\n",
       "            </tr><tr>\n",
       "                <td><strong>Upper bound</strong></td><td>1000.0</td>\n",
       "            </tr>\n",
       "        </table>\n",
       "        "
      ],
      "text/plain": [
       "<Reaction r_0558 at 0x29edd17de90>"
      ]
     },
     "execution_count": 40,
     "metadata": {},
     "output_type": "execute_result"
    }
   ],
   "source": [
    "model.reactions.r_0558"
   ]
  },
  {
   "cell_type": "markdown",
   "metadata": {},
   "source": [
    "<i>S. cerevisiae</i> posseses two genes encoding 3-hydroxy-3-methylglutaryl-coenzyme A reductase enzymes, <i>HMG1</i> and <i>HMG2</i>. As the isoenzyme HMG1 appears to be the more stable version of the two, it is the one usually picked for upregulation."
   ]
  },
  {
   "cell_type": "code",
   "execution_count": 41,
   "metadata": {},
   "outputs": [
    {
     "data": {
      "text/plain": [
       "[<Reaction r_0173 at 0x29edcf62d50>,\n",
       " <Reaction r_0177 at 0x29edd0018d0>,\n",
       " <Reaction r_4718 at 0x29ede621010>,\n",
       " <Reaction r_4719 at 0x29ede6219d0>]"
      ]
     },
     "execution_count": 41,
     "metadata": {},
     "output_type": "execute_result"
    }
   ],
   "source": [
    "model.reactions.query('YPL061W' , 'gene_name_reaction_rule')"
   ]
  },
  {
   "cell_type": "code",
   "execution_count": 42,
   "metadata": {},
   "outputs": [
    {
     "data": {
      "text/html": [
       "\n",
       "        <table>\n",
       "            <tr>\n",
       "                <td><strong>Reaction identifier</strong></td><td>r_0173</td>\n",
       "            </tr><tr>\n",
       "                <td><strong>Name</strong></td><td>aldehyde dehydrogenase (acetaldehyde, NADP)</td>\n",
       "            </tr><tr>\n",
       "                <td><strong>Memory address</strong></td>\n",
       "                <td>0x29edcf62d50</td>\n",
       "            </tr><tr>\n",
       "                <td><strong>Stoichiometry</strong></td>\n",
       "                <td>\n",
       "                    <p style='text-align:right'>s_0359 + s_0803 + s_1207 --> s_0362 + 2.0 s_0794 + s_1212</p>\n",
       "                    <p style='text-align:right'>acetaldehyde + H2O + NADP(+) --> acetate + 2.0 H+ + NADPH</p>\n",
       "                </td>\n",
       "            </tr><tr>\n",
       "                <td><strong>GPR</strong></td><td>YPL061W</td>\n",
       "            </tr><tr>\n",
       "                <td><strong>Lower bound</strong></td><td>0.0</td>\n",
       "            </tr><tr>\n",
       "                <td><strong>Upper bound</strong></td><td>1000.0</td>\n",
       "            </tr>\n",
       "        </table>\n",
       "        "
      ],
      "text/plain": [
       "<Reaction r_0173 at 0x29edcf62d50>"
      ]
     },
     "execution_count": 42,
     "metadata": {},
     "output_type": "execute_result"
    }
   ],
   "source": [
    "model.reactions.r_0173"
   ]
  },
  {
   "cell_type": "code",
   "execution_count": 43,
   "metadata": {},
   "outputs": [
    {
     "data": {
      "text/html": [
       "\n",
       "        <table>\n",
       "            <tr>\n",
       "                <td><strong>Reaction identifier</strong></td><td>r_0177</td>\n",
       "            </tr><tr>\n",
       "                <td><strong>Name</strong></td><td>aldehyde dehydrogenase (indole-3-acetaldehyde, NADP)</td>\n",
       "            </tr><tr>\n",
       "                <td><strong>Memory address</strong></td>\n",
       "                <td>0x29edd0018d0</td>\n",
       "            </tr><tr>\n",
       "                <td><strong>Stoichiometry</strong></td>\n",
       "                <td>\n",
       "                    <p style='text-align:right'>s_0803 + s_0850 + s_1207 --> 2.0 s_0794 + s_0853 + s_1212</p>\n",
       "                    <p style='text-align:right'>H2O + indol-3-ylacetaldehyde + NADP(+) --> 2.0 H+ + indole-3-acetate + NADPH</p>\n",
       "                </td>\n",
       "            </tr><tr>\n",
       "                <td><strong>GPR</strong></td><td>YPL061W</td>\n",
       "            </tr><tr>\n",
       "                <td><strong>Lower bound</strong></td><td>0.0</td>\n",
       "            </tr><tr>\n",
       "                <td><strong>Upper bound</strong></td><td>1000.0</td>\n",
       "            </tr>\n",
       "        </table>\n",
       "        "
      ],
      "text/plain": [
       "<Reaction r_0177 at 0x29edd0018d0>"
      ]
     },
     "execution_count": 43,
     "metadata": {},
     "output_type": "execute_result"
    }
   ],
   "source": [
    "model.reactions.r_0177"
   ]
  },
  {
   "cell_type": "code",
   "execution_count": 44,
   "metadata": {},
   "outputs": [
    {
     "data": {
      "text/html": [
       "\n",
       "        <table>\n",
       "            <tr>\n",
       "                <td><strong>Reaction identifier</strong></td><td>r_4718</td>\n",
       "            </tr><tr>\n",
       "                <td><strong>Name</strong></td><td>isobutyraldehyde dehydrogenase, c</td>\n",
       "            </tr><tr>\n",
       "                <td><strong>Memory address</strong></td>\n",
       "                <td>0x29ede621010</td>\n",
       "            </tr><tr>\n",
       "                <td><strong>Stoichiometry</strong></td>\n",
       "                <td>\n",
       "                    <p style='text-align:right'>s_0803 + s_0937 + s_1198 <=> 2.0 s_0794 + s_1203 + s_4285</p>\n",
       "                    <p style='text-align:right'>H2O + isobutyraldehyde + NAD <=> 2.0 H+ + NADH + isobutyrate</p>\n",
       "                </td>\n",
       "            </tr><tr>\n",
       "                <td><strong>GPR</strong></td><td>YOR374W or YPL061W</td>\n",
       "            </tr><tr>\n",
       "                <td><strong>Lower bound</strong></td><td>-1000.0</td>\n",
       "            </tr><tr>\n",
       "                <td><strong>Upper bound</strong></td><td>1000.0</td>\n",
       "            </tr>\n",
       "        </table>\n",
       "        "
      ],
      "text/plain": [
       "<Reaction r_4718 at 0x29ede621010>"
      ]
     },
     "execution_count": 44,
     "metadata": {},
     "output_type": "execute_result"
    }
   ],
   "source": [
    "model.reactions.r_4718"
   ]
  },
  {
   "cell_type": "code",
   "execution_count": 45,
   "metadata": {},
   "outputs": [
    {
     "data": {
      "text/html": [
       "\n",
       "        <table>\n",
       "            <tr>\n",
       "                <td><strong>Reaction identifier</strong></td><td>r_4719</td>\n",
       "            </tr><tr>\n",
       "                <td><strong>Name</strong></td><td>2-methylbutanal dehydrogenase, c</td>\n",
       "            </tr><tr>\n",
       "                <td><strong>Memory address</strong></td>\n",
       "                <td>0x29ede6219d0</td>\n",
       "            </tr><tr>\n",
       "                <td><strong>Stoichiometry</strong></td>\n",
       "                <td>\n",
       "                    <p style='text-align:right'>s_0166 + s_0803 + s_1198 <=> 2.0 s_0794 + s_1203 + s_4282</p>\n",
       "                    <p style='text-align:right'>2-methylbutanal + H2O + NAD <=> 2.0 H+ + NADH + 2-methylbutyrate</p>\n",
       "                </td>\n",
       "            </tr><tr>\n",
       "                <td><strong>GPR</strong></td><td>YOR374W or YPL061W</td>\n",
       "            </tr><tr>\n",
       "                <td><strong>Lower bound</strong></td><td>-1000.0</td>\n",
       "            </tr><tr>\n",
       "                <td><strong>Upper bound</strong></td><td>1000.0</td>\n",
       "            </tr>\n",
       "        </table>\n",
       "        "
      ],
      "text/plain": [
       "<Reaction r_4719 at 0x29ede6219d0>"
      ]
     },
     "execution_count": 45,
     "metadata": {},
     "output_type": "execute_result"
    }
   ],
   "source": [
    "model.reactions.r_4719"
   ]
  },
  {
   "cell_type": "code",
   "execution_count": 46,
   "metadata": {},
   "outputs": [
    {
     "data": {
      "text/plain": [
       "[<Reaction r_0174 at 0x29edcfefcd0>,\n",
       " <Reaction r_0175 at 0x29edcff7f50>,\n",
       " <Reaction r_0176 at 0x29edd002310>,\n",
       " <Reaction r_0178 at 0x29edd015890>,\n",
       " <Reaction r_0201 at 0x29edd03ef10>,\n",
       " <Reaction r_2116 at 0x29edd693e50>,\n",
       " <Reaction r_4678 at 0x29ede5f2290>,\n",
       " <Reaction r_4718 at 0x29ede621010>,\n",
       " <Reaction r_4719 at 0x29ede6219d0>]"
      ]
     },
     "execution_count": 46,
     "metadata": {},
     "output_type": "execute_result"
    }
   ],
   "source": [
    "model.reactions.query('YOR374W' , 'gene_name_reaction_rule')"
   ]
  },
  {
   "cell_type": "markdown",
   "metadata": {},
   "source": [
    "It appears that ALD6 catalyzes 4 reactions in total, for two of them being the only enzyme doing so. For the later two, another aldehyde dehydrogenase, ALD4, has the abillity to catalyze the same reactions. As a conclusion, to demosntrate the deletion of <i>ALD6</i>, we will delete reactions r_0173 and r_0177, as they are the main reactions our enzyme is involved into."
   ]
  },
  {
   "cell_type": "markdown",
   "metadata": {},
   "source": [
    "For the next step, we will simulate the modifications in our model."
   ]
  },
  {
   "cell_type": "markdown",
   "metadata": {},
   "source": [
    "<i>ALD6</i> deletion"
   ]
  },
  {
   "cell_type": "code",
   "execution_count": 47,
   "metadata": {},
   "outputs": [
    {
     "data": {
      "text/html": [
       "\n",
       "        <table>\n",
       "            <tr>\n",
       "                <td><strong>Reaction identifier</strong></td><td>r_0173</td>\n",
       "            </tr><tr>\n",
       "                <td><strong>Name</strong></td><td>aldehyde dehydrogenase (acetaldehyde, NADP)</td>\n",
       "            </tr><tr>\n",
       "                <td><strong>Memory address</strong></td>\n",
       "                <td>0x29edcf62d50</td>\n",
       "            </tr><tr>\n",
       "                <td><strong>Stoichiometry</strong></td>\n",
       "                <td>\n",
       "                    <p style='text-align:right'>s_0359 + s_0803 + s_1207 --> s_0362 + 2.0 s_0794 + s_1212</p>\n",
       "                    <p style='text-align:right'>acetaldehyde + H2O + NADP(+) --> acetate + 2.0 H+ + NADPH</p>\n",
       "                </td>\n",
       "            </tr><tr>\n",
       "                <td><strong>GPR</strong></td><td>YPL061W</td>\n",
       "            </tr><tr>\n",
       "                <td><strong>Lower bound</strong></td><td>0.0</td>\n",
       "            </tr><tr>\n",
       "                <td><strong>Upper bound</strong></td><td>1000.0</td>\n",
       "            </tr>\n",
       "        </table>\n",
       "        "
      ],
      "text/plain": [
       "<Reaction r_0173 at 0x29edcf62d50>"
      ]
     },
     "execution_count": 47,
     "metadata": {},
     "output_type": "execute_result"
    }
   ],
   "source": [
    "model.reactions.r_0173"
   ]
  },
  {
   "cell_type": "code",
   "execution_count": 48,
   "metadata": {},
   "outputs": [
    {
     "data": {
      "text/html": [
       "\n",
       "        <table>\n",
       "            <tr>\n",
       "                <td><strong>Reaction identifier</strong></td><td>r_0177</td>\n",
       "            </tr><tr>\n",
       "                <td><strong>Name</strong></td><td>aldehyde dehydrogenase (indole-3-acetaldehyde, NADP)</td>\n",
       "            </tr><tr>\n",
       "                <td><strong>Memory address</strong></td>\n",
       "                <td>0x29edd0018d0</td>\n",
       "            </tr><tr>\n",
       "                <td><strong>Stoichiometry</strong></td>\n",
       "                <td>\n",
       "                    <p style='text-align:right'>s_0803 + s_0850 + s_1207 --> 2.0 s_0794 + s_0853 + s_1212</p>\n",
       "                    <p style='text-align:right'>H2O + indol-3-ylacetaldehyde + NADP(+) --> 2.0 H+ + indole-3-acetate + NADPH</p>\n",
       "                </td>\n",
       "            </tr><tr>\n",
       "                <td><strong>GPR</strong></td><td>YPL061W</td>\n",
       "            </tr><tr>\n",
       "                <td><strong>Lower bound</strong></td><td>0.0</td>\n",
       "            </tr><tr>\n",
       "                <td><strong>Upper bound</strong></td><td>1000.0</td>\n",
       "            </tr>\n",
       "        </table>\n",
       "        "
      ],
      "text/plain": [
       "<Reaction r_0177 at 0x29edd0018d0>"
      ]
     },
     "execution_count": 48,
     "metadata": {},
     "output_type": "execute_result"
    }
   ],
   "source": [
    "model.reactions.r_0177"
   ]
  },
  {
   "cell_type": "code",
   "execution_count": 66,
   "metadata": {},
   "outputs": [
    {
     "name": "stdout",
     "output_type": "stream",
     "text": [
      "Growth rate after deletion: 0.0817654632231463 gDW h^-1\n",
      "Maximum beta-farnesene productivity =  0.22955230906227747 mmol/gDW*h\n",
      "Maximum theoretical yield is =  0.22955230906227747 mmol/gDW*h\n"
     ]
    }
   ],
   "source": [
    "with model:\n",
    "    model.reactions.r_0173.knock_out()\n",
    "    model.reactions.r_0177.knock_out()\n",
    "    \n",
    "    growth_rate = model.optimize().objective_value\n",
    "    print('Growth rate after deletion:', growth_rate, 'gDW h^-1')\n",
    "    \n",
    "    model.objective = model.reactions.BFD\n",
    "\n",
    "    beta_farnesene_max_production = model.optimize().objective_value\n",
    "    print(\"Maximum beta-farnesene productivity = \",beta_farnesene_max_production , \"mmol/gDW*h\")\n",
    "\n",
    "    glucose_uptake_flux = model.reactions.r_1714.flux #Glucose exchange reaction\n",
    "    max_yield = beta_farnesene_max_production / (-1*glucose_uptake_flux)\n",
    "    print(\"Maximum theoretical yield is = \", max_yield, \"mmol/gDW*h\")\n"
   ]
  },
  {
   "cell_type": "markdown",
   "metadata": {},
   "source": [
    "<i>HMG1</i> upregulation"
   ]
  },
  {
   "cell_type": "markdown",
   "metadata": {},
   "source": [
    "We are going to simulate the upregulation of <i>HMG1</i> by increasing the lower bound of the HMGR reaction in our model to 0.1 from 0.0.\n"
   ]
  },
  {
   "cell_type": "code",
   "execution_count": 65,
   "metadata": {},
   "outputs": [
    {
     "name": "stdout",
     "output_type": "stream",
     "text": [
      "Growth rate after upregulation: 0.07375048078583821 gDW h^-1\n",
      "Maximum beta-farnesene productivity =  0.23035112219719753 mmol/gDW*h\n",
      "Maximum theoretical yield is =  0.23035112219719753 mmol/gDW*h\n"
     ]
    }
   ],
   "source": [
    "with model:\n",
    "    model.reactions.r_0558.lower_bound = 0.1\n",
    "    \n",
    "    growth_rate = model.optimize().objective_value\n",
    "    print('Growth rate after upregulation:', growth_rate, 'gDW h^-1')\n",
    "    \n",
    "    model.objective = model.reactions.BFD\n",
    "\n",
    "    beta_farnesene_max_production = model.optimize().objective_value\n",
    "    print(\"Maximum beta-farnesene productivity = \",beta_farnesene_max_production , \"mmol/gDW*h\")\n",
    "\n",
    "    glucose_uptake_flux = model.reactions.r_1714.flux #Glucose exchange reaction\n",
    "    max_yield = beta_farnesene_max_production / (-1*glucose_uptake_flux)\n",
    "    print(\"Maximum theoretical yield is = \", max_yield, \"mmol/gDW*h\")\n"
   ]
  },
  {
   "cell_type": "markdown",
   "metadata": {},
   "source": [
    "<i>ERG9</i> downregulation"
   ]
  },
  {
   "cell_type": "markdown",
   "metadata": {},
   "source": [
    "Next, we are going to downregulate the expression of <i>ERG9</i> in our model, by decreasing the upper bound of the reaction. Remember that deletion of that gene is lethal, so we have to be careful with how much we are decrease the upper bound. After consideration, we choose the value of 0.1."
   ]
  },
  {
   "cell_type": "code",
   "execution_count": 52,
   "metadata": {},
   "outputs": [
    {
     "data": {
      "text/html": [
       "\n",
       "        <table>\n",
       "            <tr>\n",
       "                <td><strong>Reaction identifier</strong></td><td>r_1012</td>\n",
       "            </tr><tr>\n",
       "                <td><strong>Name</strong></td><td>squalene synthase</td>\n",
       "            </tr><tr>\n",
       "                <td><strong>Memory address</strong></td>\n",
       "                <td>0x29edd3365d0</td>\n",
       "            </tr><tr>\n",
       "                <td><strong>Stoichiometry</strong></td>\n",
       "                <td>\n",
       "                    <p style='text-align:right'>2.0 s_0190 + s_0794 + s_1212 --> 2.0 s_0633 + s_1207 + s_1447</p>\n",
       "                    <p style='text-align:right'>2.0 farnesyl diphosphate + H+ + NADPH --> 2.0 diphosphate + NADP(+) + squalene</p>\n",
       "                </td>\n",
       "            </tr><tr>\n",
       "                <td><strong>GPR</strong></td><td>YHR190W</td>\n",
       "            </tr><tr>\n",
       "                <td><strong>Lower bound</strong></td><td>0.0</td>\n",
       "            </tr><tr>\n",
       "                <td><strong>Upper bound</strong></td><td>1000.0</td>\n",
       "            </tr>\n",
       "        </table>\n",
       "        "
      ],
      "text/plain": [
       "<Reaction r_1012 at 0x29edd3365d0>"
      ]
     },
     "execution_count": 52,
     "metadata": {},
     "output_type": "execute_result"
    }
   ],
   "source": [
    "model.reactions.r_1012"
   ]
  },
  {
   "cell_type": "code",
   "execution_count": 69,
   "metadata": {},
   "outputs": [
    {
     "name": "stdout",
     "output_type": "stream",
     "text": [
      "Growth rate after downregulation: 0.08192818581102189 gDW h^-1\n",
      "Maximum beta-farnesene productivity =  0.23035112219719586 mmol/gDW*h\n",
      "Maximum theoretical yield is =  0.23035112219719586 mmol/gDW*h\n"
     ]
    }
   ],
   "source": [
    "with model:\n",
    "    model.reactions.r_1012.upper_bound = 0.1\n",
    "    \n",
    "    growth_rate = model.optimize().objective_value\n",
    "    print('Growth rate after downregulation:', growth_rate, 'gDW h^-1')\n",
    "    \n",
    "    model.objective = model.reactions.BFD\n",
    "\n",
    "    beta_farnesene_max_production = model.optimize().objective_value\n",
    "    print(\"Maximum beta-farnesene productivity = \",beta_farnesene_max_production , \"mmol/gDW*h\")\n",
    "\n",
    "    glucose_uptake_flux = model.reactions.r_1714.flux #Glucose exchange reaction\n",
    "    max_yield = beta_farnesene_max_production / (-1*glucose_uptake_flux)\n",
    "    print(\"Maximum theoretical yield is = \", max_yield, \"mmol/gDW*h\")"
   ]
  },
  {
   "cell_type": "markdown",
   "metadata": {},
   "source": [
    "In the same way as <i>ERG9</i> we are going to model the downregulation of <i>ERG1</i> and <i>ERG3</i>."
   ]
  },
  {
   "cell_type": "markdown",
   "metadata": {},
   "source": [
    "Downregulation of <i>ERG1</i>"
   ]
  },
  {
   "cell_type": "code",
   "execution_count": 68,
   "metadata": {},
   "outputs": [
    {
     "name": "stdout",
     "output_type": "stream",
     "text": [
      "Growth rate after downregulation: 0.08192818581102064 gDW h^-1\n",
      "Maximum beta-farnesene productivity =  0.23035112219719722 mmol/gDW*h\n",
      "Maximum theoretical yield is =  0.23035112219719722 mmol/gDW*h\n"
     ]
    }
   ],
   "source": [
    "with model:\n",
    "    model.reactions.r_1010.upper_bound = 0.1\n",
    "    \n",
    "    growth_rate = model.optimize().objective_value\n",
    "    print('Growth rate after downregulation:', growth_rate, 'gDW h^-1')\n",
    "    \n",
    "    model.objective = model.reactions.BFD\n",
    "\n",
    "    beta_farnesene_max_production = model.optimize().objective_value\n",
    "    print(\"Maximum beta-farnesene productivity = \",beta_farnesene_max_production , \"mmol/gDW*h\")\n",
    "\n",
    "    glucose_uptake_flux = model.reactions.r_1714.flux #Glucose exchange reaction\n",
    "    max_yield = beta_farnesene_max_production / (-1*glucose_uptake_flux)\n",
    "    print(\"Maximum theoretical yield is = \", max_yield, \"mmol/gDW*h\")"
   ]
  },
  {
   "cell_type": "markdown",
   "metadata": {},
   "source": [
    "Downregulation of <i>ERG3</i>"
   ]
  },
  {
   "cell_type": "code",
   "execution_count": 67,
   "metadata": {},
   "outputs": [
    {
     "name": "stdout",
     "output_type": "stream",
     "text": [
      "Growth rate after downregulation: 0.0819281858110213 gDW h^-1\n",
      "Maximum beta-farnesene productivity =  0.23035112219719642 mmol/gDW*h\n",
      "Maximum theoretical yield is =  0.23035112219719642 mmol/gDW*h\n"
     ]
    }
   ],
   "source": [
    "with model:\n",
    "    model.reactions.r_0242.upper_bound = 0.1\n",
    "    \n",
    "    growth_rate = model.optimize().objective_value\n",
    "    print('Growth rate after downregulation:', growth_rate, 'gDW h^-1')\n",
    "    \n",
    "    model.objective = model.reactions.BFD\n",
    "\n",
    "    beta_farnesene_max_production = model.optimize().objective_value\n",
    "    print(\"Maximum beta-farnesene productivity = \",beta_farnesene_max_production , \"mmol/gDW*h\")\n",
    "\n",
    "    glucose_uptake_flux = model.reactions.r_1714.flux #Glucose exchange reaction\n",
    "    max_yield = beta_farnesene_max_production / (-1*glucose_uptake_flux)\n",
    "    print(\"Maximum theoretical yield is = \", max_yield, \"mmol/gDW*h\")"
   ]
  },
  {
   "cell_type": "markdown",
   "metadata": {},
   "source": [
    "### Conclusions\n",
    "We simulated some frequently used in literature manually derived metabolic modifications in <i>S. cerevisiae</i> in order to increase terpenoid (and beta-farnesene in our case) production. \n",
    "Our analysis showed that the deletion of <i>ALD6</i> is \n"
   ]
  },
  {
   "cell_type": "code",
   "execution_count": 64,
   "metadata": {},
   "outputs": [
    {
     "data": {
      "text/plain": [
       "{'r_1654': 1000.0,\n",
       " 'r_1714': 1.0,\n",
       " 'r_1832': 1000.0,\n",
       " 'r_1861': 1000.0,\n",
       " 'r_1992': 1000.0,\n",
       " 'r_2005': 1000.0,\n",
       " 'r_2020': 1000.0,\n",
       " 'r_2049': 1000.0,\n",
       " 'r_2060': 1000.0,\n",
       " 'r_2100': 1000.0,\n",
       " 'r_4593': 1000.0,\n",
       " 'r_4594': 1000.0,\n",
       " 'r_4595': 1000.0,\n",
       " 'r_4596': 1000.0,\n",
       " 'r_4597': 1000.0,\n",
       " 'r_4600': 1000.0}"
      ]
     },
     "execution_count": 64,
     "metadata": {},
     "output_type": "execute_result"
    }
   ],
   "source": [
    "model.medium"
   ]
  }
 ],
 "metadata": {
  "kernelspec": {
   "display_name": "base",
   "language": "python",
   "name": "python3"
  },
  "language_info": {
   "codemirror_mode": {
    "name": "ipython",
    "version": 3
   },
   "file_extension": ".py",
   "mimetype": "text/x-python",
   "name": "python",
   "nbconvert_exporter": "python",
   "pygments_lexer": "ipython3",
   "version": "3.11.4"
  }
 },
 "nbformat": 4,
 "nbformat_minor": 2
}
