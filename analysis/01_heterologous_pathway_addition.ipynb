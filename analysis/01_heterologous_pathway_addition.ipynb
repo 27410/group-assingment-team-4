{
 "cells": [
  {
   "cell_type": "markdown",
   "metadata": {},
   "source": [
    "# Heterologous pathway addition and importing the model"
   ]
  },
  {
   "cell_type": "markdown",
   "metadata": {},
   "source": [
    "## importing the model"
   ]
  },
  {
   "cell_type": "code",
   "execution_count": 2,
   "metadata": {},
   "outputs": [],
   "source": [
    "from cobra.io import read_sbml_model, write_sbml_model\n",
    "model = read_sbml_model('/Users/wagner/github-classroom/27410/group-assingment-team-4/yeast-GEM-8.7.0/model/yeast-GEM.xml') # loading\n",
    "from cobra import Reaction, Metabolite, Gene\n",
    "\n"
   ]
  },
  {
   "cell_type": "code",
   "execution_count": 47,
   "metadata": {},
   "outputs": [
    {
     "name": "stdout",
     "output_type": "stream",
     "text": [
      "\u001b[0;31mSignature:\u001b[0m\n",
      "\u001b[0mwrite_sbml_model\u001b[0m\u001b[0;34m(\u001b[0m\u001b[0;34m\u001b[0m\n",
      "\u001b[0;34m\u001b[0m    \u001b[0mcobra_model\u001b[0m\u001b[0;34m:\u001b[0m \u001b[0mcobra\u001b[0m\u001b[0;34m.\u001b[0m\u001b[0mcore\u001b[0m\u001b[0;34m.\u001b[0m\u001b[0mmodel\u001b[0m\u001b[0;34m.\u001b[0m\u001b[0mModel\u001b[0m\u001b[0;34m,\u001b[0m\u001b[0;34m\u001b[0m\n",
      "\u001b[0;34m\u001b[0m    \u001b[0mfilename\u001b[0m\u001b[0;34m:\u001b[0m \u001b[0mUnion\u001b[0m\u001b[0;34m[\u001b[0m\u001b[0mstr\u001b[0m\u001b[0;34m,\u001b[0m \u001b[0mIO\u001b[0m\u001b[0;34m,\u001b[0m \u001b[0mpathlib\u001b[0m\u001b[0;34m.\u001b[0m\u001b[0mPath\u001b[0m\u001b[0;34m]\u001b[0m\u001b[0;34m,\u001b[0m\u001b[0;34m\u001b[0m\n",
      "\u001b[0;34m\u001b[0m    \u001b[0mf_replace\u001b[0m\u001b[0;34m:\u001b[0m \u001b[0mdict\u001b[0m \u001b[0;34m=\u001b[0m \u001b[0;34m{\u001b[0m\u001b[0;34m'F_GENE'\u001b[0m\u001b[0;34m:\u001b[0m \u001b[0;34m<\u001b[0m\u001b[0mfunction\u001b[0m \u001b[0m_f_gene\u001b[0m \u001b[0mat\u001b[0m \u001b[0;36m0x16b2e36a0\u001b[0m\u001b[0;34m>\u001b[0m\u001b[0;34m,\u001b[0m \u001b[0;34m'F_GENE_REV'\u001b[0m\u001b[0;34m:\u001b[0m \u001b[0;34m<\u001b[0m\u001b[0mfunction\u001b[0m \u001b[0m_f_gene_rev\u001b[0m \u001b[0mat\u001b[0m \u001b[0;36m0x16b2e3880\u001b[0m\u001b[0;34m>\u001b[0m\u001b[0;34m,\u001b[0m \u001b[0;34m'F_SPECIE'\u001b[0m\u001b[0;34m:\u001b[0m \u001b[0;34m<\u001b[0m\u001b[0mfunction\u001b[0m \u001b[0m_f_specie\u001b[0m \u001b[0mat\u001b[0m \u001b[0;36m0x16b2e3920\u001b[0m\u001b[0;34m>\u001b[0m\u001b[0;34m,\u001b[0m \u001b[0;34m'F_SPECIE_REV'\u001b[0m\u001b[0;34m:\u001b[0m \u001b[0;34m<\u001b[0m\u001b[0mfunction\u001b[0m \u001b[0m_f_specie_rev\u001b[0m \u001b[0mat\u001b[0m \u001b[0;36m0x16b2e39c0\u001b[0m\u001b[0;34m>\u001b[0m\u001b[0;34m,\u001b[0m \u001b[0;34m'F_REACTION'\u001b[0m\u001b[0;34m:\u001b[0m \u001b[0;34m<\u001b[0m\u001b[0mfunction\u001b[0m \u001b[0m_f_reaction\u001b[0m \u001b[0mat\u001b[0m \u001b[0;36m0x16b2e3a60\u001b[0m\u001b[0;34m>\u001b[0m\u001b[0;34m,\u001b[0m \u001b[0;34m'F_REACTION_REV'\u001b[0m\u001b[0;34m:\u001b[0m \u001b[0;34m<\u001b[0m\u001b[0mfunction\u001b[0m \u001b[0m_f_reaction_rev\u001b[0m \u001b[0mat\u001b[0m \u001b[0;36m0x16b2e3b00\u001b[0m\u001b[0;34m>\u001b[0m\u001b[0;34m,\u001b[0m \u001b[0;34m'F_GROUP'\u001b[0m\u001b[0;34m:\u001b[0m \u001b[0;34m<\u001b[0m\u001b[0mfunction\u001b[0m \u001b[0m_f_group\u001b[0m \u001b[0mat\u001b[0m \u001b[0;36m0x16b2e3ba0\u001b[0m\u001b[0;34m>\u001b[0m\u001b[0;34m,\u001b[0m \u001b[0;34m'F_GROUP_REV'\u001b[0m\u001b[0;34m:\u001b[0m \u001b[0;34m<\u001b[0m\u001b[0mfunction\u001b[0m \u001b[0m_f_group_rev\u001b[0m \u001b[0mat\u001b[0m \u001b[0;36m0x16b2e3c40\u001b[0m\u001b[0;34m>\u001b[0m\u001b[0;34m}\u001b[0m\u001b[0;34m,\u001b[0m\u001b[0;34m\u001b[0m\n",
      "\u001b[0;34m\u001b[0m    \u001b[0;34m**\u001b[0m\u001b[0mkwargs\u001b[0m\u001b[0;34m,\u001b[0m\u001b[0;34m\u001b[0m\n",
      "\u001b[0;34m\u001b[0m\u001b[0;34m)\u001b[0m \u001b[0;34m->\u001b[0m \u001b[0;32mNone\u001b[0m\u001b[0;34m\u001b[0m\u001b[0;34m\u001b[0m\u001b[0m\n",
      "\u001b[0;31mDocstring:\u001b[0m\n",
      "Write cobra model to filename.\n",
      "\n",
      "The created model is SBML level 3 version 1 (L1V3) with\n",
      "fbc package v2 (fbc-v2).\n",
      "\n",
      "If the given filename ends with the suffix \".gz\" (for example,\n",
      "\"myfile.xml.gz\"), libSBML assumes the caller wants the file to be\n",
      "written compressed in gzip format. Similarly, if the given filename\n",
      "ends with \".zip\" or \".bz2\", libSBML assumes the caller wants the\n",
      "file to be compressed in zip or bzip2 format (respectively). Files\n",
      "whose names lack these suffixes will be written uncompressed. Special\n",
      "considerations for the zip format: If the given filename ends with\n",
      "\".zip\", the file placed in the zip archive will have the suffix\n",
      "\".xml\" or \".sbml\".  For example, the file in the zip archive will\n",
      "be named \"test.xml\" if the given filename is \"test.xml.zip\" or\n",
      "\"test.zip\". Similarly, the filename in the archive will be\n",
      "\"test.sbml\" if the given filename is \"test.sbml.zip\".\n",
      "\n",
      "Parameters\n",
      "----------\n",
      "cobra_model : cobra.core.Model\n",
      "    Model instance which is written to SBML\n",
      "filename : string or filehandle\n",
      "    path to which the model is written\n",
      "f_replace: dict\n",
      "    dictionary of replacement functions for id replacement\n",
      "**kwargs:\n",
      "    Further keyword arguments are passed on.\n",
      "\u001b[0;31mFile:\u001b[0m      ~/anaconda3/lib/python3.11/site-packages/cobra/io/sbml.py\n",
      "\u001b[0;31mType:\u001b[0m      function"
     ]
    }
   ],
   "source": [
    "?write_sbml_model"
   ]
  },
  {
   "cell_type": "code",
   "execution_count": 3,
   "metadata": {},
   "outputs": [
    {
     "data": {
      "text/html": [
       "\n",
       "        <table>\n",
       "            <tr>\n",
       "                <td><strong>Name</strong></td>\n",
       "                <td>yeastGEM_v8__46__7__46__0</td>\n",
       "            </tr><tr>\n",
       "                <td><strong>Memory address</strong></td>\n",
       "                <td>11e79eb90</td>\n",
       "            </tr><tr>\n",
       "                <td><strong>Number of metabolites</strong></td>\n",
       "                <td>2807</td>\n",
       "            </tr><tr>\n",
       "                <td><strong>Number of reactions</strong></td>\n",
       "                <td>4133</td>\n",
       "            </tr><tr>\n",
       "                <td><strong>Number of genes</strong></td>\n",
       "                <td>1163</td>\n",
       "            </tr><tr>\n",
       "                <td><strong>Number of groups</strong></td>\n",
       "                <td>106</td>\n",
       "            </tr><tr>\n",
       "                <td><strong>Objective expression</strong></td>\n",
       "                <td>1.0*r_2111 - 1.0*r_2111_reverse_58b69</td>\n",
       "            </tr><tr>\n",
       "                <td><strong>Compartments</strong></td>\n",
       "                <td>cell envelope, cytoplasm, extracellular, mitochondrion, nucleus, peroxisome, endoplasmic reticulum, Golgi, lipid particle, vacuole, endoplasmic reticulum membrane, vacuolar membrane, Golgi membrane, mitochondrial membrane</td>\n",
       "            </tr>\n",
       "          </table>"
      ],
      "text/plain": [
       "<Model yeastGEM_v8__46__7__46__0 at 0x11e79eb90>"
      ]
     },
     "execution_count": 3,
     "metadata": {},
     "output_type": "execute_result"
    }
   ],
   "source": [
    "model"
   ]
  },
  {
   "cell_type": "markdown",
   "metadata": {},
   "source": [
    "Since there are no production pathways inherently in the model of the organism we will need to add the metabolite and reaction ourselves"
   ]
  },
  {
   "cell_type": "markdown",
   "metadata": {},
   "source": [
    "Adding the metabolites:"
   ]
  },
  {
   "cell_type": "code",
   "execution_count": 4,
   "metadata": {},
   "outputs": [],
   "source": [
    "Beta_farnesene = Metabolite(name='Beta-farnesene',id='beta_farnesene_c',compartment='c')\n",
    "# Created the metabolite Beta-farnesene as a metabolite that is present in the cytoplasm"
   ]
  },
  {
   "cell_type": "markdown",
   "metadata": {},
   "source": [
    "Adding the reaction for beta-farnesene and the demand reaction for beta-farnesene"
   ]
  },
  {
   "cell_type": "code",
   "execution_count": 5,
   "metadata": {},
   "outputs": [
    {
     "name": "stderr",
     "output_type": "stream",
     "text": [
      "Ignoring reaction 'R08695' since it already exists.\n"
     ]
    },
    {
     "data": {
      "text/html": [
       "\n",
       "        <table>\n",
       "            <tr>\n",
       "                <td><strong>Reaction identifier</strong></td><td>R08695</td>\n",
       "            </tr><tr>\n",
       "                <td><strong>Name</strong></td><td></td>\n",
       "            </tr><tr>\n",
       "                <td><strong>Memory address</strong></td>\n",
       "                <td>0x29995d090</td>\n",
       "            </tr><tr>\n",
       "                <td><strong>Stoichiometry</strong></td>\n",
       "                <td>\n",
       "                    <p style='text-align:right'>s_0190 --> beta_farnesene_c + s_0633</p>\n",
       "                    <p style='text-align:right'>farnesyl diphosphate --> Beta-farnesene + diphosphate</p>\n",
       "                </td>\n",
       "            </tr><tr>\n",
       "                <td><strong>GPR</strong></td><td></td>\n",
       "            </tr><tr>\n",
       "                <td><strong>Lower bound</strong></td><td>0.0</td>\n",
       "            </tr><tr>\n",
       "                <td><strong>Upper bound</strong></td><td>1000.0</td>\n",
       "            </tr>\n",
       "        </table>\n",
       "        "
      ],
      "text/plain": [
       "<Reaction R08695 at 0x29995d090>"
      ]
     },
     "execution_count": 5,
     "metadata": {},
     "output_type": "execute_result"
    }
   ],
   "source": [
    "from cobra import Reaction, Metabolite, Gene\n",
    "\n",
    "Beta_farnesene_synthase_reaction = Reaction('R08695') # Creates the Beta-farnesene reaction \n",
    "\n",
    "# This creates the reaction for beta-farnesene synthesis by indicating the consumption of the substrates and \n",
    "# using our newly introduced metabolite as the product\n",
    "# The reaction R08695 is:\n",
    "# Trans,trans-Farnesyl diphosphate <=> beta-Farnesene + Diphosphate\n",
    "# These are found as the metabolites:\n",
    "# Farnesyl diphosphate = s_0190\n",
    "# beta-farnesene = Beta_farnesene\n",
    "# Diphosphate = s_0633 \n",
    "\n",
    "# Thus having already defined the metabolite and the reaction we can fully define the reaction stoichiometry:\n",
    "\n",
    "Beta_farnesene_synthase_reaction.add_metabolites({model.metabolites.s_0190: -1,\n",
    "                                                  model.metabolites.s_0633: 1,\n",
    "                                                  Beta_farnesene: 1 # our product\n",
    "                                                  }) \n",
    "\n",
    "# Test if the reaction has been made properly and the stoichiometric definition is correct:\n",
    "Beta_farnesene_synthase_reaction\n",
    "\n",
    "# Adding the reaction to the model\n",
    "model.add_reactions([Beta_farnesene_synthase_reaction])\n",
    "\n",
    "# tests that the reaction has been added to the model\n",
    "model.reactions.get_by_id(Beta_farnesene_synthase_reaction.id)"
   ]
  },
  {
   "cell_type": "code",
   "execution_count": 6,
   "metadata": {},
   "outputs": [
    {
     "name": "stderr",
     "output_type": "stream",
     "text": [
      "Ignoring reaction 'BFD' since it already exists.\n"
     ]
    }
   ],
   "source": [
    "# This creates the demand reaction for beta-farnesene as this otherwise would become a dead-end metabolite:\n",
    "\n",
    "# The demand reaction follows the same framework as above, with the stoichiometry just being -1 for the\n",
    "# metabolite Beta-farnesene:\n",
    "\n",
    "Beta_farnesene_demand_reaction = Reaction('BFD')\n",
    "Beta_farnesene_demand_reaction.add_metabolites({\n",
    "                                                  Beta_farnesene: -1 # our product\n",
    "                                                  })\n",
    "model.add_reactions([Beta_farnesene_demand_reaction])\n",
    "\n",
    "# Note: the output is because we already added the reaction to the model."
   ]
  },
  {
   "cell_type": "code",
   "execution_count": 7,
   "metadata": {},
   "outputs": [
    {
     "data": {
      "text/html": [
       "\n",
       "        <table>\n",
       "            <tr>\n",
       "                <td><strong>Reaction identifier</strong></td><td>BFD</td>\n",
       "            </tr><tr>\n",
       "                <td><strong>Name</strong></td><td></td>\n",
       "            </tr><tr>\n",
       "                <td><strong>Memory address</strong></td>\n",
       "                <td>0x29995d210</td>\n",
       "            </tr><tr>\n",
       "                <td><strong>Stoichiometry</strong></td>\n",
       "                <td>\n",
       "                    <p style='text-align:right'>beta_farnesene_c --></p>\n",
       "                    <p style='text-align:right'>Beta-farnesene --></p>\n",
       "                </td>\n",
       "            </tr><tr>\n",
       "                <td><strong>GPR</strong></td><td></td>\n",
       "            </tr><tr>\n",
       "                <td><strong>Lower bound</strong></td><td>0.0</td>\n",
       "            </tr><tr>\n",
       "                <td><strong>Upper bound</strong></td><td>1000.0</td>\n",
       "            </tr>\n",
       "        </table>\n",
       "        "
      ],
      "text/plain": [
       "<Reaction BFD at 0x29995d210>"
      ]
     },
     "execution_count": 7,
     "metadata": {},
     "output_type": "execute_result"
    }
   ],
   "source": [
    "# tests that the reaction has been added to the model\n",
    "model.reactions.get_by_id(Beta_farnesene_demand_reaction.id)\n",
    "\n"
   ]
  },
  {
   "cell_type": "markdown",
   "metadata": {},
   "source": [
    "## Testing to make sure flux goes through the production pathway that we have created"
   ]
  },
  {
   "cell_type": "code",
   "execution_count": 8,
   "metadata": {},
   "outputs": [
    {
     "name": "stdout",
     "output_type": "stream",
     "text": [
      "Maximal growth rate 0.08192817234184746\n",
      "This is the maximal production of beta-farnesene on glucose: 0.2303511221971975 mmol beta-farnesene gDW^-1 h^-1\n"
     ]
    }
   ],
   "source": [
    "# This function test to see that the organism still is growing\n",
    "with model:\n",
    "   print('Maximal growth rate',model.optimize().objective_value)\n",
    "\n",
    "# now we will set the objective function of the model to the demand reaction for beta-farnesene to test if\n",
    "# the model allows flux through the beta-farnsene biosynthesis pathway\n",
    "with model:\n",
    "   model.objective = model.reactions.BFD\n",
    "   print('This is the maximal production of beta-farnesene on glucose:', model.optimize().objective_value, 'mmol beta-farnesene gDW^-1 h^-1')"
   ]
  },
  {
   "cell_type": "markdown",
   "metadata": {},
   "source": [
    "It is evident that we are seing flux through the reaction when setting it as the model objective function, this means that it is not a dead end metabolite."
   ]
  },
  {
   "cell_type": "markdown",
   "metadata": {},
   "source": [
    "# Saving the model:"
   ]
  },
  {
   "cell_type": "code",
   "execution_count": 9,
   "metadata": {},
   "outputs": [],
   "source": [
    "# This code saves the changes to the model and we now have a model that has a the heterologous pathway for \n",
    "# beta-farnesene production as well as a demand reaction for cytoplasmic beta-farnesene\n",
    "\n",
    "write_sbml_model(model,\n",
    "                 filename = '/Users/wagner/github-classroom/27410/group-assingment-team-4/yeast-GEM-8.7.0/model/yeast-GEM2.xml'\n",
    "                 )  \n",
    "#saving the model"
   ]
  },
  {
   "cell_type": "code",
   "execution_count": null,
   "metadata": {},
   "outputs": [],
   "source": []
  }
 ],
 "metadata": {
  "kernelspec": {
   "display_name": "base",
   "language": "python",
   "name": "python3"
  },
  "language_info": {
   "codemirror_mode": {
    "name": "ipython",
    "version": 3
   },
   "file_extension": ".py",
   "mimetype": "text/x-python",
   "name": "python",
   "nbconvert_exporter": "python",
   "pygments_lexer": "ipython3",
   "version": "3.11.4"
  },
  "orig_nbformat": 4
 },
 "nbformat": 4,
 "nbformat_minor": 2
}
