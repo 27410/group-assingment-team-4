{
 "cells": [
  {
   "cell_type": "markdown",
   "metadata": {},
   "source": [
    "# Heterologous pathway addition and importing the model"
   ]
  },
  {
   "cell_type": "markdown",
   "metadata": {},
   "source": [
    "## importing the model"
   ]
  },
  {
   "cell_type": "code",
   "execution_count": 3,
   "metadata": {},
   "outputs": [],
   "source": [
    "from cobra.io import read_sbml_model\n",
    "model = read_sbml_model('/Users/wagner/github-classroom/27410/group-assingment-team-4/yeast-GEM-8.7.0/model/yeast-GEM.xml') # loading\n",
    "from cobra import Reaction, Metabolite, Gene"
   ]
  },
  {
   "cell_type": "code",
   "execution_count": 4,
   "metadata": {},
   "outputs": [
    {
     "data": {
      "text/html": [
       "\n",
       "        <table>\n",
       "            <tr>\n",
       "                <td><strong>Name</strong></td>\n",
       "                <td>yeastGEM_v8__46__7__46__0</td>\n",
       "            </tr><tr>\n",
       "                <td><strong>Memory address</strong></td>\n",
       "                <td>28ec2efd0</td>\n",
       "            </tr><tr>\n",
       "                <td><strong>Number of metabolites</strong></td>\n",
       "                <td>2807</td>\n",
       "            </tr><tr>\n",
       "                <td><strong>Number of reactions</strong></td>\n",
       "                <td>4133</td>\n",
       "            </tr><tr>\n",
       "                <td><strong>Number of genes</strong></td>\n",
       "                <td>1163</td>\n",
       "            </tr><tr>\n",
       "                <td><strong>Number of groups</strong></td>\n",
       "                <td>106</td>\n",
       "            </tr><tr>\n",
       "                <td><strong>Objective expression</strong></td>\n",
       "                <td>1.0*r_2111 - 1.0*r_2111_reverse_58b69</td>\n",
       "            </tr><tr>\n",
       "                <td><strong>Compartments</strong></td>\n",
       "                <td>cell envelope, cytoplasm, extracellular, mitochondrion, nucleus, peroxisome, endoplasmic reticulum, Golgi, lipid particle, vacuole, endoplasmic reticulum membrane, vacuolar membrane, Golgi membrane, mitochondrial membrane</td>\n",
       "            </tr>\n",
       "          </table>"
      ],
      "text/plain": [
       "<Model yeastGEM_v8__46__7__46__0 at 0x28ec2efd0>"
      ]
     },
     "execution_count": 4,
     "metadata": {},
     "output_type": "execute_result"
    }
   ],
   "source": [
    "model"
   ]
  },
  {
   "cell_type": "markdown",
   "metadata": {},
   "source": [
    "Since there are no production pathways inherently in the model of the organism we will need to add the metabolite and reaction ourselves"
   ]
  },
  {
   "cell_type": "markdown",
   "metadata": {},
   "source": [
    "Adding the metabolites:"
   ]
  },
  {
   "cell_type": "code",
   "execution_count": 18,
   "metadata": {},
   "outputs": [],
   "source": [
    "Beta_farnesene = Metabolite(name='Beta-farnesene',id='beta_farnesene_c',compartment='c')\n",
    "# Created the metabolite Beta-farnesene as a metabolite that is present in the cytoplasm"
   ]
  },
  {
   "cell_type": "markdown",
   "metadata": {},
   "source": [
    "Adding the reaction for beta-farnesene and the demand reaction for beta-farnesene"
   ]
  },
  {
   "cell_type": "code",
   "execution_count": 19,
   "metadata": {},
   "outputs": [
    {
     "name": "stderr",
     "output_type": "stream",
     "text": [
      "Ignoring reaction 'R08695' since it already exists.\n"
     ]
    },
    {
     "data": {
      "text/html": [
       "\n",
       "        <table>\n",
       "            <tr>\n",
       "                <td><strong>Reaction identifier</strong></td><td>R08695</td>\n",
       "            </tr><tr>\n",
       "                <td><strong>Name</strong></td><td></td>\n",
       "            </tr><tr>\n",
       "                <td><strong>Memory address</strong></td>\n",
       "                <td>0x298f37b90</td>\n",
       "            </tr><tr>\n",
       "                <td><strong>Stoichiometry</strong></td>\n",
       "                <td>\n",
       "                    <p style='text-align:right'>s_0190 --> beta_farnesene_c + s_0633</p>\n",
       "                    <p style='text-align:right'>farnesyl diphosphate --> Beta-farnesene + diphosphate</p>\n",
       "                </td>\n",
       "            </tr><tr>\n",
       "                <td><strong>GPR</strong></td><td></td>\n",
       "            </tr><tr>\n",
       "                <td><strong>Lower bound</strong></td><td>0.0</td>\n",
       "            </tr><tr>\n",
       "                <td><strong>Upper bound</strong></td><td>1000.0</td>\n",
       "            </tr>\n",
       "        </table>\n",
       "        "
      ],
      "text/plain": [
       "<Reaction R08695 at 0x298f37b90>"
      ]
     },
     "execution_count": 19,
     "metadata": {},
     "output_type": "execute_result"
    }
   ],
   "source": [
    "from cobra import Reaction, Metabolite, Gene\n",
    "\n",
    "Beta_farnesene_synthase_reaction = Reaction('R08695') # Creates the Beta-farnesene reaction \n",
    "\n",
    "# This creates the reaction for beta-farnesene synthesis by indicating the consumption of the substrates and \n",
    "# using our newly introduced metabolite as the product\n",
    "# The reaction R08695 is:\n",
    "# Trans,trans-Farnesyl diphosphate <=> beta-Farnesene + Diphosphate\n",
    "# These are found as the metabolites:\n",
    "# Farnesyl diphosphate = s_0190\n",
    "# beta-farnesene = Beta_farnesene\n",
    "# Diphosphate = s_0633 \n",
    "\n",
    "# Thus having already defined the metabolite and the reaction we can fully define the reaction stoichiometry:\n",
    "\n",
    "Beta_farnesene_synthase_reaction.add_metabolites({model.metabolites.s_0190: -1,\n",
    "                                                  model.metabolites.s_0633: 1,\n",
    "                                                  Beta_farnesene: 1 # our product\n",
    "                                                  }) \n",
    "\n",
    "# Test if the reaction has been made properly and the stoichiometric definition is correct:\n",
    "Beta_farnesene_synthase_reaction\n",
    "\n",
    "# Adding the reaction to the model\n",
    "model.add_reactions([Beta_farnesene_synthase_reaction])\n",
    "\n",
    "# tests that the reaction has been added to the model\n",
    "model.reactions.get_by_id(Beta_farnesene_synthase_reaction.id)"
   ]
  },
  {
   "cell_type": "code",
   "execution_count": 20,
   "metadata": {},
   "outputs": [
    {
     "name": "stderr",
     "output_type": "stream",
     "text": [
      "Ignoring reaction 'BFD' since it already exists.\n"
     ]
    }
   ],
   "source": [
    "# This creates the demand reaction for beta-farnesene as this otherwise would become a dead-end metabolite:\n",
    "\n",
    "# The demand reaction follows the same framework as above, with the stoichiometry just being -1 for the\n",
    "# metabolite Beta-farnesene:\n",
    "\n",
    "Beta_farnesene_demand_reaction = Reaction('BFD')\n",
    "Beta_farnesene_demand_reaction.add_metabolites({\n",
    "                                                  Beta_farnesene: -1 # our product\n",
    "                                                  })\n",
    "model.add_reactions([Beta_farnesene_demand_reaction])\n",
    "\n",
    "# Note: the output is because we already added the reaction to the model."
   ]
  },
  {
   "cell_type": "code",
   "execution_count": 21,
   "metadata": {},
   "outputs": [
    {
     "data": {
      "text/html": [
       "\n",
       "        <table>\n",
       "            <tr>\n",
       "                <td><strong>Reaction identifier</strong></td><td>BFD</td>\n",
       "            </tr><tr>\n",
       "                <td><strong>Name</strong></td><td></td>\n",
       "            </tr><tr>\n",
       "                <td><strong>Memory address</strong></td>\n",
       "                <td>0x298f43410</td>\n",
       "            </tr><tr>\n",
       "                <td><strong>Stoichiometry</strong></td>\n",
       "                <td>\n",
       "                    <p style='text-align:right'>beta_farnesene_c --></p>\n",
       "                    <p style='text-align:right'>Beta-farnesene --></p>\n",
       "                </td>\n",
       "            </tr><tr>\n",
       "                <td><strong>GPR</strong></td><td></td>\n",
       "            </tr><tr>\n",
       "                <td><strong>Lower bound</strong></td><td>0.0</td>\n",
       "            </tr><tr>\n",
       "                <td><strong>Upper bound</strong></td><td>1000.0</td>\n",
       "            </tr>\n",
       "        </table>\n",
       "        "
      ],
      "text/plain": [
       "<Reaction BFD at 0x298f43410>"
      ]
     },
     "execution_count": 21,
     "metadata": {},
     "output_type": "execute_result"
    }
   ],
   "source": [
    "# tests that the reaction has been added to the model\n",
    "model.reactions.get_by_id(Beta_farnesene_demand_reaction.id)\n",
    "\n"
   ]
  },
  {
   "cell_type": "markdown",
   "metadata": {},
   "source": [
    "## Testing to make sure flux goes through the production pathway that we have created"
   ]
  },
  {
   "cell_type": "code",
   "execution_count": 34,
   "metadata": {},
   "outputs": [
    {
     "name": "stdout",
     "output_type": "stream",
     "text": [
      "0.08192818581102052\n",
      "This is the maximal production of beta-farnesene on glucose: 0.23035112219719903 mmol beta-farnesene gDW^-1 h^-1\n"
     ]
    }
   ],
   "source": [
    "# This function test to see that the organism still is growing\n",
    "with model:\n",
    "   print(model.optimize().objective_value)\n",
    "\n",
    "# now we will set the objective function of the model to the demand reaction for beta-farnesene to test if\n",
    "# the model allows flux through the beta-farnsene biosynthesis pathway\n",
    "with model:\n",
    "   model.objective = model.reactions.BFD\n",
    "   print('This is the maximal production of beta-farnesene on glucose:', model.optimize().objective_value, 'mmol beta-farnesene gDW^-1 h^-1')"
   ]
  },
  {
   "cell_type": "markdown",
   "metadata": {},
   "source": [
    "It is evident that we are seing flux through the reaction when setting it as the model objective function, this means that it is not a dead end metabolite."
   ]
  },
  {
   "cell_type": "markdown",
   "metadata": {},
   "source": [
    "# Saving the model:"
   ]
  },
  {
   "cell_type": "code",
   "execution_count": 33,
   "metadata": {},
   "outputs": [],
   "source": [
    "# This code saves the changes to the model and we now have a model that has a the heterologous pathway for \n",
    "# beta-farnesene production as well as a demand reaction for cytoplasmic beta-farnesene\n",
    "\n",
    "io.write_yeast_model(model)   # saving"
   ]
  },
  {
   "cell_type": "markdown",
   "metadata": {},
   "source": [
    "# Finding the most suitable carbon source and testing different types of media"
   ]
  },
  {
   "cell_type": "markdown",
   "metadata": {},
   "source": [
    "First we can test the production of beta-farnesene in aerobic conditions as well as anaerobic conditions:"
   ]
  },
  {
   "cell_type": "code",
   "execution_count": 61,
   "metadata": {},
   "outputs": [
    {
     "data": {
      "text/plain": [
       "[<Reaction r_1992 at 0x28ffe7710>]"
      ]
     },
     "execution_count": 61,
     "metadata": {},
     "output_type": "execute_result"
    }
   ],
   "source": [
    "model.reactions.query('oxygen exchange', 'name')\n"
   ]
  },
  {
   "cell_type": "code",
   "execution_count": 64,
   "metadata": {},
   "outputs": [
    {
     "name": "stdout",
     "output_type": "stream",
     "text": [
      "0.047392290249433075\n"
     ]
    }
   ],
   "source": [
    "with model:\n",
    "   medium = model.medium\n",
    "   medium['r_1992'] = 0\n",
    "   model.medium = medium\n",
    "   with model:\n",
    "      model.objective = model.reactions.BFD\n",
    "      BF_production = model.optimize().objective_value\n",
    "print(BF_production)"
   ]
  },
  {
   "cell_type": "markdown",
   "metadata": {},
   "source": [
    "There is no production in this case no point in looking further at that, so we will go back to aerobic conditions:"
   ]
  },
  {
   "cell_type": "code",
   "execution_count": 68,
   "metadata": {},
   "outputs": [
    {
     "name": "stdout",
     "output_type": "stream",
     "text": [
      "Maximum beta-farnesene production [mmol-beta-farnesene gDW^-1 h^-1]: 0.23035112219719758\n",
      "Theoretical maximum yield [mmol-beta-farnesene / mmol-glucose]: 0.23035112219719758\n"
     ]
    }
   ],
   "source": [
    "with model:\n",
    "    model.objective = model.reactions.BFD\n",
    "    BF_production = model.optimize().objective_value\n",
    "    print(\"Maximum beta-farnesene production [mmol-beta-farnesene gDW^-1 h^-1]:\", BF_production)\n",
    "    print(\"Theoretical maximum yield [mmol-beta-farnesene / mmol-glucose]:\", BF_production / (-1*model.reactions.r_1714.flux))\n",
    "    maximum_yield_mmol=BF_production / (-1*model.reactions.r_1714.flux)"
   ]
  },
  {
   "cell_type": "markdown",
   "metadata": {},
   "source": [
    "Now we will test to see the production of beta-farnesene with increased glucose concentrations:"
   ]
  },
  {
   "cell_type": "code",
   "execution_count": 6,
   "metadata": {},
   "outputs": [
    {
     "name": "stdout",
     "output_type": "stream",
     "text": [
      "r_1654: s_0420 <=>  | ammonium exchange | concentration = 1000.0\n",
      "r_1714: s_0565 <=>  | D-glucose exchange | concentration = 1.0\n",
      "r_1832: s_0796 <=>  | H+ exchange | concentration = 1000.0\n",
      "r_1861: s_0925 <=>  | iron(2+) exchange | concentration = 1000.0\n",
      "r_1992: s_1277 <=>  | oxygen exchange | concentration = 1000.0\n",
      "r_2005: s_1324 <=>  | phosphate exchange | concentration = 1000.0\n",
      "r_2020: s_1374 <=>  | potassium exchange | concentration = 1000.0\n",
      "r_2049: s_1438 <=>  | sodium exchange | concentration = 1000.0\n",
      "r_2060: s_1468 <=>  | sulphate exchange | concentration = 1000.0\n",
      "r_2100: s_0805 <=>  | water exchange | concentration = 1000.0\n",
      "r_4593: s_4200 <=>  | chloride exchange | concentration = 1000.0\n",
      "r_4594: s_4201 <=>  | Cu2(+) exchange | concentration = 1000.0\n",
      "r_4595: s_4202 <=>  | Mn(2+) exchange | concentration = 1000.0\n",
      "r_4596: s_4203 <=>  | Zn(2+) exchange | concentration = 1000.0\n",
      "r_4597: s_4204 <=>  | Mg(2+) exchange | concentration = 1000.0\n",
      "r_4600: s_4199 <=>  | Ca(2+) exchange | concentration = 1000.0\n"
     ]
    }
   ],
   "source": [
    "# First we will here make an overview of the full medium composition as it is in the model by default with\n",
    "# growth on glucose, to do this we check through all the extracellular exchange reactions:\n",
    "\n",
    "for component in model.medium.items():\n",
    "    print(model.reactions.get_by_id(component[0]), \"|\", model.reactions.get_by_id(component[0]).name, \"| concentration =\", component[1])"
   ]
  },
  {
   "cell_type": "markdown",
   "metadata": {},
   "source": [
    "This is a full overview of the medium composition. Using this we will now check the impact of changing the concentration of glucose in the medium on production and on growth:"
   ]
  },
  {
   "cell_type": "code",
   "execution_count": 24,
   "metadata": {},
   "outputs": [
    {
     "name": "stdout",
     "output_type": "stream",
     "text": [
      "Maximal growth with 0.1X glucose: 0.005401622831738066\n",
      "Maximal production of beta-farnesene with 0.1X glucose: 0.01666211119003101\n",
      "Theoretical maximum beta-farnesene production on 0.1X glucose: 0.16662111190008425\n",
      "\n",
      "Maximal growth with 10X glucose: 0.8471930218951111\n",
      "Maximal production of beta-farnesene with 10X glucose: 2.3416532799480834\n",
      "Theoretical maximum beta-farnesene production on 10X glucose: 0.2341653279948143\n",
      "\n",
      "Maximal growth with 100X glucose: 8.499842132127485\n",
      "Maximal production of beta-farnesene with 100X glucose: 23.454674857455117\n",
      "Theoretical maximum beta-farnesene production on 100X glucose: 0.23454674857455074\n",
      "\n",
      "Maximal growth with 1000X glucose: 19.817859616711548\n",
      "Maximal production of beta-farnesene with 1000X glucose: 76.91806853582563\n",
      "Theoretical maximum beta-farnesene production on 1000X glucose: 0.11999593706928548\n"
     ]
    }
   ],
   "source": [
    "# Testing different glucose concentrations of 0.1X, 10X, 100X and 1000X the standard glucose concentration in the medium\n",
    "\n",
    "medium = model.medium\n",
    "with model:\n",
    "   medium['r_1714'] = 0.1\n",
    "   model.medium = medium\n",
    "   point_one_X_glc_growth = model.optimize().objective_value\n",
    "   model.objective = model.reactions.BFD\n",
    "   point_one_X_glc_productivity = model.optimize().objective_value\n",
    "   print('Maximal growth with 0.1X glucose:', point_one_X_glc_growth)\n",
    "   print('Maximal production of beta-farnesene with 0.1X glucose:', point_one_X_glc_productivity)\n",
    "   print('Theoretical maximum beta-farnesene production on 0.1X glucose:', model.optimize().objective_value / (-1*model.reactions.r_1714.flux))\n",
    "\n",
    "print('')\n",
    "\n",
    "with model:\n",
    "   medium['r_1714'] = 10\n",
    "   model.medium = medium\n",
    "   ten_X_glc_growth = model.optimize().objective_value\n",
    "   model.objective = model.reactions.BFD\n",
    "   ten_X_glc_productivity = model.optimize().objective_value\n",
    "   print('Maximal growth with 10X glucose:', ten_X_glc_growth)\n",
    "   print('Maximal production of beta-farnesene with 10X glucose:', ten_X_glc_productivity)\n",
    "   print('Theoretical maximum beta-farnesene production on 10X glucose:', model.optimize().objective_value / (-1*model.reactions.r_1714.flux))\n",
    "\n",
    "print('')\n",
    "\n",
    "with model:\n",
    "   medium['r_1714'] = 100\n",
    "   model.medium = medium\n",
    "   hundred_X_glc_growth = model.optimize().objective_value\n",
    "   model.objective = model.reactions.BFD\n",
    "   hundred_X_glc_productivity = model.optimize().objective_value\n",
    "   print('Maximal growth with 100X glucose:', hundred_X_glc_growth)\n",
    "   print('Maximal production of beta-farnesene with 100X glucose:', hundred_X_glc_productivity)\n",
    "   print('Theoretical maximum beta-farnesene production on 100X glucose:', model.optimize().objective_value / (-1*model.reactions.r_1714.flux))\n",
    "\n",
    "print('')\n",
    "\n",
    "with model:\n",
    "   medium['r_1714'] = 1000\n",
    "   model.medium = medium\n",
    "   thousand_X_glc_growth = model.optimize().objective_value\n",
    "   model.objective = model.reactions.BFD\n",
    "   thousand_X_glc_productivity = model.optimize().objective_value\n",
    "   print('Maximal growth with 1000X glucose:', thousand_X_glc_growth)\n",
    "   print('Maximal production of beta-farnesene with 1000X glucose:', thousand_X_glc_productivity)\n",
    "   print('Theoretical maximum beta-farnesene production on 1000X glucose:', model.optimize().objective_value / (-1*model.reactions.r_1714.flux))\n",
    "\n",
    "\n",
    "\n",
    "   "
   ]
  },
  {
   "cell_type": "markdown",
   "metadata": {},
   "source": [
    "It seems that there is little to no benefit in the theoretical maximum of beta-farnesene production neither increasing nor decreasing the glucose concentrations.\n",
    "\n",
    "As a follow-up part we will now look into changing the media composition to the well known and used YPED Medium that is most often used for growing yeast, instead of the minimal medium that the model uses. "
   ]
  },
  {
   "cell_type": "code",
   "execution_count": null,
   "metadata": {},
   "outputs": [],
   "source": []
  }
 ],
 "metadata": {
  "kernelspec": {
   "display_name": "base",
   "language": "python",
   "name": "python3"
  },
  "language_info": {
   "codemirror_mode": {
    "name": "ipython",
    "version": 3
   },
   "file_extension": ".py",
   "mimetype": "text/x-python",
   "name": "python",
   "nbconvert_exporter": "python",
   "pygments_lexer": "ipython3",
   "version": "3.11.4"
  },
  "orig_nbformat": 4
 },
 "nbformat": 4,
 "nbformat_minor": 2
}
