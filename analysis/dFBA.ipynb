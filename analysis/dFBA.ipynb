{
 "cells": [
  {
   "cell_type": "code",
   "execution_count": 1,
   "metadata": {},
   "outputs": [
    {
     "name": "stderr",
     "output_type": "stream",
     "text": [
      "https://identifiers.org/kegg.pathway/Glycolysis / gluconeogenesis does not conform to http(s)://identifiers.org/collection/id\n"
     ]
    }
   ],
   "source": [
    "from cobra.io import read_sbml_model, write_sbml_model\n",
    "model = read_sbml_model('/Users/giannis/github-classroom/27410/group-assingment-team-4/yeast-GEM-8.7.0/model/yeast-GEM3.xml') # loading\n",
    "from cobra import Reaction, Metabolite, Gene\n",
    "import pandas as pd\n"
   ]
  },
  {
   "cell_type": "code",
   "execution_count": 3,
   "metadata": {},
   "outputs": [
    {
     "ename": "ModuleNotFoundError",
     "evalue": "No module named 'dfba'",
     "output_type": "error",
     "traceback": [
      "\u001b[0;31m---------------------------------------------------------------------------\u001b[0m",
      "\u001b[0;31mModuleNotFoundError\u001b[0m                       Traceback (most recent call last)",
      "\u001b[1;32m/Users/giannis/github-classroom/27410/group-assingment-team-4/analysis/dFBA.ipynb Cell 2\u001b[0m line \u001b[0;36m4\n\u001b[1;32m      <a href='vscode-notebook-cell:/Users/giannis/github-classroom/27410/group-assingment-team-4/analysis/dFBA.ipynb#W1sZmlsZQ%3D%3D?line=1'>2</a>\u001b[0m \u001b[39mfrom\u001b[39;00m \u001b[39mos\u001b[39;00m\u001b[39m.\u001b[39;00m\u001b[39mpath\u001b[39;00m \u001b[39mimport\u001b[39;00m dirname, join, pardir\n\u001b[1;32m      <a href='vscode-notebook-cell:/Users/giannis/github-classroom/27410/group-assingment-team-4/analysis/dFBA.ipynb#W1sZmlsZQ%3D%3D?line=2'>3</a>\u001b[0m \u001b[39mfrom\u001b[39;00m \u001b[39mcobra\u001b[39;00m\u001b[39m.\u001b[39;00m\u001b[39mio\u001b[39;00m \u001b[39mimport\u001b[39;00m read_sbml_model\n\u001b[0;32m----> <a href='vscode-notebook-cell:/Users/giannis/github-classroom/27410/group-assingment-team-4/analysis/dFBA.ipynb#W1sZmlsZQ%3D%3D?line=3'>4</a>\u001b[0m \u001b[39mfrom\u001b[39;00m \u001b[39mdfba\u001b[39;00m \u001b[39mimport\u001b[39;00m DfbaModel, ExchangeFlux, KineticVariable\n",
      "\u001b[0;31mModuleNotFoundError\u001b[0m: No module named 'dfba'"
     ]
    }
   ],
   "source": [
    "## Giannis - Also cannot install dfba - had to install cmake, and could not install libharsh\n",
    "from os.path import dirname, join, pardir\n",
    "from cobra.io import read_sbml_model\n",
    "from dfba import DfbaModel, ExchangeFlux, KineticVariable"
   ]
  },
  {
   "cell_type": "code",
   "execution_count": 23,
   "metadata": {},
   "outputs": [],
   "source": [
    "biomass_objective = model.optimize().objective_value"
   ]
  },
  {
   "cell_type": "code",
   "execution_count": 26,
   "metadata": {},
   "outputs": [
    {
     "name": "stdout",
     "output_type": "stream",
     "text": [
      "Biomass bounds now are: (0.04096408617092373, 1000.0)\n"
     ]
    }
   ],
   "source": [
    "model.reactions.r_2111.lower_bound = biomass_objective*0.5 #set the minimum biomass to be 50% of the flux\n",
    "print(\"Biomass bounds now are:\", model.reactions.r_2111.bounds)"
   ]
  },
  {
   "cell_type": "code",
   "execution_count": 27,
   "metadata": {},
   "outputs": [
    {
     "data": {
      "text/html": [
       "<strong><em>Optimal</em> solution with objective value 0.126</strong><br><div>\n",
       "<style scoped>\n",
       "    .dataframe tbody tr th:only-of-type {\n",
       "        vertical-align: middle;\n",
       "    }\n",
       "\n",
       "    .dataframe tbody tr th {\n",
       "        vertical-align: top;\n",
       "    }\n",
       "\n",
       "    .dataframe thead th {\n",
       "        text-align: right;\n",
       "    }\n",
       "</style>\n",
       "<table border=\"1\" class=\"dataframe\">\n",
       "  <thead>\n",
       "    <tr style=\"text-align: right;\">\n",
       "      <th></th>\n",
       "      <th>fluxes</th>\n",
       "      <th>reduced_costs</th>\n",
       "    </tr>\n",
       "  </thead>\n",
       "  <tbody>\n",
       "    <tr>\n",
       "      <th>r_0001</th>\n",
       "      <td>0.000000</td>\n",
       "      <td>-2.769913e-17</td>\n",
       "    </tr>\n",
       "    <tr>\n",
       "      <th>r_0002</th>\n",
       "      <td>0.000000</td>\n",
       "      <td>1.040834e-17</td>\n",
       "    </tr>\n",
       "    <tr>\n",
       "      <th>r_0003</th>\n",
       "      <td>0.000000</td>\n",
       "      <td>0.000000e+00</td>\n",
       "    </tr>\n",
       "    <tr>\n",
       "      <th>r_0004</th>\n",
       "      <td>0.000000</td>\n",
       "      <td>1.040834e-17</td>\n",
       "    </tr>\n",
       "    <tr>\n",
       "      <th>r_0005</th>\n",
       "      <td>0.030662</td>\n",
       "      <td>-1.058181e-16</td>\n",
       "    </tr>\n",
       "    <tr>\n",
       "      <th>...</th>\n",
       "      <td>...</td>\n",
       "      <td>...</td>\n",
       "    </tr>\n",
       "    <tr>\n",
       "      <th>r_4776</th>\n",
       "      <td>0.000000</td>\n",
       "      <td>0.000000e+00</td>\n",
       "    </tr>\n",
       "    <tr>\n",
       "      <th>r_4777</th>\n",
       "      <td>0.000000</td>\n",
       "      <td>-0.000000e+00</td>\n",
       "    </tr>\n",
       "    <tr>\n",
       "      <th>r_4778</th>\n",
       "      <td>0.000000</td>\n",
       "      <td>-0.000000e+00</td>\n",
       "    </tr>\n",
       "    <tr>\n",
       "      <th>R08695</th>\n",
       "      <td>0.126360</td>\n",
       "      <td>-1.040834e-17</td>\n",
       "    </tr>\n",
       "    <tr>\n",
       "      <th>BFD</th>\n",
       "      <td>0.126360</td>\n",
       "      <td>-3.330669e-15</td>\n",
       "    </tr>\n",
       "  </tbody>\n",
       "</table>\n",
       "<p>4133 rows × 2 columns</p>\n",
       "</div>"
      ],
      "text/plain": [
       "<Solution 0.126 at 0x1eaefcf5cd0>"
      ]
     },
     "execution_count": 27,
     "metadata": {},
     "output_type": "execute_result"
    }
   ],
   "source": [
    "model.objective = model.reactions.BFD\n",
    "model.optimize()"
   ]
  }
 ],
 "metadata": {
  "kernelspec": {
   "display_name": "base",
   "language": "python",
   "name": "python3"
  },
  "language_info": {
   "codemirror_mode": {
    "name": "ipython",
    "version": 3
   },
   "file_extension": ".py",
   "mimetype": "text/x-python",
   "name": "python",
   "nbconvert_exporter": "python",
   "pygments_lexer": "ipython3",
   "version": "3.11.5"
  }
 },
 "nbformat": 4,
 "nbformat_minor": 2
}
