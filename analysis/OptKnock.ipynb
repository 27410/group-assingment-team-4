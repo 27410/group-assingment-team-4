{
 "cells": [
  {
   "cell_type": "code",
   "execution_count": 24,
   "metadata": {},
   "outputs": [],
   "source": [
    "from cobra.io import read_sbml_model\n",
    "from cameo import models\n",
    "from cameo.strain_design.deterministic.linear_programming import OptKnock\n",
    "\n",
    "model = read_sbml_model('/Users/giannis/github-classroom/27410/group-assingment-team-4/yeast-GEM-8.7.0/model/yeast-GEM.xml')\n",
    "\n"
   ]
  },
  {
   "cell_type": "code",
   "execution_count": 17,
   "metadata": {},
   "outputs": [
    {
     "name": "stderr",
     "output_type": "stream",
     "text": [
      "/Users/giannis/anaconda3/lib/python3.11/site-packages/cameo/strain_design/deterministic/linear_programming.py:118: UserWarning: You are trying to run OptKnock with glpk_interface. This might not end well.\n",
      "  warnings.warn(\"You are trying to run OptKnock with %s. This might not end well.\" %\n"
     ]
    },
    {
     "ename": "KeyboardInterrupt",
     "evalue": "",
     "output_type": "error",
     "traceback": [
      "\u001b[0;31m---------------------------------------------------------------------------\u001b[0m",
      "\u001b[0;31mKeyboardInterrupt\u001b[0m                         Traceback (most recent call last)",
      "\u001b[1;32m/Users/giannis/github-classroom/27410/group-assingment-team-4/analysis/OptKnock.ipynb Cell 2\u001b[0m line \u001b[0;36m1\n\u001b[0;32m----> <a href='vscode-notebook-cell:/Users/giannis/github-classroom/27410/group-assingment-team-4/analysis/OptKnock.ipynb#W2sZmlsZQ%3D%3D?line=0'>1</a>\u001b[0m optknock \u001b[39m=\u001b[39m OptKnock(model, fraction_of_optimum\u001b[39m=\u001b[39m\u001b[39m0.1\u001b[39m)\n",
      "File \u001b[0;32m~/anaconda3/lib/python3.11/site-packages/cameo/strain_design/deterministic/linear_programming.py:123\u001b[0m, in \u001b[0;36mOptKnock.__init__\u001b[0;34m(self, model, exclude_reactions, remove_blocked, fraction_of_optimum, exclude_non_gene_reactions, use_nullspace_simplification, *args, **kwargs)\u001b[0m\n\u001b[1;32m    121\u001b[0m \u001b[39mif\u001b[39;00m fraction_of_optimum \u001b[39mis\u001b[39;00m \u001b[39mnot\u001b[39;00m \u001b[39mNone\u001b[39;00m:\n\u001b[1;32m    122\u001b[0m     fix_objective_as_constraint(\u001b[39mself\u001b[39m\u001b[39m.\u001b[39m_model, fraction\u001b[39m=\u001b[39mfraction_of_optimum)\n\u001b[0;32m--> 123\u001b[0m blocked \u001b[39m=\u001b[39m \u001b[39mself\u001b[39m\u001b[39m.\u001b[39m_remove_blocked_reactions() \u001b[39mif\u001b[39;00m remove_blocked \u001b[39melse\u001b[39;00m []\n\u001b[1;32m    124\u001b[0m \u001b[39mif\u001b[39;00m exclude_reactions:\n\u001b[1;32m    125\u001b[0m     \u001b[39m# Convert exclude_reactions to reaction ID's\u001b[39;00m\n\u001b[1;32m    126\u001b[0m     exclude_reactions \u001b[39m=\u001b[39m [\n\u001b[1;32m    127\u001b[0m         r\u001b[39m.\u001b[39mid \u001b[39mif\u001b[39;00m \u001b[39misinstance\u001b[39m(r, cobra\u001b[39m.\u001b[39mcore\u001b[39m.\u001b[39mReaction) \u001b[39melse\u001b[39;00m r\n\u001b[1;32m    128\u001b[0m         \u001b[39mfor\u001b[39;00m r \u001b[39min\u001b[39;00m exclude_reactions\n\u001b[1;32m    129\u001b[0m     ]\n",
      "File \u001b[0;32m~/anaconda3/lib/python3.11/site-packages/cameo/strain_design/deterministic/linear_programming.py:144\u001b[0m, in \u001b[0;36mOptKnock._remove_blocked_reactions\u001b[0;34m(self)\u001b[0m\n\u001b[1;32m    143\u001b[0m \u001b[39mdef\u001b[39;00m \u001b[39m_remove_blocked_reactions\u001b[39m(\u001b[39mself\u001b[39m):\n\u001b[0;32m--> 144\u001b[0m     fva_res \u001b[39m=\u001b[39m flux_variability_analysis(\u001b[39mself\u001b[39m\u001b[39m.\u001b[39m_model, fraction_of_optimum\u001b[39m=\u001b[39m\u001b[39m0\u001b[39m)\n\u001b[1;32m    145\u001b[0m     blocked \u001b[39m=\u001b[39m [\n\u001b[1;32m    146\u001b[0m         reaction \u001b[39mfor\u001b[39;00m reaction, row \u001b[39min\u001b[39;00m fva_res\u001b[39m.\u001b[39mdata_frame\u001b[39m.\u001b[39miterrows()\n\u001b[1;32m    147\u001b[0m         \u001b[39mif\u001b[39;00m (\u001b[39mround\u001b[39m(row[\u001b[39m\"\u001b[39m\u001b[39mlower_bound\u001b[39m\u001b[39m\"\u001b[39m], config\u001b[39m.\u001b[39mndecimals) \u001b[39m==\u001b[39m \u001b[39mround\u001b[39m(\n\u001b[1;32m    148\u001b[0m             row[\u001b[39m\"\u001b[39m\u001b[39mupper_bound\u001b[39m\u001b[39m\"\u001b[39m], config\u001b[39m.\u001b[39mndecimals) \u001b[39m==\u001b[39m \u001b[39m0\u001b[39m)\n\u001b[1;32m    149\u001b[0m     ]\n\u001b[1;32m    150\u001b[0m     \u001b[39mself\u001b[39m\u001b[39m.\u001b[39m_model\u001b[39m.\u001b[39mremove_reactions(blocked)\n",
      "File \u001b[0;32m~/anaconda3/lib/python3.11/site-packages/cameo/flux_analysis/analysis.py:224\u001b[0m, in \u001b[0;36mflux_variability_analysis\u001b[0;34m(model, reactions, fraction_of_optimum, pfba_factor, remove_cycles, view)\u001b[0m\n\u001b[1;32m    222\u001b[0m     \u001b[39melse\u001b[39;00m:\n\u001b[1;32m    223\u001b[0m         func_obj \u001b[39m=\u001b[39m _FvaFunctionObject(model, _flux_variability_analysis)\n\u001b[0;32m--> 224\u001b[0m     chunky_results \u001b[39m=\u001b[39m view\u001b[39m.\u001b[39mmap(func_obj, reaction_chunks)\n\u001b[1;32m    225\u001b[0m     solution \u001b[39m=\u001b[39m pandas\u001b[39m.\u001b[39mconcat(chunky_results)\n\u001b[1;32m    227\u001b[0m \u001b[39mreturn\u001b[39;00m FluxVariabilityResult(solution)\n",
      "File \u001b[0;32m~/anaconda3/lib/python3.11/site-packages/cameo/parallel.py:231\u001b[0m, in \u001b[0;36mSequentialView.map\u001b[0;34m(self, *args, **kwargs)\u001b[0m\n\u001b[1;32m    230\u001b[0m \u001b[39mdef\u001b[39;00m \u001b[39mmap\u001b[39m(\u001b[39mself\u001b[39m, \u001b[39m*\u001b[39margs, \u001b[39m*\u001b[39m\u001b[39m*\u001b[39mkwargs):\n\u001b[0;32m--> 231\u001b[0m     \u001b[39mreturn\u001b[39;00m \u001b[39mlist\u001b[39m(\u001b[39mmap\u001b[39m(\u001b[39m*\u001b[39margs, \u001b[39m*\u001b[39m\u001b[39m*\u001b[39mkwargs))\n",
      "File \u001b[0;32m~/anaconda3/lib/python3.11/site-packages/cameo/flux_analysis/analysis.py:348\u001b[0m, in \u001b[0;36m_FvaFunctionObject.__call__\u001b[0;34m(self, reactions)\u001b[0m\n\u001b[1;32m    347\u001b[0m \u001b[39mdef\u001b[39;00m \u001b[39m__call__\u001b[39m(\u001b[39mself\u001b[39m, reactions):\n\u001b[0;32m--> 348\u001b[0m     \u001b[39mreturn\u001b[39;00m \u001b[39mself\u001b[39m\u001b[39m.\u001b[39mfva(\u001b[39mself\u001b[39m\u001b[39m.\u001b[39mmodel, reactions)\n",
      "File \u001b[0;32m~/anaconda3/lib/python3.11/site-packages/cameo/flux_analysis/analysis.py:367\u001b[0m, in \u001b[0;36m_flux_variability_analysis\u001b[0;34m(model, reactions)\u001b[0m\n\u001b[1;32m    364\u001b[0m fva_sol[reaction\u001b[39m.\u001b[39mid] \u001b[39m=\u001b[39m \u001b[39mdict\u001b[39m()\n\u001b[1;32m    365\u001b[0m model\u001b[39m.\u001b[39msolver\u001b[39m.\u001b[39mobjective\u001b[39m.\u001b[39mset_linear_coefficients({reaction\u001b[39m.\u001b[39mforward_variable: \u001b[39m1.\u001b[39m,\n\u001b[1;32m    366\u001b[0m                                                 reaction\u001b[39m.\u001b[39mreverse_variable: \u001b[39m-\u001b[39m\u001b[39m1.\u001b[39m})\n\u001b[0;32m--> 367\u001b[0m model\u001b[39m.\u001b[39msolver\u001b[39m.\u001b[39moptimize()\n\u001b[1;32m    368\u001b[0m \u001b[39mif\u001b[39;00m model\u001b[39m.\u001b[39msolver\u001b[39m.\u001b[39mstatus \u001b[39m==\u001b[39m OPTIMAL:\n\u001b[1;32m    369\u001b[0m     fva_sol[reaction\u001b[39m.\u001b[39mid][\u001b[39m'\u001b[39m\u001b[39mlower_bound\u001b[39m\u001b[39m'\u001b[39m] \u001b[39m=\u001b[39m model\u001b[39m.\u001b[39mobjective\u001b[39m.\u001b[39mvalue\n",
      "File \u001b[0;32m~/anaconda3/lib/python3.11/site-packages/optlang/interface.py:1515\u001b[0m, in \u001b[0;36mModel.optimize\u001b[0;34m(self)\u001b[0m\n\u001b[1;32m   1500\u001b[0m \u001b[39m\u001b[39m\u001b[39m\"\"\"\u001b[39;00m\n\u001b[1;32m   1501\u001b[0m \u001b[39mSolve the optimization problem using the relevant solver back-end.\u001b[39;00m\n\u001b[1;32m   1502\u001b[0m \u001b[39mThe status returned by this method tells whether an optimal solution was found,\u001b[39;00m\n\u001b[0;32m   (...)\u001b[0m\n\u001b[1;32m   1512\u001b[0m \u001b[39m    Solution status.\u001b[39;00m\n\u001b[1;32m   1513\u001b[0m \u001b[39m\"\"\"\u001b[39;00m\n\u001b[1;32m   1514\u001b[0m \u001b[39mself\u001b[39m\u001b[39m.\u001b[39mupdate()\n\u001b[0;32m-> 1515\u001b[0m status \u001b[39m=\u001b[39m \u001b[39mself\u001b[39m\u001b[39m.\u001b[39m_optimize()\n\u001b[1;32m   1516\u001b[0m \u001b[39mif\u001b[39;00m status \u001b[39m!=\u001b[39m OPTIMAL \u001b[39mand\u001b[39;00m \u001b[39mself\u001b[39m\u001b[39m.\u001b[39mconfiguration\u001b[39m.\u001b[39mpresolve \u001b[39m==\u001b[39m \u001b[39m\"\u001b[39m\u001b[39mauto\u001b[39m\u001b[39m\"\u001b[39m:\n\u001b[1;32m   1517\u001b[0m     \u001b[39mself\u001b[39m\u001b[39m.\u001b[39mconfiguration\u001b[39m.\u001b[39mpresolve \u001b[39m=\u001b[39m \u001b[39mTrue\u001b[39;00m\n",
      "File \u001b[0;32m~/anaconda3/lib/python3.11/site-packages/optlang/glpk_interface.py:707\u001b[0m, in \u001b[0;36mModel._optimize\u001b[0;34m(self)\u001b[0m\n\u001b[1;32m    705\u001b[0m \u001b[39mdef\u001b[39;00m \u001b[39m_optimize\u001b[39m(\u001b[39mself\u001b[39m):\n\u001b[1;32m    706\u001b[0m     glp_scale_prob(\u001b[39mself\u001b[39m\u001b[39m.\u001b[39mproblem, GLP_SF_AUTO)\n\u001b[0;32m--> 707\u001b[0m     status \u001b[39m=\u001b[39m \u001b[39mself\u001b[39m\u001b[39m.\u001b[39m_run_glp_simplex()\n\u001b[1;32m    709\u001b[0m     \u001b[39m# Sometimes GLPK gets itself stuck with an invalid basis. This will help it get rid of it.\u001b[39;00m\n\u001b[1;32m    710\u001b[0m     \u001b[39mif\u001b[39;00m status \u001b[39m==\u001b[39m interface\u001b[39m.\u001b[39mUNDEFINED \u001b[39mand\u001b[39;00m \u001b[39mself\u001b[39m\u001b[39m.\u001b[39mconfiguration\u001b[39m.\u001b[39mpresolve \u001b[39mis\u001b[39;00m \u001b[39mnot\u001b[39;00m \u001b[39mTrue\u001b[39;00m:\n",
      "File \u001b[0;32m~/anaconda3/lib/python3.11/site-packages/optlang/glpk_interface.py:680\u001b[0m, in \u001b[0;36mModel._run_glp_simplex\u001b[0;34m(self)\u001b[0m\n\u001b[1;32m    679\u001b[0m \u001b[39mdef\u001b[39;00m \u001b[39m_run_glp_simplex\u001b[39m(\u001b[39mself\u001b[39m):\n\u001b[0;32m--> 680\u001b[0m     return_value \u001b[39m=\u001b[39m glp_simplex(\u001b[39mself\u001b[39m\u001b[39m.\u001b[39mproblem, \u001b[39mself\u001b[39m\u001b[39m.\u001b[39mconfiguration\u001b[39m.\u001b[39m_smcp)\n\u001b[1;32m    681\u001b[0m     glpk_status \u001b[39m=\u001b[39m glp_get_status(\u001b[39mself\u001b[39m\u001b[39m.\u001b[39mproblem)\n\u001b[1;32m    682\u001b[0m     \u001b[39mif\u001b[39;00m return_value \u001b[39m==\u001b[39m \u001b[39m0\u001b[39m:\n",
      "File \u001b[0;32m~/anaconda3/lib/python3.11/site-packages/swiglpk/swiglpk.py:480\u001b[0m, in \u001b[0;36mglp_simplex\u001b[0;34m(P, parm)\u001b[0m\n\u001b[1;32m    479\u001b[0m \u001b[39mdef\u001b[39;00m \u001b[39mglp_simplex\u001b[39m(P, parm):\n\u001b[0;32m--> 480\u001b[0m     \u001b[39mreturn\u001b[39;00m _swiglpk\u001b[39m.\u001b[39mglp_simplex(P, parm)\n",
      "\u001b[0;31mKeyboardInterrupt\u001b[0m: "
     ]
    }
   ],
   "source": [
    "optknock = OptKnock(model, fraction_of_optimum=0.1)"
   ]
  },
  {
   "cell_type": "code",
   "execution_count": 13,
   "metadata": {},
   "outputs": [
    {
     "ename": "NameError",
     "evalue": "name 'optknock' is not defined",
     "output_type": "error",
     "traceback": [
      "\u001b[0;31m---------------------------------------------------------------------------\u001b[0m",
      "\u001b[0;31mNameError\u001b[0m                                 Traceback (most recent call last)",
      "\u001b[1;32m/Users/giannis/github-classroom/27410/group-assingment-team-4/analysis/OptKnock.ipynb Cell 3\u001b[0m line \u001b[0;36m1\n\u001b[0;32m----> <a href='vscode-notebook-cell:/Users/giannis/github-classroom/27410/group-assingment-team-4/analysis/OptKnock.ipynb#W6sZmlsZQ%3D%3D?line=0'>1</a>\u001b[0m result \u001b[39m=\u001b[39m optknock\u001b[39m.\u001b[39mrun(max_knockouts\u001b[39m=\u001b[39m\u001b[39m3\u001b[39m, target\u001b[39m=\u001b[39m\u001b[39m\"\u001b[39m\u001b[39mR08695\u001b[39m\u001b[39m\"\u001b[39m, biomass\u001b[39m=\u001b[39m\u001b[39m\"\u001b[39m\u001b[39mr_2111\u001b[39m\u001b[39m\"\u001b[39m)\n",
      "\u001b[0;31mNameError\u001b[0m: name 'optknock' is not defined"
     ]
    }
   ],
   "source": [
    "result = optknock.run(max_knockouts=3, target=\"R08695\", biomass=\"r_2111\")"
   ]
  },
  {
   "cell_type": "code",
   "execution_count": 18,
   "metadata": {},
   "outputs": [
    {
     "ename": "ImportError",
     "evalue": "cannot import name 'find_gene_knockout_reactions' from 'cobra.manipulation.delete' (/Users/giannis/anaconda3/lib/python3.11/site-packages/cobra/manipulation/delete.py)",
     "output_type": "error",
     "traceback": [
      "\u001b[0;31m---------------------------------------------------------------------------\u001b[0m",
      "\u001b[0;31mImportError\u001b[0m                               Traceback (most recent call last)",
      "\u001b[1;32m/Users/giannis/github-classroom/27410/group-assingment-team-4/analysis/OptKnock.ipynb Cell 4\u001b[0m line \u001b[0;36m1\n\u001b[0;32m----> <a href='vscode-notebook-cell:/Users/giannis/github-classroom/27410/group-assingment-team-4/analysis/OptKnock.ipynb#W4sZmlsZQ%3D%3D?line=0'>1</a>\u001b[0m \u001b[39mfrom\u001b[39;00m \u001b[39mcameo\u001b[39;00m\u001b[39m.\u001b[39;00m\u001b[39mstrain_design\u001b[39;00m \u001b[39mimport\u001b[39;00m OptGene\n\u001b[1;32m      <a href='vscode-notebook-cell:/Users/giannis/github-classroom/27410/group-assingment-team-4/analysis/OptKnock.ipynb#W4sZmlsZQ%3D%3D?line=1'>2</a>\u001b[0m \u001b[39mfrom\u001b[39;00m \u001b[39mcameo\u001b[39;00m \u001b[39mimport\u001b[39;00m phenotypic_phase_plane\n",
      "File \u001b[0;32m~/anaconda3/lib/python3.11/site-packages/cameo/strain_design/__init__.py:18\u001b[0m\n\u001b[1;32m     15\u001b[0m \u001b[39mfrom\u001b[39;00m \u001b[39m__future__\u001b[39;00m \u001b[39mimport\u001b[39;00m absolute_import\n\u001b[1;32m     17\u001b[0m \u001b[39mfrom\u001b[39;00m \u001b[39mcameo\u001b[39;00m\u001b[39m.\u001b[39;00m\u001b[39mstrain_design\u001b[39;00m\u001b[39m.\u001b[39;00m\u001b[39mdeterministic\u001b[39;00m \u001b[39mimport\u001b[39;00m OptKnock, FSEOF, DifferentialFVA\n\u001b[0;32m---> 18\u001b[0m \u001b[39mfrom\u001b[39;00m \u001b[39mcameo\u001b[39;00m\u001b[39m.\u001b[39;00m\u001b[39mstrain_design\u001b[39;00m\u001b[39m.\u001b[39;00m\u001b[39mheuristic\u001b[39;00m \u001b[39mimport\u001b[39;00m OptGene\n",
      "File \u001b[0;32m~/anaconda3/lib/python3.11/site-packages/cameo/strain_design/heuristic/__init__.py:17\u001b[0m\n\u001b[1;32m      1\u001b[0m \u001b[39m# Copyright 2014 Novo Nordisk Foundation Center for Biosustainability, DTU.\u001b[39;00m\n\u001b[1;32m      2\u001b[0m \u001b[39m#\u001b[39;00m\n\u001b[1;32m      3\u001b[0m \u001b[39m# Licensed under the Apache License, Version 2.0 (the \"License\");\u001b[39;00m\n\u001b[0;32m   (...)\u001b[0m\n\u001b[1;32m     12\u001b[0m \u001b[39m# See the License for the specific language governing permissions and\u001b[39;00m\n\u001b[1;32m     13\u001b[0m \u001b[39m# limitations under the License.\u001b[39;00m\n\u001b[1;32m     15\u001b[0m \u001b[39mfrom\u001b[39;00m \u001b[39m__future__\u001b[39;00m \u001b[39mimport\u001b[39;00m absolute_import\n\u001b[0;32m---> 17\u001b[0m \u001b[39mfrom\u001b[39;00m \u001b[39mcameo\u001b[39;00m\u001b[39m.\u001b[39;00m\u001b[39mstrain_design\u001b[39;00m\u001b[39m.\u001b[39;00m\u001b[39mheuristic\u001b[39;00m\u001b[39m.\u001b[39;00m\u001b[39mevolutionary_based\u001b[39;00m \u001b[39mimport\u001b[39;00m OptGene\n",
      "File \u001b[0;32m~/anaconda3/lib/python3.11/site-packages/cameo/strain_design/heuristic/evolutionary_based.py:38\u001b[0m\n\u001b[1;32m     34\u001b[0m \u001b[39mfrom\u001b[39;00m \u001b[39mcameo\u001b[39;00m\u001b[39m.\u001b[39;00m\u001b[39mstrain_design\u001b[39;00m\u001b[39m.\u001b[39;00m\u001b[39mheuristic\u001b[39;00m\u001b[39m.\u001b[39;00m\u001b[39mevolutionary\u001b[39;00m\u001b[39m.\u001b[39;00m\u001b[39mobjective_functions\u001b[39;00m \u001b[39mimport\u001b[39;00m biomass_product_coupled_min_yield, \\\n\u001b[1;32m     35\u001b[0m     biomass_product_coupled_yield\n\u001b[1;32m     36\u001b[0m \u001b[39mfrom\u001b[39;00m \u001b[39mcameo\u001b[39;00m\u001b[39m.\u001b[39;00m\u001b[39mstrain_design\u001b[39;00m\u001b[39m.\u001b[39;00m\u001b[39mheuristic\u001b[39;00m\u001b[39m.\u001b[39;00m\u001b[39mevolutionary\u001b[39;00m\u001b[39m.\u001b[39;00m\u001b[39moptimization\u001b[39;00m \u001b[39mimport\u001b[39;00m GeneKnockoutOptimization, \\\n\u001b[1;32m     37\u001b[0m     ReactionKnockoutOptimization, CofactorSwapOptimization, NADH_NADPH\n\u001b[0;32m---> 38\u001b[0m \u001b[39mfrom\u001b[39;00m \u001b[39mcameo\u001b[39;00m\u001b[39m.\u001b[39;00m\u001b[39mstrain_design\u001b[39;00m\u001b[39m.\u001b[39;00m\u001b[39mheuristic\u001b[39;00m\u001b[39m.\u001b[39;00m\u001b[39mevolutionary\u001b[39;00m\u001b[39m.\u001b[39;00m\u001b[39mprocessing\u001b[39;00m \u001b[39mimport\u001b[39;00m process_reaction_knockout_solution, \\\n\u001b[1;32m     39\u001b[0m     process_gene_knockout_solution, process_reaction_swap_solution\n\u001b[1;32m     40\u001b[0m \u001b[39mfrom\u001b[39;00m \u001b[39mcameo\u001b[39;00m\u001b[39m.\u001b[39;00m\u001b[39mutil\u001b[39;00m \u001b[39mimport\u001b[39;00m TimeMachine\n\u001b[1;32m     41\u001b[0m \u001b[39mfrom\u001b[39;00m \u001b[39mcameo\u001b[39;00m\u001b[39m.\u001b[39;00m\u001b[39mcore\u001b[39;00m\u001b[39m.\u001b[39;00m\u001b[39mutils\u001b[39;00m \u001b[39mimport\u001b[39;00m get_reaction_for\n",
      "File \u001b[0;32m~/anaconda3/lib/python3.11/site-packages/cameo/strain_design/heuristic/evolutionary/processing.py:14\u001b[0m\n\u001b[1;32m      1\u001b[0m \u001b[39m# Copyright 2016 Novo Nordisk Foundation Center for Biosustainability, DTU.\u001b[39;00m\n\u001b[1;32m      2\u001b[0m \n\u001b[1;32m      3\u001b[0m \u001b[39m# Licensed under the Apache License, Version 2.0 (the \"License\");\u001b[39;00m\n\u001b[0;32m   (...)\u001b[0m\n\u001b[1;32m     12\u001b[0m \u001b[39m# See the License for the specific language governing permissions and\u001b[39;00m\n\u001b[1;32m     13\u001b[0m \u001b[39m# limitations under the License.\u001b[39;00m\n\u001b[0;32m---> 14\u001b[0m \u001b[39mfrom\u001b[39;00m \u001b[39mcobra\u001b[39;00m\u001b[39m.\u001b[39;00m\u001b[39mmanipulation\u001b[39;00m\u001b[39m.\u001b[39;00m\u001b[39mdelete\u001b[39;00m \u001b[39mimport\u001b[39;00m find_gene_knockout_reactions\n\u001b[1;32m     15\u001b[0m \u001b[39mfrom\u001b[39;00m \u001b[39mcameo\u001b[39;00m\u001b[39m.\u001b[39;00m\u001b[39mcore\u001b[39;00m\u001b[39m.\u001b[39;00m\u001b[39mmanipulation\u001b[39;00m \u001b[39mimport\u001b[39;00m swap_cofactors\n\u001b[1;32m     17\u001b[0m \u001b[39mfrom\u001b[39;00m \u001b[39mcameo\u001b[39;00m \u001b[39mimport\u001b[39;00m flux_variability_analysis\n",
      "\u001b[0;31mImportError\u001b[0m: cannot import name 'find_gene_knockout_reactions' from 'cobra.manipulation.delete' (/Users/giannis/anaconda3/lib/python3.11/site-packages/cobra/manipulation/delete.py)"
     ]
    }
   ],
   "source": [
    "from cameo.strain_design import OptGene\n",
    "from cameo import phenotypic_phase_plane"
   ]
  },
  {
   "cell_type": "code",
   "execution_count": 22,
   "metadata": {},
   "outputs": [
    {
     "ename": "NameError",
     "evalue": "name 'cobra' is not defined",
     "output_type": "error",
     "traceback": [
      "\u001b[0;31m---------------------------------------------------------------------------\u001b[0m",
      "\u001b[0;31mNameError\u001b[0m                                 Traceback (most recent call last)",
      "\u001b[1;32m/Users/giannis/github-classroom/27410/group-assingment-team-4/analysis/OptKnock.ipynb Cell 5\u001b[0m line \u001b[0;36m1\n\u001b[0;32m----> <a href='vscode-notebook-cell:/Users/giannis/github-classroom/27410/group-assingment-team-4/analysis/OptKnock.ipynb#W5sZmlsZQ%3D%3D?line=0'>1</a>\u001b[0m cobra\u001b[39m.\u001b[39mshow_versions\n",
      "\u001b[0;31mNameError\u001b[0m: name 'cobra' is not defined"
     ]
    }
   ],
   "source": []
  },
  {
   "cell_type": "code",
   "execution_count": null,
   "metadata": {},
   "outputs": [],
   "source": []
  }
 ],
 "metadata": {
  "kernelspec": {
   "display_name": "base",
   "language": "python",
   "name": "python3"
  },
  "language_info": {
   "codemirror_mode": {
    "name": "ipython",
    "version": 3
   },
   "file_extension": ".py",
   "mimetype": "text/x-python",
   "name": "python",
   "nbconvert_exporter": "python",
   "pygments_lexer": "ipython3",
   "version": "3.11.5"
  }
 },
 "nbformat": 4,
 "nbformat_minor": 2
}
