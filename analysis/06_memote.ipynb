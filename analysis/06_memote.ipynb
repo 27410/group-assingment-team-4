{
 "cells": [
  {
   "cell_type": "code",
   "execution_count": 5,
   "metadata": {},
   "outputs": [],
   "source": [
    "# Testing iFF708\n",
    "!memote report snapshot /Users/Admin/github-classroom/27410/group-assingment-team-4/yeast-GEM-8.7.0/model/yeast-GEM2.xml"
   ]
  },
  {
   "cell_type": "code",
   "execution_count": 1,
   "metadata": {},
   "outputs": [
    {
     "name": "stdout",
     "output_type": "stream",
     "text": [
      "============================= test session starts =============================\n",
      "platform win32 -- Python 3.7.16, pytest-4.6.11, py-1.11.0, pluggy-0.13.1\n",
      "rootdir: C:\\Users\\Admin\\github-classroom\\27410\\group-assingment-team-4\\analysis\n",
      "plugins: anyio-3.7.1\n",
      "collected 146 items / 1 skipped / 145 selected\n",
      "\n",
      "test_annotation.py FF.FFFFFFFFFFFFFFFFFFFFFFFFFFFFFF...FFFFF...F.F..F.F. [ 36%]\n",
      "..F.F..FFF..                                                             [ 44%]\n",
      "test_basic.py ....F.F........F.F.F.FF                                    [ 60%]\n",
      "test_biomass.py .F.....F.F                                               [ 67%]\n",
      "test_consistency.py FFF.........sssss..FFFFFF.FFF                        [ 86%]\n",
      "test_essentiality.py s                                                   [ 87%]\n",
      "test_growth.py s                                                         [ 88%]\n",
      "test_matrix.py ....                                                      [ 91%]\n",
      "test_sbml.py ..                                                          [ 92%]\n",
      "test_sbo.py FFFFFFFF.F.                                                  [100%]\n",
      "\n",
      "============================== warnings summary ===============================\n",
      "C:\\Users\\Admin\\AppData\\Roaming\\Python\\Python37\\site-packages\\_pytest\\config\\__init__.py:886\n",
      "  C:\\Users\\Admin\\AppData\\Roaming\\Python\\Python37\\site-packages\\_pytest\\config\\__init__.py:886: PytestAssertRewriteWarning: Module already imported so cannot be rewritten: anyio\n",
      "    self._mark_plugins_for_rewrite(hook)\n",
      "\n",
      "-- Docs: https://docs.pytest.org/en/latest/warnings.html\n",
      "======= 77 failed, 62 passed, 8 skipped, 1 warnings in 2325.92 seconds ========\n"
     ]
    },
    {
     "name": "stderr",
     "output_type": "stream",
     "text": [
      "The current solver interface glpk doesn't support setting the optimality tolerance.\n",
      "Writing snapshot report to '/Users/Admin/github-classroom/27410/group-assingment-team-4/yeast-GEM-8.7.0/model/yeast-GEM2.html'.\n"
     ]
    }
   ],
   "source": [
    "!memote report snapshot /Users/Admin/github-classroom/27410/group-assingment-team-4/yeast-GEM-8.7.0/model/yeast-GEM2.xml --filename /Users/Admin/github-classroom/27410/group-assingment-team-4/yeast-GEM-8.7.0/model/yeast-GEM2.html"
   ]
  },
  {
   "cell_type": "code",
   "execution_count": 2,
   "metadata": {},
   "outputs": [
    {
     "name": "stdout",
     "output_type": "stream",
     "text": [
      "============================= test session starts =============================\n",
      "platform win32 -- Python 3.7.16, pytest-4.6.11, py-1.11.0, pluggy-0.13.1\n",
      "rootdir: C:\\Users\\Admin\\github-classroom\\27410\\group-assingment-team-4\\analysis\n",
      "plugins: anyio-3.7.1\n",
      "collected 155 items / 1 skipped / 154 selected\n",
      "\n",
      "test_annotation.py FFFFFFFFFFFFFFFFFFFFFFFFFFFFFFFFFFFFFFFFFFFFFFFFFFFFF [ 34%]\n",
      "FFFFFFFFFF..                                                             [ 41%]\n",
      "test_basic.py ....F.FF.....FFFFF...FF                                    [ 56%]\n",
      "test_biomass.py .FF........FF....FF                                      [ 69%]\n",
      "test_consistency.py FFFssssssssssssssss.FFFFF.FFF                        [ 87%]\n",
      "test_essentiality.py s                                                   [ 88%]\n",
      "test_growth.py s                                                         [ 89%]\n",
      "test_matrix.py ....                                                      [ 91%]\n",
      "test_sbml.py ..                                                          [ 92%]\n",
      "test_sbo.py ....s...ssF                                                  [100%]\n",
      "\n",
      "============================== warnings summary ===============================\n",
      "C:\\Users\\Admin\\AppData\\Roaming\\Python\\Python37\\site-packages\\_pytest\\config\\__init__.py:886\n",
      "  C:\\Users\\Admin\\AppData\\Roaming\\Python\\Python37\\site-packages\\_pytest\\config\\__init__.py:886: PytestAssertRewriteWarning: Module already imported so cannot be rewritten: anyio\n",
      "    self._mark_plugins_for_rewrite(hook)\n",
      "\n",
      "-- Docs: https://docs.pytest.org/en/latest/warnings.html\n",
      "======= 91 failed, 43 passed, 22 skipped, 1 warnings in 3939.57 seconds =======\n"
     ]
    },
    {
     "name": "stderr",
     "output_type": "stream",
     "text": [
      "The current solver interface glpk doesn't support setting the optimality tolerance.\n",
      "warning: urn:miriam:biomodels.db:MODEL1507180012 does not conform to 'http(s)://identifiers.org/collection/id' or'http(s)://identifiers.org/COLLECTION:id\n",
      "Writing snapshot report to '/Users/Admin/github-classroom/27410/group-assingment-team-4/yeast-GEM-8.7.0/model/iFF708.html'.\n"
     ]
    }
   ],
   "source": [
    "!memote report snapshot /Users/Admin/github-classroom/27410/group-assingment-team-4/yeast-GEM-8.7.0/model/iFF708.xml --filename /Users/Admin/github-classroom/27410/group-assingment-team-4/yeast-GEM-8.7.0/model/iFF708.html"
   ]
  },
  {
   "cell_type": "code",
   "execution_count": 3,
   "metadata": {},
   "outputs": [
    {
     "name": "stdout",
     "output_type": "stream",
     "text": [
      "============================= test session starts =============================\n",
      "platform win32 -- Python 3.7.16, pytest-4.6.11, py-1.11.0, pluggy-0.13.1\n",
      "rootdir: C:\\Users\\Admin\\github-classroom\\27410\\group-assingment-team-4\\analysis\n",
      "plugins: anyio-3.7.1\n",
      "collected 146 items / 1 skipped / 145 selected\n",
      "\n",
      "test_annotation.py ...FFFFFFFF..FFFF..FFFFFFFFFFFFFFF..FF..F........FFF. [ 36%]\n",
      "FFFFF.FFFF..                                                             [ 44%]\n",
      "test_basic.py ......FF.......F...F.FF                                    [ 60%]\n",
      "test_biomass.py .F....FF.F                                               [ 67%]\n",
      "test_consistency.py ...FFFFF..sssssssFF.FFFFF.FFF                        [ 86%]\n",
      "test_essentiality.py s                                                   [ 87%]\n",
      "test_growth.py s                                                         [ 88%]\n",
      "test_matrix.py ....                                                      [ 91%]\n",
      "test_sbml.py ..                                                          [ 92%]\n",
      "test_sbo.py FFFFFFFFss.                                                  [100%]\n",
      "\n",
      "============================== warnings summary ===============================\n",
      "C:\\Users\\Admin\\AppData\\Roaming\\Python\\Python37\\site-packages\\_pytest\\config\\__init__.py:886\n",
      "  C:\\Users\\Admin\\AppData\\Roaming\\Python\\Python37\\site-packages\\_pytest\\config\\__init__.py:886: PytestAssertRewriteWarning: Module already imported so cannot be rewritten: anyio\n",
      "    self._mark_plugins_for_rewrite(hook)\n",
      "\n",
      "-- Docs: https://docs.pytest.org/en/latest/warnings.html\n",
      "======= 75 failed, 60 passed, 12 skipped, 1 warnings in 170.20 seconds ========\n"
     ]
    },
    {
     "name": "stderr",
     "output_type": "stream",
     "text": [
      "The current solver interface glpk doesn't support setting the optimality tolerance.\n",
      "Writing snapshot report to '/Users/Admin/github-classroom/27410/group-assingment-team-4/yeast-GEM-8.7.0/model/iND750.html'.\n"
     ]
    }
   ],
   "source": [
    "!memote report snapshot /Users/Admin/github-classroom/27410/group-assingment-team-4/yeast-GEM-8.7.0/model/iND750.xml --filename /Users/Admin/github-classroom/27410/group-assingment-team-4/yeast-GEM-8.7.0/model/iND750.html"
   ]
  },
  {
   "cell_type": "code",
   "execution_count": 4,
   "metadata": {},
   "outputs": [
    {
     "name": "stdout",
     "output_type": "stream",
     "text": [
      "============================= test session starts =============================\n",
      "platform win32 -- Python 3.7.16, pytest-4.6.11, py-1.11.0, pluggy-0.13.1\n",
      "rootdir: C:\\Users\\Admin\\github-classroom\\27410\\group-assingment-team-4\\analysis\n",
      "plugins: anyio-3.7.1\n",
      "collected 146 items / 1 skipped / 145 selected\n",
      "\n",
      "test_annotation.py ...FFFFFFFF..FFFFF.FFFFFFFFFFFFFFF..FF..F...F....FFF. [ 36%]\n",
      "FFFFF.FFFF..                                                             [ 44%]\n",
      "test_basic.py ....F.FF.......F...F.FF                                    [ 60%]\n",
      "test_biomass.py .F....FF.F                                               [ 67%]\n",
      "test_consistency.py ...FFFFF..s.sssssFFFFFFFF.FFF                        [ 86%]\n",
      "test_essentiality.py s                                                   [ 87%]\n",
      "test_growth.py s                                                         [ 88%]\n",
      "test_matrix.py ....                                                      [ 91%]\n",
      "test_sbml.py ..                                                          [ 92%]\n",
      "test_sbo.py FFFFFFFFss.                                                  [100%]\n",
      "\n",
      "============================== warnings summary ===============================\n",
      "C:\\Users\\Admin\\AppData\\Roaming\\Python\\Python37\\site-packages\\_pytest\\config\\__init__.py:886\n",
      "  C:\\Users\\Admin\\AppData\\Roaming\\Python\\Python37\\site-packages\\_pytest\\config\\__init__.py:886: PytestAssertRewriteWarning: Module already imported so cannot be rewritten: anyio\n",
      "    self._mark_plugins_for_rewrite(hook)\n",
      "\n",
      "-- Docs: https://docs.pytest.org/en/latest/warnings.html\n",
      "======= 79 failed, 57 passed, 11 skipped, 1 warnings in 232.10 seconds ========\n"
     ]
    },
    {
     "name": "stderr",
     "output_type": "stream",
     "text": [
      "The current solver interface glpk doesn't support setting the optimality tolerance.\n",
      "Writing snapshot report to '/Users/Admin/github-classroom/27410/group-assingment-team-4/yeast-GEM-8.7.0/model/iMM904.html'.\n"
     ]
    }
   ],
   "source": [
    "!memote report snapshot /Users/Admin/github-classroom/27410/group-assingment-team-4/yeast-GEM-8.7.0/model/iMM904.xml --filename /Users/Admin/github-classroom/27410/group-assingment-team-4/yeast-GEM-8.7.0/model/iMM904.html"
   ]
  },
  {
   "cell_type": "markdown",
   "metadata": {},
   "source": [
    "Memote results\n",
    "\n",
    "| Parameter    | yeast8.7.0 | iMM904 | iFF708 | iND750 |\n",
    "| -------- | ------- | ------- | ------- | ------- |\n",
    "| Total metabolites | 2807     | 1226     | 796     | 1059     |\n",
    "| Total reactions | 4133     | 1577     | 1379     | 1266     |\n",
    "| Total genes | 1163     | 905     | 619     | 750     |\n",
    "| Total purely metabolic reactions | 2404     | 1003     | 1167     | 841     |\n",
    "| Enzyme complexes | 208     | 136     | 21     | 86     |\n",
    "| Mass balance | 93,8%     | 96,0%     | 0,0%     | 97,3%     |\n",
    "| Charge balance | 98,2%     | 98,5%     | 100%     | 100%     |\n",
    "| Metabolite connectivity | 100%     | 100%     | 100%     | 100%     |\n",
    "| Presence of metabolite/gene/reactions annotation | 100%     | 100%     | 0%     | 100%     |\n",
    "| Metabolite general SBO presence | 100%     | 100%     | 0%     | 100%     |\n",
    "| Total memote score | 69%     | 85%     | 19%     | 86%     |"
   ]
  }
 ],
 "metadata": {
  "kernelspec": {
   "display_name": "py3717",
   "language": "python",
   "name": "python3"
  },
  "language_info": {
   "codemirror_mode": {
    "name": "ipython",
    "version": 3
   },
   "file_extension": ".py",
   "mimetype": "text/x-python",
   "name": "python",
   "nbconvert_exporter": "python",
   "pygments_lexer": "ipython3",
   "version": "3.7.16"
  }
 },
 "nbformat": 4,
 "nbformat_minor": 2
}
