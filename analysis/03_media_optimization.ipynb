{
 "cells": [
  {
   "cell_type": "markdown",
   "metadata": {},
   "source": [
    "## importing the model"
   ]
  },
  {
   "cell_type": "code",
   "execution_count": 43,
   "metadata": {},
   "outputs": [],
   "source": [
    "from cobra.io import read_sbml_model, write_sbml_model\n",
    "model = read_sbml_model('/Users/wagner/github-classroom/27410/group-assingment-team-4/yeast-GEM-8.7.0/model/yeast-GEM2.xml') # loading\n",
    "from cobra import Reaction, Metabolite, Gene\n",
    "import pandas as pd\n",
    "\n"
   ]
  },
  {
   "cell_type": "markdown",
   "metadata": {},
   "source": [
    "# Finding the most suitable carbon source and testing different types of media"
   ]
  },
  {
   "cell_type": "markdown",
   "metadata": {},
   "source": [
    "First we can test the production of beta-farnesene in aerobic conditions as well as anaerobic conditions:"
   ]
  },
  {
   "cell_type": "code",
   "execution_count": 2,
   "metadata": {},
   "outputs": [
    {
     "data": {
      "text/plain": [
       "[<Reaction r_1992 at 0x28f0c6490>]"
      ]
     },
     "execution_count": 2,
     "metadata": {},
     "output_type": "execute_result"
    }
   ],
   "source": [
    "model.reactions.query('oxygen exchange', 'name')"
   ]
  },
  {
   "cell_type": "code",
   "execution_count": 3,
   "metadata": {},
   "outputs": [
    {
     "name": "stdout",
     "output_type": "stream",
     "text": [
      "0.04739229024943303\n"
     ]
    }
   ],
   "source": [
    "with model:\n",
    "   medium = model.medium\n",
    "   medium['r_1992'] = 0\n",
    "   model.medium = medium\n",
    "   with model:\n",
    "      model.objective = model.reactions.BFD\n",
    "      BF_production = model.optimize().objective_value\n",
    "print(BF_production)"
   ]
  },
  {
   "cell_type": "markdown",
   "metadata": {},
   "source": [
    "There is no production in this case no point in looking further at that, so we will go back to aerobic conditions:"
   ]
  },
  {
   "cell_type": "code",
   "execution_count": 9,
   "metadata": {},
   "outputs": [
    {
     "name": "stdout",
     "output_type": "stream",
     "text": [
      "Growth rate on minimal medium: 0.08192815852363812 gDW h^-1\n",
      "Maximum beta-farnesene production on minimal medium [mmol-beta-farnesene gDW^-1 h^-1]: 0.23035112219719728\n",
      "Theoretical maximum yield on minimal medium [mmol-beta-farnesene / mmol-glucose]: 0.23035112219719728\n"
     ]
    }
   ],
   "source": [
    "with model:\n",
    "    growth_minimal_medium = model.optimize().objective_value\n",
    "    print('Growth rate on minimal medium:', growth_minimal_medium, 'gDW h^-1')\n",
    "    model.objective = model.reactions.BFD\n",
    "    BF_production_minimal_medium = model.optimize().objective_value\n",
    "    print(\"Maximum beta-farnesene production on minimal medium [mmol-beta-farnesene gDW^-1 h^-1]:\", BF_production_minimal_medium)\n",
    "    print(\"Theoretical maximum yield on minimal medium [mmol-beta-farnesene / mmol-glucose]:\", BF_production_minimal_medium / (-1*model.reactions.r_1714.flux))\n",
    "    max_theoretical_yield_minimal_medium = BF_production / (-1*model.reactions.r_1714.flux)"
   ]
  },
  {
   "cell_type": "markdown",
   "metadata": {},
   "source": [
    "Now we will test to see the production of beta-farnesene with increased glucose concentrations:"
   ]
  },
  {
   "cell_type": "code",
   "execution_count": 5,
   "metadata": {},
   "outputs": [
    {
     "name": "stdout",
     "output_type": "stream",
     "text": [
      "r_1654: s_0420 <=>  | ammonium exchange | concentration = 1000.0\n",
      "r_1714: s_0565 <=>  | D-glucose exchange | concentration = 1.0\n",
      "r_1832: s_0796 <=>  | H+ exchange | concentration = 1000.0\n",
      "r_1861: s_0925 <=>  | iron(2+) exchange | concentration = 1000.0\n",
      "r_1992: s_1277 <=>  | oxygen exchange | concentration = 1000.0\n",
      "r_2005: s_1324 <=>  | phosphate exchange | concentration = 1000.0\n",
      "r_2020: s_1374 <=>  | potassium exchange | concentration = 1000.0\n",
      "r_2049: s_1438 <=>  | sodium exchange | concentration = 1000.0\n",
      "r_2060: s_1468 <=>  | sulphate exchange | concentration = 1000.0\n",
      "r_2100: s_0805 <=>  | water exchange | concentration = 1000.0\n",
      "r_4593: s_4200 <=>  | chloride exchange | concentration = 1000.0\n",
      "r_4594: s_4201 <=>  | Cu2(+) exchange | concentration = 1000.0\n",
      "r_4595: s_4202 <=>  | Mn(2+) exchange | concentration = 1000.0\n",
      "r_4596: s_4203 <=>  | Zn(2+) exchange | concentration = 1000.0\n",
      "r_4597: s_4204 <=>  | Mg(2+) exchange | concentration = 1000.0\n",
      "r_4600: s_4199 <=>  | Ca(2+) exchange | concentration = 1000.0\n"
     ]
    }
   ],
   "source": [
    "# First we will here make an overview of the full medium composition as it is in the model by default with\n",
    "# growth on glucose, to do this we check through all the extracellular exchange reactions:\n",
    "\n",
    "for component in model.medium.items():\n",
    "    print(model.reactions.get_by_id(component[0]), \"|\", model.reactions.get_by_id(component[0]).name, \"| concentration =\", component[1])"
   ]
  },
  {
   "cell_type": "markdown",
   "metadata": {},
   "source": [
    "This is a full overview of the medium composition. Using this we will now check the impact of changing the concentration of glucose in the medium on production and on growth:"
   ]
  },
  {
   "cell_type": "code",
   "execution_count": 59,
   "metadata": {},
   "outputs": [
    {
     "name": "stdout",
     "output_type": "stream",
     "text": [
      "Maximal growth with 0.1X glucose: 0.005401624710187918\n",
      "Maximal production of beta-farnesene with 0.1X glucose: 0.01666211119007269\n",
      "Theoretical maximum beta-farnesene production on 0.1X glucose: 0.1666211119007262\n",
      "\n",
      "Maximal growth with 10X glucose: 0.8471930218949543\n",
      "Maximal production of beta-farnesene with 10X glucose: 2.3416532799479137\n",
      "Theoretical maximum beta-farnesene production on 10X glucose: 0.2341653279947901\n",
      "\n",
      "Maximal growth with 100X glucose: 8.499842132127737\n",
      "Maximal production of beta-farnesene with 100X glucose: 23.45467485745497\n",
      "Theoretical maximum beta-farnesene production on 100X glucose: 0.23454674857454985\n",
      "\n",
      "Maximal growth with 1000X glucose: 19.81785961671279\n",
      "Maximal production of beta-farnesene with 1000X glucose: 76.91806853582865\n",
      "Theoretical maximum beta-farnesene production on 1000X glucose: 0.11999593706928555\n"
     ]
    }
   ],
   "source": [
    "# Testing different glucose concentrations of 0.1X, 10X, 100X and 1000X the standard glucose concentration in the medium\n",
    "\n",
    "medium = model.medium\n",
    "with model:\n",
    "   medium['r_1714'] = 0.1\n",
    "   model.medium = medium\n",
    "   point_one_X_glc_growth = model.optimize().objective_value\n",
    "   model.objective = model.reactions.BFD\n",
    "   point_one_X_glc_productivity = model.optimize().objective_value\n",
    "   print('Maximal growth with 0.1X glucose:', point_one_X_glc_growth)\n",
    "   print('Maximal production of beta-farnesene with 0.1X glucose:', point_one_X_glc_productivity)\n",
    "   print('Theoretical maximum beta-farnesene production on 0.1X glucose:', model.optimize().objective_value / (-1*model.reactions.r_1714.flux))\n",
    "\n",
    "print('')\n",
    "\n",
    "with model:\n",
    "   medium['r_1714'] = 10\n",
    "   model.medium = medium\n",
    "   ten_X_glc_growth = model.optimize().objective_value\n",
    "   model.objective = model.reactions.BFD\n",
    "   ten_X_glc_productivity = model.optimize().objective_value\n",
    "   print('Maximal growth with 10X glucose:', ten_X_glc_growth)\n",
    "   print('Maximal production of beta-farnesene with 10X glucose:', ten_X_glc_productivity)\n",
    "   print('Theoretical maximum beta-farnesene production on 10X glucose:', model.optimize().objective_value / (-1*model.reactions.r_1714.flux))\n",
    "\n",
    "print('')\n",
    "\n",
    "with model:\n",
    "   medium['r_1714'] = 100\n",
    "   model.medium = medium\n",
    "   hundred_X_glc_growth = model.optimize().objective_value\n",
    "   model.objective = model.reactions.BFD\n",
    "   hundred_X_glc_productivity = model.optimize().objective_value\n",
    "   print('Maximal growth with 100X glucose:', hundred_X_glc_growth)\n",
    "   print('Maximal production of beta-farnesene with 100X glucose:', hundred_X_glc_productivity)\n",
    "   print('Theoretical maximum beta-farnesene production on 100X glucose:', model.optimize().objective_value / (-1*model.reactions.r_1714.flux))\n",
    "\n",
    "print('')\n",
    "\n",
    "with model:\n",
    "   medium['r_1714'] = 1000\n",
    "   model.medium = medium\n",
    "   thousand_X_glc_growth = model.optimize().objective_value\n",
    "   model.objective = model.reactions.BFD\n",
    "   thousand_X_glc_productivity = model.optimize().objective_value\n",
    "   print('Maximal growth with 1000X glucose:', thousand_X_glc_growth)\n",
    "   print('Maximal production of beta-farnesene with 1000X glucose:', thousand_X_glc_productivity)\n",
    "   print('Theoretical maximum beta-farnesene production on 1000X glucose:', model.optimize().objective_value / (-1*model.reactions.r_1714.flux))\n",
    "\n",
    "\n",
    "\n",
    "   "
   ]
  },
  {
   "cell_type": "markdown",
   "metadata": {},
   "source": [
    "It seems that there is little to no benefit in the theoretical maximum of beta-farnesene production neither increasing nor decreasing the glucose concentrations.\n"
   ]
  },
  {
   "cell_type": "markdown",
   "metadata": {},
   "source": [
    "# Changing to a medium composition that mimicks YPD medium\n",
    "\n",
    "For further medium optimization we will now look into changing the medium composition from the standard minimal medium of the model to the complete medium for yeast growth YPD medium also known as YPED medium."
   ]
  },
  {
   "cell_type": "code",
   "execution_count": 57,
   "metadata": {},
   "outputs": [
    {
     "name": "stdout",
     "output_type": "stream",
     "text": [
      "Maximal growth with YPD medium: 9.203912627951858 gDW h^-1\n",
      "Maximal theoretical production of beta-farnesene with YPD medium: 20.44590733027537 mmol gDW^-1 h^-1\n",
      "Theoretical maximum yield of beta-farnesene on YPD medium: 1.0222953665137662 mmol-BF mmol-glc^-1\n"
     ]
    }
   ],
   "source": [
    "YPD_components = ['Glucose', 'Alanine', 'Arginine', 'Aspartic', 'Cysteine', 'Glutamine', 'Glycine', 'Histidine', 'Isoleucine',\n",
    "                  'Leucine', 'Lysine', 'Methionine', 'Phenylalanine', 'Proline', 'Serine', 'Threonine', 'Tryptophan',\n",
    "                  'Tyrosine', 'Valine', 'Zinc', 'FE2']\n",
    "\n",
    "YPD_medium = model.medium\n",
    "\n",
    "YPD_medium['r_1714'] = 20\n",
    "YPD_medium['r_1873'] = 10\n",
    "YPD_medium['r_1879'] = 10\n",
    "YPD_medium['r_1881'] = 10\n",
    "YPD_medium['r_1883'] = 10\n",
    "YPD_medium['r_1891'] = 10\n",
    "YPD_medium['r_1810'] = 10\n",
    "YPD_medium['r_1893'] = 10\n",
    "YPD_medium['r_1897'] = 10\n",
    "YPD_medium['r_1899'] = 10\n",
    "YPD_medium['r_1900'] = 10\n",
    "YPD_medium['r_1902'] = 10\n",
    "YPD_medium['r_1903'] = 10\n",
    "YPD_medium['r_1904'] = 10\n",
    "YPD_medium['r_1906'] = 10\n",
    "YPD_medium['r_1911'] = 10\n",
    "YPD_medium['r_1912'] = 10\n",
    "YPD_medium['r_1913'] = 10\n",
    "YPD_medium['r_1914'] = 10\n",
    "YPD_medium['r_4596'] = 10\n",
    "YPD_medium['r_1861'] = 10\n",
    "\n",
    "model.objective = model.reactions.r_2111\n",
    "model.medium = YPD_medium\n",
    "with model:\n",
    "      YPD_growth = model.optimize().objective_value\n",
    "      model.objective = model.reactions.BFD\n",
    "      YPD_productivity = model.optimize().objective_value\n",
    "      print('Maximal growth with YPD medium:', YPD_growth, 'gDW h^-1')\n",
    "      print('Maximal theoretical production of beta-farnesene with YPD medium:', YPD_productivity, 'mmol gDW^-1 h^-1')\n",
    "      print('Theoretical maximum yield of beta-farnesene on YPD medium:', \n",
    "            model.optimize().objective_value / (-1*model.reactions.r_1714.flux), 'mmol-BF mmol-glc^-1')\n",
    "   "
   ]
  },
  {
   "cell_type": "markdown",
   "metadata": {},
   "source": [
    "# Testing different carbon sources for optimal production"
   ]
  },
  {
   "cell_type": "code",
   "execution_count": 70,
   "metadata": {},
   "outputs": [
    {
     "data": {
      "text/html": [
       "<div>\n",
       "<style scoped>\n",
       "    .dataframe tbody tr th:only-of-type {\n",
       "        vertical-align: middle;\n",
       "    }\n",
       "\n",
       "    .dataframe tbody tr th {\n",
       "        vertical-align: top;\n",
       "    }\n",
       "\n",
       "    .dataframe thead th {\n",
       "        text-align: right;\n",
       "    }\n",
       "</style>\n",
       "<table border=\"1\" class=\"dataframe\">\n",
       "  <thead>\n",
       "    <tr style=\"text-align: right;\">\n",
       "      <th></th>\n",
       "      <th>Carbon source</th>\n",
       "      <th>Theoretical productivity of Beta-farnesene</th>\n",
       "      <th>Theoretical yield</th>\n",
       "    </tr>\n",
       "  </thead>\n",
       "  <tbody>\n",
       "    <tr>\n",
       "      <th>19</th>\n",
       "      <td>alpha-maltotriose exchange</td>\n",
       "      <td>29.913570</td>\n",
       "      <td>1.495679</td>\n",
       "    </tr>\n",
       "    <tr>\n",
       "      <th>17</th>\n",
       "      <td>turanose exchange</td>\n",
       "      <td>25.179739</td>\n",
       "      <td>1.258987</td>\n",
       "    </tr>\n",
       "    <tr>\n",
       "      <th>12</th>\n",
       "      <td>sucrose exchange</td>\n",
       "      <td>25.179739</td>\n",
       "      <td>1.258987</td>\n",
       "    </tr>\n",
       "    <tr>\n",
       "      <th>0</th>\n",
       "      <td>trehalose exchange</td>\n",
       "      <td>25.179739</td>\n",
       "      <td>1.258987</td>\n",
       "    </tr>\n",
       "    <tr>\n",
       "      <th>15</th>\n",
       "      <td>6-O-alpha-D-glucopyranosyl-D-fructofuranose ex...</td>\n",
       "      <td>25.179739</td>\n",
       "      <td>1.258987</td>\n",
       "    </tr>\n",
       "    <tr>\n",
       "      <th>11</th>\n",
       "      <td>maltose exchange</td>\n",
       "      <td>25.179739</td>\n",
       "      <td>1.258987</td>\n",
       "    </tr>\n",
       "    <tr>\n",
       "      <th>18</th>\n",
       "      <td>D-glucose 6-phosphate exchange</td>\n",
       "      <td>20.587578</td>\n",
       "      <td>1.029379</td>\n",
       "    </tr>\n",
       "    <tr>\n",
       "      <th>21</th>\n",
       "      <td>D-mannose 6-phosphate exchange</td>\n",
       "      <td>20.587578</td>\n",
       "      <td>1.029379</td>\n",
       "    </tr>\n",
       "    <tr>\n",
       "      <th>22</th>\n",
       "      <td>D-mannose 1-phosphate exchange</td>\n",
       "      <td>20.587578</td>\n",
       "      <td>1.029379</td>\n",
       "    </tr>\n",
       "    <tr>\n",
       "      <th>20</th>\n",
       "      <td>D-glucose 1-phosphate exchange</td>\n",
       "      <td>20.587578</td>\n",
       "      <td>1.029379</td>\n",
       "    </tr>\n",
       "    <tr>\n",
       "      <th>5</th>\n",
       "      <td>D-mannose exchange</td>\n",
       "      <td>20.445907</td>\n",
       "      <td>1.022295</td>\n",
       "    </tr>\n",
       "    <tr>\n",
       "      <th>16</th>\n",
       "      <td>D-tagatose exchange</td>\n",
       "      <td>20.445907</td>\n",
       "      <td>1.022295</td>\n",
       "    </tr>\n",
       "    <tr>\n",
       "      <th>13</th>\n",
       "      <td>raffinose exchange</td>\n",
       "      <td>20.445907</td>\n",
       "      <td>1.022295</td>\n",
       "    </tr>\n",
       "    <tr>\n",
       "      <th>4</th>\n",
       "      <td>D-glucose exchange</td>\n",
       "      <td>20.445907</td>\n",
       "      <td>1.022295</td>\n",
       "    </tr>\n",
       "    <tr>\n",
       "      <th>2</th>\n",
       "      <td>D-fructose exchange</td>\n",
       "      <td>20.445907</td>\n",
       "      <td>1.022295</td>\n",
       "    </tr>\n",
       "    <tr>\n",
       "      <th>3</th>\n",
       "      <td>D-galactose exchange</td>\n",
       "      <td>20.445907</td>\n",
       "      <td>1.022295</td>\n",
       "    </tr>\n",
       "    <tr>\n",
       "      <th>6</th>\n",
       "      <td>D-ribose exchange</td>\n",
       "      <td>19.656935</td>\n",
       "      <td>0.982847</td>\n",
       "    </tr>\n",
       "    <tr>\n",
       "      <th>7</th>\n",
       "      <td>D-xylose exchange</td>\n",
       "      <td>19.515264</td>\n",
       "      <td>0.975763</td>\n",
       "    </tr>\n",
       "    <tr>\n",
       "      <th>1</th>\n",
       "      <td>D-arabinose exchange</td>\n",
       "      <td>19.515264</td>\n",
       "      <td>0.975763</td>\n",
       "    </tr>\n",
       "    <tr>\n",
       "      <th>8</th>\n",
       "      <td>L-arabinose exchange</td>\n",
       "      <td>19.356064</td>\n",
       "      <td>0.967803</td>\n",
       "    </tr>\n",
       "    <tr>\n",
       "      <th>9</th>\n",
       "      <td>L-homoserine exchange</td>\n",
       "      <td>18.515575</td>\n",
       "      <td>0.925779</td>\n",
       "    </tr>\n",
       "    <tr>\n",
       "      <th>14</th>\n",
       "      <td>melibiose exchange</td>\n",
       "      <td>15.700743</td>\n",
       "      <td>0.000000</td>\n",
       "    </tr>\n",
       "    <tr>\n",
       "      <th>10</th>\n",
       "      <td>L-sorbose exchange</td>\n",
       "      <td>15.700743</td>\n",
       "      <td>0.000000</td>\n",
       "    </tr>\n",
       "  </tbody>\n",
       "</table>\n",
       "</div>"
      ],
      "text/plain": [
       "                                        Carbon source  \\\n",
       "19                         alpha-maltotriose exchange   \n",
       "17                                  turanose exchange   \n",
       "12                                   sucrose exchange   \n",
       "0                                  trehalose exchange   \n",
       "15  6-O-alpha-D-glucopyranosyl-D-fructofuranose ex...   \n",
       "11                                   maltose exchange   \n",
       "18                     D-glucose 6-phosphate exchange   \n",
       "21                     D-mannose 6-phosphate exchange   \n",
       "22                     D-mannose 1-phosphate exchange   \n",
       "20                     D-glucose 1-phosphate exchange   \n",
       "5                                  D-mannose exchange   \n",
       "16                                D-tagatose exchange   \n",
       "13                                 raffinose exchange   \n",
       "4                                  D-glucose exchange   \n",
       "2                                 D-fructose exchange   \n",
       "3                                D-galactose exchange   \n",
       "6                                   D-ribose exchange   \n",
       "7                                   D-xylose exchange   \n",
       "1                                D-arabinose exchange   \n",
       "8                                L-arabinose exchange   \n",
       "9                               L-homoserine exchange   \n",
       "14                                 melibiose exchange   \n",
       "10                                 L-sorbose exchange   \n",
       "\n",
       "    Theoretical productivity of Beta-farnesene  Theoretical yield  \n",
       "19                                   29.913570           1.495679  \n",
       "17                                   25.179739           1.258987  \n",
       "12                                   25.179739           1.258987  \n",
       "0                                    25.179739           1.258987  \n",
       "15                                   25.179739           1.258987  \n",
       "11                                   25.179739           1.258987  \n",
       "18                                   20.587578           1.029379  \n",
       "21                                   20.587578           1.029379  \n",
       "22                                   20.587578           1.029379  \n",
       "20                                   20.587578           1.029379  \n",
       "5                                    20.445907           1.022295  \n",
       "16                                   20.445907           1.022295  \n",
       "13                                   20.445907           1.022295  \n",
       "4                                    20.445907           1.022295  \n",
       "2                                    20.445907           1.022295  \n",
       "3                                    20.445907           1.022295  \n",
       "6                                    19.656935           0.982847  \n",
       "7                                    19.515264           0.975763  \n",
       "1                                    19.515264           0.975763  \n",
       "8                                    19.356064           0.967803  \n",
       "9                                    18.515575           0.925779  \n",
       "14                                   15.700743           0.000000  \n",
       "10                                   15.700743           0.000000  "
      ]
     },
     "execution_count": 70,
     "metadata": {},
     "output_type": "execute_result"
    }
   ],
   "source": [
    "model_medium = model.medium\n",
    "productivity = []\n",
    "reaction_name = []\n",
    "theoretical_yield = []\n",
    "with model:\n",
    "   for reac in model.exchanges.query('ose','name'):\n",
    "      medium = model_medium\n",
    "      medium['r_1714'] = 0\n",
    "      medium[reac.id] = 20\n",
    "      model.medium = medium\n",
    "      model.objective = model.reactions.BFD\n",
    "      productivity.append(model.optimize().objective_value)\n",
    "      reaction_name.append(reac.name)\n",
    "      if reac.flux != 0:\n",
    "         theoretical_yield.append(model.optimize().objective_value / (-1 * reac.flux))\n",
    "      else:\n",
    "         theoretical_yield.append(0)\n",
    "      medium[reac.id] = 0\n",
    "      model.medium = medium\n",
    "   productivity_on_carbon_sources = pd.DataFrame({'Carbon source': reaction_name,\n",
    "   'Theoretical productivity of Beta-farnesene': productivity, 'Theoretical yield': theoretical_yield})\n",
    "productivity_on_carbon_sources.sort_values(by='Theoretical productivity of Beta-farnesene', ascending = False)\n",
    "\n"
   ]
  },
  {
   "cell_type": "code",
   "execution_count": 48,
   "metadata": {},
   "outputs": [
    {
     "name": "stdout",
     "output_type": "stream",
     "text": [
      "trehalose exchange\n",
      "r_1650\n",
      "D-arabinose exchange\n",
      "r_1706\n",
      "D-fructose exchange\n",
      "r_1709\n",
      "D-galactose exchange\n",
      "r_1710\n",
      "D-glucose exchange\n",
      "r_1714\n",
      "D-mannose exchange\n",
      "r_1715\n",
      "D-ribose exchange\n",
      "r_1716\n",
      "D-xylose exchange\n",
      "r_1718\n",
      "L-arabinose exchange\n",
      "r_1878\n",
      "L-homoserine exchange\n",
      "r_1896\n",
      "L-sorbose exchange\n",
      "r_1909\n",
      "maltose exchange\n",
      "r_1931\n",
      "sucrose exchange\n",
      "r_2058\n",
      "raffinose exchange\n",
      "r_4043\n",
      "melibiose exchange\n",
      "r_4044\n",
      "6-O-alpha-D-glucopyranosyl-D-fructofuranose exchange\n",
      "r_4498\n",
      "D-tagatose exchange\n",
      "r_4500\n",
      "turanose exchange\n",
      "r_4501\n",
      "D-glucose 6-phosphate exchange\n",
      "r_4502\n",
      "alpha-maltotriose exchange\n",
      "r_4503\n",
      "D-glucose 1-phosphate exchange\n",
      "r_4504\n",
      "D-mannose 6-phosphate exchange\n",
      "r_4539\n",
      "D-mannose 1-phosphate exchange\n",
      "r_4547\n"
     ]
    }
   ],
   "source": [
    "for reac in model.exchanges.query('ose','name'):\n",
    "   print(reac.name)\n",
    "   print(reac.id)"
   ]
  },
  {
   "cell_type": "markdown",
   "metadata": {},
   "source": [
    "# Saving the model with new medium composition (YPD medium)"
   ]
  },
  {
   "cell_type": "code",
   "execution_count": 22,
   "metadata": {},
   "outputs": [],
   "source": [
    "# This code saves the changes to the model and we now have a model that has a the heterologous pathway for \n",
    "# beta-farnesene production as well as a demand reaction for cytoplasmic beta-farnesene\n",
    "\n",
    "write_sbml_model(model,\n",
    "                 filename = '/Users/wagner/github-classroom/27410/group-assingment-team-4/yeast-GEM-8.7.0/model/yeast-GEM3.xml'\n",
    "                 )  \n",
    "#saving the model"
   ]
  }
 ],
 "metadata": {
  "kernelspec": {
   "display_name": "base",
   "language": "python",
   "name": "python3"
  },
  "language_info": {
   "codemirror_mode": {
    "name": "ipython",
    "version": 3
   },
   "file_extension": ".py",
   "mimetype": "text/x-python",
   "name": "python",
   "nbconvert_exporter": "python",
   "pygments_lexer": "ipython3",
   "version": "3.11.4"
  },
  "orig_nbformat": 4
 },
 "nbformat": 4,
 "nbformat_minor": 2
}
