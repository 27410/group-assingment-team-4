{
 "cells": [
  {
   "cell_type": "markdown",
   "metadata": {},
   "source": [
    "## importing the model"
   ]
  },
  {
   "cell_type": "code",
   "execution_count": 48,
   "metadata": {},
   "outputs": [],
   "source": [
    "from cobra.io import read_sbml_model, write_sbml_model\n",
    "model = read_sbml_model('/Users/wagner/github-classroom/27410/group-assingment-team-4/yeast-GEM-8.7.0/model/yeast-GEM2.xml') # loading\n",
    "from cobra import Reaction, Metabolite, Gene\n",
    "import pandas as pd\n",
    "\n"
   ]
  },
  {
   "cell_type": "markdown",
   "metadata": {},
   "source": [
    "# Finding the most suitable carbon source and testing different types of media"
   ]
  },
  {
   "cell_type": "markdown",
   "metadata": {},
   "source": [
    "First we can test the production of beta-farnesene in aerobic conditions as well as anaerobic conditions:"
   ]
  },
  {
   "cell_type": "code",
   "execution_count": 49,
   "metadata": {},
   "outputs": [
    {
     "data": {
      "text/plain": [
       "[<Reaction r_1992 at 0x17eacff10>]"
      ]
     },
     "execution_count": 49,
     "metadata": {},
     "output_type": "execute_result"
    }
   ],
   "source": [
    "model.reactions.query('oxygen exchange', 'name')"
   ]
  },
  {
   "cell_type": "code",
   "execution_count": 50,
   "metadata": {},
   "outputs": [
    {
     "name": "stdout",
     "output_type": "stream",
     "text": [
      "0.04739229024943303\n"
     ]
    }
   ],
   "source": [
    "with model:\n",
    "   medium = model.medium\n",
    "   medium['r_1992'] = 0\n",
    "   model.medium = medium\n",
    "   with model:\n",
    "      model.objective = model.reactions.BFD\n",
    "      BF_production = model.optimize().objective_value\n",
    "print(BF_production)"
   ]
  },
  {
   "cell_type": "markdown",
   "metadata": {},
   "source": [
    "There is no production in this case no point in looking further at that, so we will go back to aerobic conditions:"
   ]
  },
  {
   "cell_type": "code",
   "execution_count": 52,
   "metadata": {},
   "outputs": [
    {
     "name": "stdout",
     "output_type": "stream",
     "text": [
      "Growth rate on minimal media: 0.08192815852363902 gDW h^-1\n",
      "Maximum beta-farnesene production on minimal media [mmol-beta-farnesene gDW^-1 h^-1]: 0.23035112219719808\n",
      "Theoretical maximum yield on minimal media [mmol-beta-farnesene / mmol-glucose]: 0.23035112219719808\n"
     ]
    }
   ],
   "source": [
    "with model:\n",
    "    growth_minimal_medium = model.optimize().objective_value\n",
    "    print('Growth rate on minimal media:', growth_minimal_medium, 'gDW h^-1')\n",
    "    model.objective = model.reactions.BFD\n",
    "    BF_production_minimal_medium = model.optimize().objective_value\n",
    "    print(\"Maximum beta-farnesene production on minimal media [mmol-beta-farnesene gDW^-1 h^-1]:\", BF_production_minimal_medium)\n",
    "    print(\"Theoretical maximum yield on minimal media [mmol-beta-farnesene / mmol-glucose]:\", BF_production_minimal_medium / (-1*model.reactions.r_1714.flux))\n",
    "    max_theoretical_yield_minimal_medium = BF_production / (-1*model.reactions.r_1714.flux)"
   ]
  },
  {
   "cell_type": "markdown",
   "metadata": {},
   "source": [
    "Now we will test to see the production of beta-farnesene with increased glucose concentrations:"
   ]
  },
  {
   "cell_type": "code",
   "execution_count": 5,
   "metadata": {},
   "outputs": [
    {
     "name": "stdout",
     "output_type": "stream",
     "text": [
      "r_1654: s_0420 <=>  | ammonium exchange | concentration = 1000.0\n",
      "r_1714: s_0565 <=>  | D-glucose exchange | concentration = 10.0\n",
      "r_1832: s_0796 <=>  | H+ exchange | concentration = 1000.0\n",
      "r_1861: s_0925 <=>  | iron(2+) exchange | concentration = 1000.0\n",
      "r_1992: s_1277 <=>  | oxygen exchange | concentration = 1000.0\n",
      "r_2005: s_1324 <=>  | phosphate exchange | concentration = 1000.0\n",
      "r_2020: s_1374 <=>  | potassium exchange | concentration = 1000.0\n",
      "r_2049: s_1438 <=>  | sodium exchange | concentration = 1000.0\n",
      "r_2060: s_1468 <=>  | sulphate exchange | concentration = 1000.0\n",
      "r_2100: s_0805 <=>  | water exchange | concentration = 1000.0\n",
      "r_4593: s_4200 <=>  | chloride exchange | concentration = 1000.0\n",
      "r_4594: s_4201 <=>  | Cu2(+) exchange | concentration = 1000.0\n",
      "r_4595: s_4202 <=>  | Mn(2+) exchange | concentration = 1000.0\n",
      "r_4596: s_4203 <=>  | Zn(2+) exchange | concentration = 1000.0\n",
      "r_4597: s_4204 <=>  | Mg(2+) exchange | concentration = 1000.0\n",
      "r_4600: s_4199 <=>  | Ca(2+) exchange | concentration = 1000.0\n"
     ]
    }
   ],
   "source": [
    "# First we will here make an overview of the full medium composition as it is in the model by default with\n",
    "# growth on glucose, to do this we check through all the extracellular exchange reactions:\n",
    "\n",
    "for component in model.medium.items():\n",
    "    print(model.reactions.get_by_id(component[0]), \"|\", model.reactions.get_by_id(component[0]).name, \"| concentration =\", component[1])"
   ]
  },
  {
   "cell_type": "markdown",
   "metadata": {},
   "source": [
    "This is a full overview of the medium composition. Using this we will now check the impact of changing the concentration of glucose in the medium on production and on growth:"
   ]
  },
  {
   "cell_type": "code",
   "execution_count": 40,
   "metadata": {},
   "outputs": [
    {
     "name": "stdout",
     "output_type": "stream",
     "text": [
      "Maximal growth with 0.1X glucose: 0.005401619769345875\n",
      "Maximal production of beta-farnesene with 0.1X glucose: 0.016662111190072968\n",
      "Theoretical maximum beta-farnesene production on 0.1X glucose: 0.16662111190072693\n",
      "\n",
      "Maximal growth with 1X glucose: 0.08192813815902517\n",
      "Maximal production of beta-farnesene with 1X glucose: 0.23035112219719797\n",
      "Theoretical maximum beta-farnesene production on 1X glucose: 0.23035112219719536\n",
      "\n",
      "Maximal growth with 10X glucose: 0.847193021894946\n",
      "Maximal production of beta-farnesene with 10X glucose: 2.3416532799479004\n",
      "Theoretical maximum beta-farnesene production on 10X glucose: 0.23416532799479045\n",
      "\n",
      "Maximal growth with 100X glucose: 8.499842132127739\n",
      "Maximal production of beta-farnesene with 100X glucose: 23.45467485745477\n",
      "Theoretical maximum beta-farnesene production on 100X glucose: 0.23454674857455005\n",
      "\n",
      "Maximal growth with 1000X glucose: 19.817859616711658\n",
      "Maximal production of beta-farnesene with 1000X glucose: 76.91806853582565\n",
      "Theoretical maximum beta-farnesene production on 1000X glucose: 0.11999593706928555\n"
     ]
    }
   ],
   "source": [
    "# Testing different glucose concentrations of 0.1X, 10X, 100X and 1000X the standard glucose concentration in the medium\n",
    "\n",
    "medium = model.medium\n",
    "with model:\n",
    "   medium['r_1714'] = 0.1\n",
    "   model.medium = medium\n",
    "   point_one_X_glc_growth = model.optimize().objective_value\n",
    "   model.objective = model.reactions.BFD\n",
    "   point_one_X_glc_productivity = model.optimize().objective_value\n",
    "   print('Maximal growth with 0.1X glucose:', point_one_X_glc_growth)\n",
    "   print('Maximal production of beta-farnesene with 0.1X glucose:', point_one_X_glc_productivity)\n",
    "   print('Theoretical maximum beta-farnesene production on 0.1X glucose:', model.optimize().objective_value / (-1*model.reactions.r_1714.flux))\n",
    "\n",
    "print('')\n",
    "\n",
    "with model:\n",
    "   medium['r_1714'] = 1\n",
    "   model.medium = medium\n",
    "   one_X_glc_growth = model.optimize().objective_value\n",
    "   model.objective = model.reactions.BFD\n",
    "   one_X_glc_productivity = model.optimize().objective_value\n",
    "   print('Maximal growth with 1X glucose:', one_X_glc_growth)\n",
    "   print('Maximal production of beta-farnesene with 1X glucose:', one_X_glc_productivity)\n",
    "   print('Theoretical maximum beta-farnesene production on 1X glucose:', model.optimize().objective_value / (-1*model.reactions.r_1714.flux))\n",
    "\n",
    "\n",
    "print('')\n",
    "\n",
    "\n",
    "with model:\n",
    "   medium['r_1714'] = 10\n",
    "   model.medium = medium\n",
    "   ten_X_glc_growth = model.optimize().objective_value\n",
    "   model.objective = model.reactions.BFD\n",
    "   ten_X_glc_productivity = model.optimize().objective_value\n",
    "   print('Maximal growth with 10X glucose:', ten_X_glc_growth)\n",
    "   print('Maximal production of beta-farnesene with 10X glucose:', ten_X_glc_productivity)\n",
    "   print('Theoretical maximum beta-farnesene production on 10X glucose:', model.optimize().objective_value / (-1*model.reactions.r_1714.flux))\n",
    "\n",
    "print('')\n",
    "\n",
    "with model:\n",
    "   medium['r_1714'] = 100\n",
    "   model.medium = medium\n",
    "   hundred_X_glc_growth = model.optimize().objective_value\n",
    "   model.objective = model.reactions.BFD\n",
    "   hundred_X_glc_productivity = model.optimize().objective_value\n",
    "   print('Maximal growth with 100X glucose:', hundred_X_glc_growth)\n",
    "   print('Maximal production of beta-farnesene with 100X glucose:', hundred_X_glc_productivity)\n",
    "   print('Theoretical maximum beta-farnesene production on 100X glucose:', model.optimize().objective_value / (-1*model.reactions.r_1714.flux))\n",
    "\n",
    "print('')\n",
    "\n",
    "with model:\n",
    "   medium['r_1714'] = 1000\n",
    "   model.medium = medium\n",
    "   thousand_X_glc_growth = model.optimize().objective_value\n",
    "   model.objective = model.reactions.BFD\n",
    "   thousand_X_glc_productivity = model.optimize().objective_value\n",
    "   print('Maximal growth with 1000X glucose:', thousand_X_glc_growth)\n",
    "   print('Maximal production of beta-farnesene with 1000X glucose:', thousand_X_glc_productivity)\n",
    "   print('Theoretical maximum beta-farnesene production on 1000X glucose:', model.optimize().objective_value / (-1*model.reactions.r_1714.flux))\n",
    "\n",
    "\n",
    "\n",
    "   "
   ]
  },
  {
   "cell_type": "markdown",
   "metadata": {},
   "source": [
    "It seems that there is little to no benefit in the theoretical maximum of beta-farnesene production neither increasing nor decreasing the glucose concentrations.\n"
   ]
  },
  {
   "cell_type": "markdown",
   "metadata": {},
   "source": [
    "# Changing to a medium composition that mimicks YPD medium\n",
    "\n",
    "For further medium optimization we will now look into changing the medium composition from the standard minimal medium of the model to the complete medium for yeast growth YPD medium also known as YPED medium. \n",
    "The composition of the mimicking media has been obtained by using a glucose uptake of 5 mmol gDW<sup>-1</sup> h<sup>-1</sup> and mimicking a 1% concentration of yeast extract with concentrations found from [1] and adjusted accordingly."
   ]
  },
  {
   "cell_type": "code",
   "execution_count": 67,
   "metadata": {},
   "outputs": [
    {
     "name": "stdout",
     "output_type": "stream",
     "text": [
      "Maximal growth with YPD media: 0.7366856920674737 gDW h^-1\n",
      "Maximal theoretical production of beta-farnesene with YPD media: 1.6073361629778653 mmol gDW^-1 h^-1\n",
      "Theoretical maximum yield of beta-farnesene on YPD media: 0.3214672325955719 mmol-BF mmol-glc^-1\n"
     ]
    }
   ],
   "source": [
    "YPD_components = ['Glucose', 'Alanine', 'Arginine', 'Aspartic', 'Cysteine', 'Glutamine', 'Glycine', 'Histidine', 'Isoleucine',\n",
    "                  'Leucine', 'Lysine', 'Methionine', 'Phenylalanine', 'Proline', 'Serine', 'Threonine', 'Tryptophan',\n",
    "                  'Tyrosine', 'Valine', 'Zinc', 'FE2']\n",
    "\n",
    "YPD_medium = model.medium\n",
    "\n",
    "YPD_medium['r_1714'] = 5\n",
    "YPD_medium['r_1873'] = 0.44\n",
    "YPD_medium['r_1879'] = 0.25\n",
    "YPD_medium['r_1881'] = 0.49\n",
    "YPD_medium['r_1883'] = 0.04\n",
    "YPD_medium['r_1891'] = 0.81\n",
    "YPD_medium['r_1810'] = 0.24\n",
    "YPD_medium['r_1893'] = 0.10\n",
    "YPD_medium['r_1897'] = 0.27\n",
    "YPD_medium['r_1899'] = 0.38\n",
    "YPD_medium['r_1900'] = 0.40\n",
    "YPD_medium['r_1902'] = 0.09\n",
    "YPD_medium['r_1903'] = 0.23\n",
    "YPD_medium['r_1904'] = 0.20\n",
    "YPD_medium['r_1906'] = 0.23\n",
    "YPD_medium['r_1911'] = 0.21\n",
    "YPD_medium['r_1912'] = 0.14\n",
    "YPD_medium['r_1913'] = 0.06\n",
    "YPD_medium['r_1914'] = 0.29\n",
    "YPD_medium['r_4596'] = 0.00056\n",
    "YPD_medium['r_1861'] = 0.0005\n",
    "\n",
    "model.objective = model.reactions.r_2111\n",
    "model.medium = YPD_medium\n",
    "with model:\n",
    "      YPD_growth = model.optimize().objective_value\n",
    "      model.objective = model.reactions.BFD\n",
    "      YPD_productivity = model.optimize().objective_value\n",
    "      print('Maximal growth with YPD media:', YPD_growth, 'gDW h^-1')\n",
    "      print('Maximal theoretical production of beta-farnesene with YPD media:', YPD_productivity, 'mmol gDW^-1 h^-1')\n",
    "      print('Theoretical maximum yield of beta-farnesene on YPD media:', \n",
    "            model.optimize().objective_value / (-1*model.reactions.r_1714.flux), 'mmol-BF mmol-glc^-1')\n",
    "   "
   ]
  },
  {
   "cell_type": "code",
   "execution_count": null,
   "metadata": {},
   "outputs": [],
   "source": []
  },
  {
   "cell_type": "markdown",
   "metadata": {},
   "source": [
    "# Testing different carbon sources for optimal production"
   ]
  },
  {
   "cell_type": "code",
   "execution_count": 68,
   "metadata": {},
   "outputs": [],
   "source": [
    "model_medium = model.medium\n",
    "productivity = []\n",
    "reaction_name = []\n",
    "theoretical_yield = []\n",
    "theoretical_yield_c_mol = []\n",
    "theoretical_yield_c_mol_conversion = [5, 6, 6, 6, 6, 5, 5, 5, 4, 6, 12, 12, 18, 12, 12, 6, 12, 6, 18, 6, 6, 6]\n",
    "\n",
    "with model:\n",
    "   for reac in model.exchanges.query('ose','name'):\n",
    "      medium = model_medium\n",
    "      medium['r_1714'] = 0\n",
    "      medium[reac.id] = 5\n",
    "      model.medium = medium\n",
    "      model.objective = model.reactions.BFD\n",
    "      productivity.append(model.optimize().objective_value)\n",
    "      reaction_name.append(reac.name)\n",
    "      if reac.flux != 0:\n",
    "         theoretical_yield.append(model.optimize().objective_value / (-1 * reac.flux))\n",
    "         theoretical_yield_c_mol.append((model.optimize().objective_value * 15 / (-1 * reac.flux*theoretical_yield_c_mol_conversion[model.exchanges.query('ose','name').index(reac)-1])))\n",
    "      else:\n",
    "         theoretical_yield.append(0)\n",
    "         theoretical_yield_c_mol.append(0)\n",
    "      medium[reac.id] = 0\n",
    "      model.medium = medium\n",
    "\n",
    "\n"
   ]
  },
  {
   "cell_type": "code",
   "execution_count": 69,
   "metadata": {},
   "outputs": [
    {
     "name": "stdout",
     "output_type": "stream",
     "text": [
      "|    | Carbon source                  |   Theoretical productivity of Beta-farnesene |   Theoretical yield |   Theoretical yield in cmol |\n",
      "|---:|:-------------------------------|---------------------------------------------:|--------------------:|----------------------------:|\n",
      "|  0 | trehalose exchange             |                                      2.78051 |            0.556101 |                    1.39025  |\n",
      "|  6 | D-ribose exchange              |                                      1.41019 |            0.282038 |                    0.846115 |\n",
      "|  9 | L-homoserine exchange          |                                      1.12377 |            0.224755 |                    0.84283  |\n",
      "|  1 | D-arabinose exchange           |                                      1.37477 |            0.274955 |                    0.824865 |\n",
      "|  7 | D-xylose exchange              |                                      1.37477 |            0.274955 |                    0.824865 |\n",
      "| 18 | D-glucose 6-phosphate exchange |                                      1.64131 |            0.328262 |                    0.820655 |\n",
      "| 22 | D-mannose 1-phosphate exchange |                                      1.64131 |            0.328262 |                    0.820655 |\n",
      "| 20 | D-glucose 1-phosphate exchange |                                      1.64131 |            0.328262 |                    0.820655 |\n",
      "| 21 | D-mannose 6-phosphate exchange |                                      1.64131 |            0.328262 |                    0.820655 |\n",
      "| 16 | D-tagatose exchange            |                                      1.60734 |            0.321467 |                    0.803668 |\n",
      "|  4 | D-glucose exchange             |                                      1.60734 |            0.321467 |                    0.803668 |\n",
      "|  2 | D-fructose exchange            |                                      1.60734 |            0.321467 |                    0.803668 |\n",
      "|  8 | L-arabinose exchange           |                                      1.33814 |            0.267629 |                    0.802886 |\n",
      "|  5 | D-mannose exchange             |                                      1.59979 |            0.319957 |                    0.799893 |\n",
      "|  3 | D-galactose exchange           |                                      1.59979 |            0.319957 |                    0.799893 |\n"
     ]
    }
   ],
   "source": [
    "productivity_on_carbon_sources = pd.DataFrame({'Carbon source': reaction_name,\n",
    "   'Theoretical productivity of Beta-farnesene': productivity, 'Theoretical yield': theoretical_yield,\n",
    "   'Theoretical yield in cmol':theoretical_yield_c_mol})\n",
    "print(productivity_on_carbon_sources.sort_values(by='Theoretical yield in cmol', ascending = False).head(15).to_markdown())\n"
   ]
  },
  {
   "cell_type": "code",
   "execution_count": 70,
   "metadata": {},
   "outputs": [
    {
     "name": "stdout",
     "output_type": "stream",
     "text": [
      "|    | Carbon source                                        |   Theoretical productivity of Beta-farnesene |   Theoretical yield |   Theoretical yield in cmol |\n",
      "|---:|:-----------------------------------------------------|---------------------------------------------:|--------------------:|----------------------------:|\n",
      "| 19 | alpha-maltotriose exchange                           |                                      3.95854 |            0.791709 |                    0.659757 |\n",
      "| 12 | sucrose exchange                                     |                                      2.78784 |            0.557569 |                    0.696961 |\n",
      "| 17 | turanose exchange                                    |                                      2.78784 |            0.557569 |                    0.696961 |\n",
      "|  0 | trehalose exchange                                   |                                      2.78051 |            0.556101 |                    1.39025  |\n",
      "| 11 | maltose exchange                                     |                                      2.78051 |            0.556101 |                    0.695127 |\n",
      "| 15 | 6-O-alpha-D-glucopyranosyl-D-fructofuranose exchange |                                      2.78051 |            0.556101 |                    0.695127 |\n",
      "| 18 | D-glucose 6-phosphate exchange                       |                                      1.64131 |            0.328262 |                    0.820655 |\n",
      "| 22 | D-mannose 1-phosphate exchange                       |                                      1.64131 |            0.328262 |                    0.820655 |\n",
      "| 21 | D-mannose 6-phosphate exchange                       |                                      1.64131 |            0.328262 |                    0.820655 |\n",
      "| 20 | D-glucose 1-phosphate exchange                       |                                      1.64131 |            0.328262 |                    0.820655 |\n",
      "| 16 | D-tagatose exchange                                  |                                      1.60734 |            0.321467 |                    0.803668 |\n",
      "|  4 | D-glucose exchange                                   |                                      1.60734 |            0.321467 |                    0.803668 |\n",
      "| 13 | raffinose exchange                                   |                                      1.60734 |            0.321467 |                    0.267889 |\n",
      "|  2 | D-fructose exchange                                  |                                      1.60734 |            0.321467 |                    0.803668 |\n",
      "|  5 | D-mannose exchange                                   |                                      1.59979 |            0.319957 |                    0.799893 |\n"
     ]
    }
   ],
   "source": [
    "print(productivity_on_carbon_sources.sort_values(by='Theoretical productivity of Beta-farnesene', ascending = False).head(15).to_markdown())"
   ]
  },
  {
   "cell_type": "code",
   "execution_count": null,
   "metadata": {},
   "outputs": [],
   "source": []
  },
  {
   "cell_type": "code",
   "execution_count": 48,
   "metadata": {},
   "outputs": [
    {
     "name": "stdout",
     "output_type": "stream",
     "text": [
      "trehalose exchange\n",
      "r_1650\n",
      "D-arabinose exchange\n",
      "r_1706\n",
      "D-fructose exchange\n",
      "r_1709\n",
      "D-galactose exchange\n",
      "r_1710\n",
      "D-glucose exchange\n",
      "r_1714\n",
      "D-mannose exchange\n",
      "r_1715\n",
      "D-ribose exchange\n",
      "r_1716\n",
      "D-xylose exchange\n",
      "r_1718\n",
      "L-arabinose exchange\n",
      "r_1878\n",
      "L-homoserine exchange\n",
      "r_1896\n",
      "L-sorbose exchange\n",
      "r_1909\n",
      "maltose exchange\n",
      "r_1931\n",
      "sucrose exchange\n",
      "r_2058\n",
      "raffinose exchange\n",
      "r_4043\n",
      "melibiose exchange\n",
      "r_4044\n",
      "6-O-alpha-D-glucopyranosyl-D-fructofuranose exchange\n",
      "r_4498\n",
      "D-tagatose exchange\n",
      "r_4500\n",
      "turanose exchange\n",
      "r_4501\n",
      "D-glucose 6-phosphate exchange\n",
      "r_4502\n",
      "alpha-maltotriose exchange\n",
      "r_4503\n",
      "D-glucose 1-phosphate exchange\n",
      "r_4504\n",
      "D-mannose 6-phosphate exchange\n",
      "r_4539\n",
      "D-mannose 1-phosphate exchange\n",
      "r_4547\n"
     ]
    }
   ],
   "source": [
    "for reac in model.exchanges.query('ose','name'):\n",
    "   print(reac.name)\n",
    "   print(reac.id)"
   ]
  },
  {
   "cell_type": "markdown",
   "metadata": {},
   "source": [
    "# Saving the model with new medium composition (YPD medium)"
   ]
  },
  {
   "cell_type": "code",
   "execution_count": 26,
   "metadata": {},
   "outputs": [],
   "source": [
    "# This code saves the changes to the model and we now have a model that has a the heterologous pathway for \n",
    "# beta-farnesene production as well as a demand reaction for cytoplasmic beta-farnesene\n",
    "\n",
    "write_sbml_model(model,\n",
    "                 filename = '/Users/wagner/github-classroom/27410/group-assingment-team-4/yeast-GEM-8.7.0/model/yeast-GEM3.xml'\n",
    "                 )  \n",
    "#saving the model"
   ]
  },
  {
   "cell_type": "markdown",
   "metadata": {},
   "source": [
    "# references"
   ]
  },
  {
   "cell_type": "markdown",
   "metadata": {},
   "source": [
    "[1] Yeast Extracts: Nutritional and Flavoring Food Ingredients, <i>CS Food Sci. Technol</di>. 2021, 1, 4, 487–494\n",
    "Publication Date:April 28, 2021\n",
    "https://doi.org/10.1021/acsfoodscitech.0c00131"
   ]
  }
 ],
 "metadata": {
  "kernelspec": {
   "display_name": "base",
   "language": "python",
   "name": "python3"
  },
  "language_info": {
   "codemirror_mode": {
    "name": "ipython",
    "version": 3
   },
   "file_extension": ".py",
   "mimetype": "text/x-python",
   "name": "python",
   "nbconvert_exporter": "python",
   "pygments_lexer": "ipython3",
   "version": "3.11.4"
  },
  "orig_nbformat": 4
 },
 "nbformat": 4,
 "nbformat_minor": 2
}
